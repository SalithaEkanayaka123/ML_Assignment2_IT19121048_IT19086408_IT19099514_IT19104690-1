{
 "cells": [
  {
   "cell_type": "code",
   "execution_count": 300,
   "metadata": {
    "collapsed": true,
    "pycharm": {
     "name": "#%%\n"
    }
   },
   "outputs": [],
   "source": [
    "import pandas as pd\n",
    "import numpy as np\n",
    "import seaborn as sn\n",
    "import matplotlib.pyplot as plt\n",
    "%matplotlib inline"
   ]
  },
  {
   "cell_type": "code",
   "execution_count": 301,
   "outputs": [
    {
     "data": {
      "text/plain": "   Unnamed: 0 Company   TypeName  Inches                    ScreenResolution  \\\n0           0   Apple  Ultrabook    13.3  IPS Panel Retina Display 2560x1600   \n1           1   Apple  Ultrabook    13.3                            1440x900   \n2           2      HP   Notebook    15.6                   Full HD 1920x1080   \n3           3   Apple  Ultrabook    15.4  IPS Panel Retina Display 2880x1800   \n4           4   Apple  Ultrabook    13.3  IPS Panel Retina Display 2560x1600   \n\n                          Cpu   Ram               Memory  \\\n0        Intel Core i5 2.3GHz   8GB            128GB SSD   \n1        Intel Core i5 1.8GHz   8GB  128GB Flash Storage   \n2  Intel Core i5 7200U 2.5GHz   8GB            256GB SSD   \n3        Intel Core i7 2.7GHz  16GB            512GB SSD   \n4        Intel Core i5 3.1GHz   8GB            256GB SSD   \n\n                            Gpu  OpSys  Weight        Price  \n0  Intel Iris Plus Graphics 640  macOS  1.37kg   71378.6832  \n1        Intel HD Graphics 6000  macOS  1.34kg   47895.5232  \n2         Intel HD Graphics 620  No OS  1.86kg   30636.0000  \n3            AMD Radeon Pro 455  macOS  1.83kg  135195.3360  \n4  Intel Iris Plus Graphics 650  macOS  1.37kg   96095.8080  ",
      "text/html": "<div>\n<style scoped>\n    .dataframe tbody tr th:only-of-type {\n        vertical-align: middle;\n    }\n\n    .dataframe tbody tr th {\n        vertical-align: top;\n    }\n\n    .dataframe thead th {\n        text-align: right;\n    }\n</style>\n<table border=\"1\" class=\"dataframe\">\n  <thead>\n    <tr style=\"text-align: right;\">\n      <th></th>\n      <th>Unnamed: 0</th>\n      <th>Company</th>\n      <th>TypeName</th>\n      <th>Inches</th>\n      <th>ScreenResolution</th>\n      <th>Cpu</th>\n      <th>Ram</th>\n      <th>Memory</th>\n      <th>Gpu</th>\n      <th>OpSys</th>\n      <th>Weight</th>\n      <th>Price</th>\n    </tr>\n  </thead>\n  <tbody>\n    <tr>\n      <th>0</th>\n      <td>0</td>\n      <td>Apple</td>\n      <td>Ultrabook</td>\n      <td>13.3</td>\n      <td>IPS Panel Retina Display 2560x1600</td>\n      <td>Intel Core i5 2.3GHz</td>\n      <td>8GB</td>\n      <td>128GB SSD</td>\n      <td>Intel Iris Plus Graphics 640</td>\n      <td>macOS</td>\n      <td>1.37kg</td>\n      <td>71378.6832</td>\n    </tr>\n    <tr>\n      <th>1</th>\n      <td>1</td>\n      <td>Apple</td>\n      <td>Ultrabook</td>\n      <td>13.3</td>\n      <td>1440x900</td>\n      <td>Intel Core i5 1.8GHz</td>\n      <td>8GB</td>\n      <td>128GB Flash Storage</td>\n      <td>Intel HD Graphics 6000</td>\n      <td>macOS</td>\n      <td>1.34kg</td>\n      <td>47895.5232</td>\n    </tr>\n    <tr>\n      <th>2</th>\n      <td>2</td>\n      <td>HP</td>\n      <td>Notebook</td>\n      <td>15.6</td>\n      <td>Full HD 1920x1080</td>\n      <td>Intel Core i5 7200U 2.5GHz</td>\n      <td>8GB</td>\n      <td>256GB SSD</td>\n      <td>Intel HD Graphics 620</td>\n      <td>No OS</td>\n      <td>1.86kg</td>\n      <td>30636.0000</td>\n    </tr>\n    <tr>\n      <th>3</th>\n      <td>3</td>\n      <td>Apple</td>\n      <td>Ultrabook</td>\n      <td>15.4</td>\n      <td>IPS Panel Retina Display 2880x1800</td>\n      <td>Intel Core i7 2.7GHz</td>\n      <td>16GB</td>\n      <td>512GB SSD</td>\n      <td>AMD Radeon Pro 455</td>\n      <td>macOS</td>\n      <td>1.83kg</td>\n      <td>135195.3360</td>\n    </tr>\n    <tr>\n      <th>4</th>\n      <td>4</td>\n      <td>Apple</td>\n      <td>Ultrabook</td>\n      <td>13.3</td>\n      <td>IPS Panel Retina Display 2560x1600</td>\n      <td>Intel Core i5 3.1GHz</td>\n      <td>8GB</td>\n      <td>256GB SSD</td>\n      <td>Intel Iris Plus Graphics 650</td>\n      <td>macOS</td>\n      <td>1.37kg</td>\n      <td>96095.8080</td>\n    </tr>\n  </tbody>\n</table>\n</div>"
     },
     "execution_count": 301,
     "metadata": {},
     "output_type": "execute_result"
    }
   ],
   "source": [
    "df = pd.read_csv('laptop_data.csv')\n",
    "df.head()"
   ],
   "metadata": {
    "collapsed": false,
    "pycharm": {
     "name": "#%%\n"
    }
   }
  },
  {
   "cell_type": "code",
   "execution_count": 302,
   "outputs": [
    {
     "data": {
      "text/plain": "Index(['Unnamed: 0', 'Company', 'TypeName', 'Inches', 'ScreenResolution',\n       'Cpu', 'Ram', 'Memory', 'Gpu', 'OpSys', 'Weight', 'Price'],\n      dtype='object')"
     },
     "execution_count": 302,
     "metadata": {},
     "output_type": "execute_result"
    }
   ],
   "source": [
    "df.columns"
   ],
   "metadata": {
    "collapsed": false,
    "pycharm": {
     "name": "#%%\n"
    }
   }
  },
  {
   "cell_type": "code",
   "execution_count": 303,
   "outputs": [
    {
     "data": {
      "text/plain": "  Company   TypeName  Inches                    ScreenResolution  \\\n0   Apple  Ultrabook    13.3  IPS Panel Retina Display 2560x1600   \n1   Apple  Ultrabook    13.3                            1440x900   \n2      HP   Notebook    15.6                   Full HD 1920x1080   \n3   Apple  Ultrabook    15.4  IPS Panel Retina Display 2880x1800   \n4   Apple  Ultrabook    13.3  IPS Panel Retina Display 2560x1600   \n\n                          Cpu   Ram               Memory  \\\n0        Intel Core i5 2.3GHz   8GB            128GB SSD   \n1        Intel Core i5 1.8GHz   8GB  128GB Flash Storage   \n2  Intel Core i5 7200U 2.5GHz   8GB            256GB SSD   \n3        Intel Core i7 2.7GHz  16GB            512GB SSD   \n4        Intel Core i5 3.1GHz   8GB            256GB SSD   \n\n                            Gpu  OpSys  Weight        Price  \n0  Intel Iris Plus Graphics 640  macOS  1.37kg   71378.6832  \n1        Intel HD Graphics 6000  macOS  1.34kg   47895.5232  \n2         Intel HD Graphics 620  No OS  1.86kg   30636.0000  \n3            AMD Radeon Pro 455  macOS  1.83kg  135195.3360  \n4  Intel Iris Plus Graphics 650  macOS  1.37kg   96095.8080  ",
      "text/html": "<div>\n<style scoped>\n    .dataframe tbody tr th:only-of-type {\n        vertical-align: middle;\n    }\n\n    .dataframe tbody tr th {\n        vertical-align: top;\n    }\n\n    .dataframe thead th {\n        text-align: right;\n    }\n</style>\n<table border=\"1\" class=\"dataframe\">\n  <thead>\n    <tr style=\"text-align: right;\">\n      <th></th>\n      <th>Company</th>\n      <th>TypeName</th>\n      <th>Inches</th>\n      <th>ScreenResolution</th>\n      <th>Cpu</th>\n      <th>Ram</th>\n      <th>Memory</th>\n      <th>Gpu</th>\n      <th>OpSys</th>\n      <th>Weight</th>\n      <th>Price</th>\n    </tr>\n  </thead>\n  <tbody>\n    <tr>\n      <th>0</th>\n      <td>Apple</td>\n      <td>Ultrabook</td>\n      <td>13.3</td>\n      <td>IPS Panel Retina Display 2560x1600</td>\n      <td>Intel Core i5 2.3GHz</td>\n      <td>8GB</td>\n      <td>128GB SSD</td>\n      <td>Intel Iris Plus Graphics 640</td>\n      <td>macOS</td>\n      <td>1.37kg</td>\n      <td>71378.6832</td>\n    </tr>\n    <tr>\n      <th>1</th>\n      <td>Apple</td>\n      <td>Ultrabook</td>\n      <td>13.3</td>\n      <td>1440x900</td>\n      <td>Intel Core i5 1.8GHz</td>\n      <td>8GB</td>\n      <td>128GB Flash Storage</td>\n      <td>Intel HD Graphics 6000</td>\n      <td>macOS</td>\n      <td>1.34kg</td>\n      <td>47895.5232</td>\n    </tr>\n    <tr>\n      <th>2</th>\n      <td>HP</td>\n      <td>Notebook</td>\n      <td>15.6</td>\n      <td>Full HD 1920x1080</td>\n      <td>Intel Core i5 7200U 2.5GHz</td>\n      <td>8GB</td>\n      <td>256GB SSD</td>\n      <td>Intel HD Graphics 620</td>\n      <td>No OS</td>\n      <td>1.86kg</td>\n      <td>30636.0000</td>\n    </tr>\n    <tr>\n      <th>3</th>\n      <td>Apple</td>\n      <td>Ultrabook</td>\n      <td>15.4</td>\n      <td>IPS Panel Retina Display 2880x1800</td>\n      <td>Intel Core i7 2.7GHz</td>\n      <td>16GB</td>\n      <td>512GB SSD</td>\n      <td>AMD Radeon Pro 455</td>\n      <td>macOS</td>\n      <td>1.83kg</td>\n      <td>135195.3360</td>\n    </tr>\n    <tr>\n      <th>4</th>\n      <td>Apple</td>\n      <td>Ultrabook</td>\n      <td>13.3</td>\n      <td>IPS Panel Retina Display 2560x1600</td>\n      <td>Intel Core i5 3.1GHz</td>\n      <td>8GB</td>\n      <td>256GB SSD</td>\n      <td>Intel Iris Plus Graphics 650</td>\n      <td>macOS</td>\n      <td>1.37kg</td>\n      <td>96095.8080</td>\n    </tr>\n  </tbody>\n</table>\n</div>"
     },
     "execution_count": 303,
     "metadata": {},
     "output_type": "execute_result"
    }
   ],
   "source": [
    "# removing the unnamed: 0 col\n",
    "\n",
    "df = df[['Company', 'TypeName', 'Inches', 'ScreenResolution',\n",
    "       'Cpu', 'Ram', 'Memory', 'Gpu', 'OpSys', 'Weight', 'Price']]\n",
    "df.head()"
   ],
   "metadata": {
    "collapsed": false,
    "pycharm": {
     "name": "#%%\n"
    }
   }
  },
  {
   "cell_type": "code",
   "execution_count": 304,
   "outputs": [
    {
     "data": {
      "text/plain": "Company             0\nTypeName            0\nInches              0\nScreenResolution    0\nCpu                 0\nRam                 0\nMemory              0\nGpu                 0\nOpSys               0\nWeight              0\nPrice               0\ndtype: int64"
     },
     "execution_count": 304,
     "metadata": {},
     "output_type": "execute_result"
    }
   ],
   "source": [
    "df.isnull().sum()"
   ],
   "metadata": {
    "collapsed": false,
    "pycharm": {
     "name": "#%%\n"
    }
   }
  },
  {
   "cell_type": "code",
   "execution_count": 305,
   "outputs": [
    {
     "data": {
      "text/plain": "29"
     },
     "execution_count": 305,
     "metadata": {},
     "output_type": "execute_result"
    }
   ],
   "source": [
    "# checking for duplicated rows\n",
    "\n",
    "df.duplicated().sum()"
   ],
   "metadata": {
    "collapsed": false,
    "pycharm": {
     "name": "#%%\n"
    }
   }
  },
  {
   "cell_type": "code",
   "execution_count": 306,
   "outputs": [
    {
     "name": "stdout",
     "output_type": "stream",
     "text": [
      "<class 'pandas.core.frame.DataFrame'>\n",
      "RangeIndex: 1303 entries, 0 to 1302\n",
      "Data columns (total 11 columns):\n",
      " #   Column            Non-Null Count  Dtype  \n",
      "---  ------            --------------  -----  \n",
      " 0   Company           1303 non-null   object \n",
      " 1   TypeName          1303 non-null   object \n",
      " 2   Inches            1303 non-null   float64\n",
      " 3   ScreenResolution  1303 non-null   object \n",
      " 4   Cpu               1303 non-null   object \n",
      " 5   Ram               1303 non-null   object \n",
      " 6   Memory            1303 non-null   object \n",
      " 7   Gpu               1303 non-null   object \n",
      " 8   OpSys             1303 non-null   object \n",
      " 9   Weight            1303 non-null   object \n",
      " 10  Price             1303 non-null   float64\n",
      "dtypes: float64(2), object(9)\n",
      "memory usage: 112.1+ KB\n"
     ]
    }
   ],
   "source": [
    "df.info()"
   ],
   "metadata": {
    "collapsed": false,
    "pycharm": {
     "name": "#%%\n"
    }
   }
  },
  {
   "cell_type": "code",
   "execution_count": 307,
   "outputs": [
    {
     "data": {
      "text/plain": "(Index(['Company', 'TypeName', 'ScreenResolution', 'Cpu', 'Ram', 'Memory',\n        'Gpu', 'OpSys', 'Weight'],\n       dtype='object'),\n Index(['Inches', 'Price'], dtype='object'))"
     },
     "execution_count": 307,
     "metadata": {},
     "output_type": "execute_result"
    }
   ],
   "source": [
    "catvars = df.select_dtypes(include=['object']).columns\n",
    "numvars = df.select_dtypes(include = ['int32','int64','float32','float64']).columns\n",
    "\n",
    "catvars,numvars"
   ],
   "metadata": {
    "collapsed": false,
    "pycharm": {
     "name": "#%%\n"
    }
   }
  },
  {
   "cell_type": "code",
   "execution_count": 308,
   "outputs": [
    {
     "name": "stdout",
     "output_type": "stream",
     "text": [
      "Details of the particular col Company is : ['Apple' 'HP' 'Acer' 'Asus' 'Dell' 'Lenovo' 'Chuwi' 'MSI' 'Microsoft'\n",
      " 'Toshiba' 'Huawei' 'Xiaomi' 'Vero' 'Razer' 'Mediacom' 'Samsung' 'Google'\n",
      " 'Fujitsu' 'LG']\n",
      "---------------------------------------------------------------------------\n",
      "Details of the particular col TypeName is : ['Ultrabook' 'Notebook' 'Netbook' 'Gaming' '2 in 1 Convertible'\n",
      " 'Workstation']\n",
      "---------------------------------------------------------------------------\n",
      "Details of the particular col Inches is : [13.3 15.6 15.4 14.  12.  11.6 17.3 10.1 13.5 12.5 13.  18.4 13.9 12.3\n",
      " 17.  15.  14.1 11.3]\n",
      "---------------------------------------------------------------------------\n",
      "Details of the particular col ScreenResolution is : ['IPS Panel Retina Display 2560x1600' '1440x900' 'Full HD 1920x1080'\n",
      " 'IPS Panel Retina Display 2880x1800' '1366x768'\n",
      " 'IPS Panel Full HD 1920x1080' 'IPS Panel Retina Display 2304x1440'\n",
      " 'IPS Panel Full HD / Touchscreen 1920x1080'\n",
      " 'Full HD / Touchscreen 1920x1080' 'Touchscreen / Quad HD+ 3200x1800'\n",
      " 'IPS Panel Touchscreen 1920x1200' 'Touchscreen 2256x1504'\n",
      " 'Quad HD+ / Touchscreen 3200x1800' 'IPS Panel 1366x768'\n",
      " 'IPS Panel 4K Ultra HD / Touchscreen 3840x2160'\n",
      " 'IPS Panel Full HD 2160x1440' '4K Ultra HD / Touchscreen 3840x2160'\n",
      " 'Touchscreen 2560x1440' '1600x900' 'IPS Panel 4K Ultra HD 3840x2160'\n",
      " '4K Ultra HD 3840x2160' 'Touchscreen 1366x768'\n",
      " 'IPS Panel Full HD 1366x768' 'IPS Panel 2560x1440'\n",
      " 'IPS Panel Full HD 2560x1440' 'IPS Panel Retina Display 2736x1824'\n",
      " 'Touchscreen 2400x1600' '2560x1440' 'IPS Panel Quad HD+ 2560x1440'\n",
      " 'IPS Panel Quad HD+ 3200x1800'\n",
      " 'IPS Panel Quad HD+ / Touchscreen 3200x1800'\n",
      " 'IPS Panel Touchscreen 1366x768' '1920x1080'\n",
      " 'IPS Panel Full HD 1920x1200'\n",
      " 'IPS Panel Touchscreen / 4K Ultra HD 3840x2160'\n",
      " 'IPS Panel Touchscreen 2560x1440' 'Touchscreen / Full HD 1920x1080'\n",
      " 'Quad HD+ 3200x1800' 'Touchscreen / 4K Ultra HD 3840x2160'\n",
      " 'IPS Panel Touchscreen 2400x1600']\n",
      "---------------------------------------------------------------------------\n",
      "Details of the particular col Cpu is : ['Intel Core i5 2.3GHz' 'Intel Core i5 1.8GHz'\n",
      " 'Intel Core i5 7200U 2.5GHz' 'Intel Core i7 2.7GHz'\n",
      " 'Intel Core i5 3.1GHz' 'AMD A9-Series 9420 3GHz' 'Intel Core i7 2.2GHz'\n",
      " 'Intel Core i7 8550U 1.8GHz' 'Intel Core i5 8250U 1.6GHz'\n",
      " 'Intel Core i3 6006U 2GHz' 'Intel Core i7 2.8GHz'\n",
      " 'Intel Core M m3 1.2GHz' 'Intel Core i7 7500U 2.7GHz'\n",
      " 'Intel Core i7 2.9GHz' 'Intel Core i3 7100U 2.4GHz'\n",
      " 'Intel Atom x5-Z8350 1.44GHz' 'Intel Core i5 7300HQ 2.5GHz'\n",
      " 'AMD E-Series E2-9000e 1.5GHz' 'Intel Core i5 1.6GHz'\n",
      " 'Intel Core i7 8650U 1.9GHz' 'Intel Atom x5-Z8300 1.44GHz'\n",
      " 'AMD E-Series E2-6110 1.5GHz' 'AMD A6-Series 9220 2.5GHz'\n",
      " 'Intel Celeron Dual Core N3350 1.1GHz' 'Intel Core i3 7130U 2.7GHz'\n",
      " 'Intel Core i7 7700HQ 2.8GHz' 'Intel Core i5 2.0GHz'\n",
      " 'AMD Ryzen 1700 3GHz' 'Intel Pentium Quad Core N4200 1.1GHz'\n",
      " 'Intel Atom x5-Z8550 1.44GHz' 'Intel Celeron Dual Core N3060 1.6GHz'\n",
      " 'Intel Core i5 1.3GHz' 'AMD FX 9830P 3GHz' 'Intel Core i7 7560U 2.4GHz'\n",
      " 'AMD E-Series 6110 1.5GHz' 'Intel Core i5 6200U 2.3GHz'\n",
      " 'Intel Core M 6Y75 1.2GHz' 'Intel Core i5 7500U 2.7GHz'\n",
      " 'Intel Core i3 6006U 2.2GHz' 'AMD A6-Series 9220 2.9GHz'\n",
      " 'Intel Core i7 6920HQ 2.9GHz' 'Intel Core i5 7Y54 1.2GHz'\n",
      " 'Intel Core i7 7820HK 2.9GHz' 'Intel Xeon E3-1505M V6 3GHz'\n",
      " 'Intel Core i7 6500U 2.5GHz' 'AMD E-Series 9000e 1.5GHz'\n",
      " 'AMD A10-Series A10-9620P 2.5GHz' 'AMD A6-Series A6-9220 2.5GHz'\n",
      " 'Intel Core i5 2.9GHz' 'Intel Core i7 6600U 2.6GHz'\n",
      " 'Intel Core i3 6006U 2.0GHz' 'Intel Celeron Dual Core 3205U 1.5GHz'\n",
      " 'Intel Core i7 7820HQ 2.9GHz' 'AMD A10-Series 9600P 2.4GHz'\n",
      " 'Intel Core i7 7600U 2.8GHz' 'AMD A8-Series 7410 2.2GHz'\n",
      " 'Intel Celeron Dual Core 3855U 1.6GHz'\n",
      " 'Intel Pentium Quad Core N3710 1.6GHz' 'AMD A12-Series 9720P 2.7GHz'\n",
      " 'Intel Core i5 7300U 2.6GHz' 'AMD A12-Series 9720P 3.6GHz'\n",
      " 'Intel Celeron Quad Core N3450 1.1GHz'\n",
      " 'Intel Celeron Dual Core N3060 1.60GHz' 'Intel Core i5 6440HQ 2.6GHz'\n",
      " 'Intel Core i7 6820HQ 2.7GHz' 'AMD Ryzen 1600 3.2GHz'\n",
      " 'Intel Core i7 7Y75 1.3GHz' 'Intel Core i5 7440HQ 2.8GHz'\n",
      " 'Intel Core i7 7660U 2.5GHz' 'Intel Core i7 7700HQ 2.7GHz'\n",
      " 'Intel Core M m3-7Y30 2.2GHz' 'Intel Core i5 7Y57 1.2GHz'\n",
      " 'Intel Core i7 6700HQ 2.6GHz' 'Intel Core i3 6100U 2.3GHz'\n",
      " 'AMD A10-Series 9620P 2.5GHz' 'AMD E-Series 7110 1.8GHz'\n",
      " 'Intel Celeron Dual Core N3350 2.0GHz' 'AMD A9-Series A9-9420 3GHz'\n",
      " 'Intel Core i7 6820HK 2.7GHz' 'Intel Core M 7Y30 1.0GHz'\n",
      " 'Intel Xeon E3-1535M v6 3.1GHz' 'Intel Celeron Quad Core N3160 1.6GHz'\n",
      " 'Intel Core i5 6300U 2.4GHz' 'Intel Core i3 6100U 2.1GHz'\n",
      " 'AMD E-Series E2-9000 2.2GHz' 'Intel Celeron Dual Core N3050 1.6GHz'\n",
      " 'Intel Core M M3-6Y30 0.9GHz' 'AMD A9-Series 9420 2.9GHz'\n",
      " 'Intel Core i5 6300HQ 2.3GHz' 'AMD A6-Series 7310 2GHz'\n",
      " 'Intel Atom Z8350 1.92GHz' 'Intel Xeon E3-1535M v5 2.9GHz'\n",
      " 'Intel Core i5 6260U 1.8GHz' 'Intel Pentium Dual Core N4200 1.1GHz'\n",
      " 'Intel Celeron Quad Core N3710 1.6GHz' 'Intel Core M 1.2GHz'\n",
      " 'AMD A12-Series 9700P 2.5GHz' 'Intel Core i7 7500U 2.5GHz'\n",
      " 'Intel Pentium Dual Core 4405U 2.1GHz' 'AMD A4-Series 7210 2.2GHz'\n",
      " 'Intel Core i7 6560U 2.2GHz' 'Intel Core M m7-6Y75 1.2GHz'\n",
      " 'AMD FX 8800P 2.1GHz' 'Intel Core M M7-6Y75 1.2GHz'\n",
      " 'Intel Core i5 7200U 2.50GHz' 'Intel Core i5 7200U 2.70GHz'\n",
      " 'Intel Atom X5-Z8350 1.44GHz' 'Intel Core i5 7200U 2.7GHz'\n",
      " 'Intel Core M 1.1GHz' 'Intel Pentium Dual Core 4405Y 1.5GHz'\n",
      " 'Intel Pentium Quad Core N3700 1.6GHz' 'Intel Core M 6Y54 1.1GHz'\n",
      " 'Intel Core i7 6500U 2.50GHz' 'Intel Celeron Dual Core N3350 2GHz'\n",
      " 'Samsung Cortex A72&A53 2.0GHz' 'AMD E-Series 9000 2.2GHz'\n",
      " 'Intel Core M 6Y30 0.9GHz' 'AMD A9-Series 9410 2.9GHz']\n",
      "---------------------------------------------------------------------------\n",
      "Details of the particular col Ram is : ['8GB' '16GB' '4GB' '2GB' '12GB' '6GB' '32GB' '24GB' '64GB']\n",
      "---------------------------------------------------------------------------\n",
      "Details of the particular col Memory is : ['128GB SSD' '128GB Flash Storage' '256GB SSD' '512GB SSD' '500GB HDD'\n",
      " '256GB Flash Storage' '1TB HDD' '32GB Flash Storage'\n",
      " '128GB SSD +  1TB HDD' '256GB SSD +  256GB SSD' '64GB Flash Storage'\n",
      " '256GB SSD +  1TB HDD' '256GB SSD +  2TB HDD' '32GB SSD' '2TB HDD'\n",
      " '64GB SSD' '1.0TB Hybrid' '512GB SSD +  1TB HDD' '1TB SSD'\n",
      " '256GB SSD +  500GB HDD' '128GB SSD +  2TB HDD' '512GB SSD +  512GB SSD'\n",
      " '16GB SSD' '16GB Flash Storage' '512GB SSD +  256GB SSD'\n",
      " '512GB SSD +  2TB HDD' '64GB Flash Storage +  1TB HDD' '180GB SSD'\n",
      " '1TB HDD +  1TB HDD' '32GB HDD' '1TB SSD +  1TB HDD'\n",
      " '512GB Flash Storage' '128GB HDD' '240GB SSD' '8GB SSD' '508GB Hybrid'\n",
      " '1.0TB HDD' '512GB SSD +  1.0TB Hybrid' '256GB SSD +  1.0TB Hybrid']\n",
      "---------------------------------------------------------------------------\n",
      "Details of the particular col Gpu is : ['Intel Iris Plus Graphics 640' 'Intel HD Graphics 6000'\n",
      " 'Intel HD Graphics 620' 'AMD Radeon Pro 455'\n",
      " 'Intel Iris Plus Graphics 650' 'AMD Radeon R5' 'Intel Iris Pro Graphics'\n",
      " 'Nvidia GeForce MX150' 'Intel UHD Graphics 620' 'Intel HD Graphics 520'\n",
      " 'AMD Radeon Pro 555' 'AMD Radeon R5 M430' 'Intel HD Graphics 615'\n",
      " 'AMD Radeon Pro 560' 'Nvidia GeForce 940MX' 'Intel HD Graphics 400'\n",
      " 'Nvidia GeForce GTX 1050' 'AMD Radeon R2' 'AMD Radeon 530'\n",
      " 'Nvidia GeForce 930MX' 'Intel HD Graphics' 'Intel HD Graphics 500'\n",
      " 'Nvidia GeForce 930MX ' 'Nvidia GeForce GTX 1060' 'Nvidia GeForce 150MX'\n",
      " 'Intel Iris Graphics 540' 'AMD Radeon RX 580' 'Nvidia GeForce 920MX'\n",
      " 'AMD Radeon R4 Graphics' 'AMD Radeon 520' 'Nvidia GeForce GTX 1070'\n",
      " 'Nvidia GeForce GTX 1050 Ti' 'Nvidia GeForce MX130' 'AMD R4 Graphics'\n",
      " 'Nvidia GeForce GTX 940MX' 'AMD Radeon RX 560' 'Nvidia GeForce 920M'\n",
      " 'AMD Radeon R7 M445' 'AMD Radeon RX 550' 'Nvidia GeForce GTX 1050M'\n",
      " 'Intel HD Graphics 515' 'AMD Radeon R5 M420' 'Intel HD Graphics 505'\n",
      " 'Nvidia GTX 980 SLI' 'AMD R17M-M1-70' 'Nvidia GeForce GTX 1080'\n",
      " 'Nvidia Quadro M1200' 'Nvidia GeForce 920MX ' 'Nvidia GeForce GTX 950M'\n",
      " 'AMD FirePro W4190M ' 'Nvidia GeForce GTX 980M' 'Intel Iris Graphics 550'\n",
      " 'Nvidia GeForce 930M' 'Intel HD Graphics 630' 'AMD Radeon R5 430'\n",
      " 'Nvidia GeForce GTX 940M' 'Intel HD Graphics 510' 'Intel HD Graphics 405'\n",
      " 'AMD Radeon RX 540' 'Nvidia GeForce GT 940MX' 'AMD FirePro W5130M'\n",
      " 'Nvidia Quadro M2200M' 'AMD Radeon R4' 'Nvidia Quadro M620'\n",
      " 'AMD Radeon R7 M460' 'Intel HD Graphics 530' 'Nvidia GeForce GTX 965M'\n",
      " 'Nvidia GeForce GTX1080' 'Nvidia GeForce GTX1050 Ti'\n",
      " 'Nvidia GeForce GTX 960M' 'AMD Radeon R2 Graphics' 'Nvidia Quadro M620M'\n",
      " 'Nvidia GeForce GTX 970M' 'Nvidia GeForce GTX 960<U+039C>'\n",
      " 'Intel Graphics 620' 'Nvidia GeForce GTX 960' 'AMD Radeon R5 520'\n",
      " 'AMD Radeon R7 M440' 'AMD Radeon R7' 'Nvidia Quadro M520M'\n",
      " 'Nvidia Quadro M2200' 'Nvidia Quadro M2000M' 'Intel HD Graphics 540'\n",
      " 'Nvidia Quadro M1000M' 'AMD Radeon 540' 'Nvidia GeForce GTX 1070M'\n",
      " 'Nvidia GeForce GTX1060' 'Intel HD Graphics 5300' 'AMD Radeon R5 M420X'\n",
      " 'AMD Radeon R7 Graphics' 'Nvidia GeForce 920' 'Nvidia GeForce 940M'\n",
      " 'Nvidia GeForce GTX 930MX' 'AMD Radeon R7 M465' 'AMD Radeon R3'\n",
      " 'Nvidia GeForce GTX 1050Ti' 'AMD Radeon R7 M365X' 'AMD Radeon R9 M385'\n",
      " 'Intel HD Graphics 620 ' 'Nvidia Quadro 3000M' 'Nvidia GeForce GTX 980 '\n",
      " 'AMD Radeon R5 M330' 'AMD FirePro W4190M' 'AMD FirePro W6150M'\n",
      " 'AMD Radeon R5 M315' 'Nvidia Quadro M500M' 'AMD Radeon R7 M360'\n",
      " 'Nvidia Quadro M3000M' 'Nvidia GeForce 960M' 'ARM Mali T860 MP4']\n",
      "---------------------------------------------------------------------------\n",
      "Details of the particular col OpSys is : ['macOS' 'No OS' 'Windows 10' 'Mac OS X' 'Linux' 'Android' 'Windows 10 S'\n",
      " 'Chrome OS' 'Windows 7']\n",
      "---------------------------------------------------------------------------\n",
      "Details of the particular col Weight is : ['1.37kg' '1.34kg' '1.86kg' '1.83kg' '2.1kg' '2.04kg' '1.3kg' '1.6kg'\n",
      " '2.2kg' '0.92kg' '1.22kg' '0.98kg' '2.5kg' '1.62kg' '1.91kg' '2.3kg'\n",
      " '1.35kg' '1.88kg' '1.89kg' '1.65kg' '2.71kg' '1.2kg' '1.44kg' '2.8kg'\n",
      " '2kg' '2.65kg' '2.77kg' '3.2kg' '0.69kg' '1.49kg' '2.4kg' '2.13kg'\n",
      " '2.43kg' '1.7kg' '1.4kg' '1.8kg' '1.9kg' '3kg' '1.252kg' '2.7kg' '2.02kg'\n",
      " '1.63kg' '1.96kg' '1.21kg' '2.45kg' '1.25kg' '1.5kg' '2.62kg' '1.38kg'\n",
      " '1.58kg' '1.85kg' '1.23kg' '1.26kg' '2.16kg' '2.36kg' '2.05kg' '1.32kg'\n",
      " '1.75kg' '0.97kg' '2.9kg' '2.56kg' '1.48kg' '1.74kg' '1.1kg' '1.56kg'\n",
      " '2.03kg' '1.05kg' '4.4kg' '1.90kg' '1.29kg' '2.0kg' '1.95kg' '2.06kg'\n",
      " '1.12kg' '1.42kg' '3.49kg' '3.35kg' '2.23kg' '4.42kg' '2.69kg' '2.37kg'\n",
      " '4.7kg' '3.6kg' '2.08kg' '4.3kg' '1.68kg' '1.41kg' '4.14kg' '2.18kg'\n",
      " '2.24kg' '2.67kg' '2.14kg' '1.36kg' '2.25kg' '2.15kg' '2.19kg' '2.54kg'\n",
      " '3.42kg' '1.28kg' '2.33kg' '1.45kg' '2.79kg' '1.84kg' '2.6kg' '2.26kg'\n",
      " '3.25kg' '1.59kg' '1.13kg' '1.78kg' '1.10kg' '1.15kg' '1.27kg' '1.43kg'\n",
      " '2.31kg' '1.16kg' '1.64kg' '2.17kg' '1.47kg' '3.78kg' '1.79kg' '0.91kg'\n",
      " '1.99kg' '4.33kg' '1.93kg' '1.87kg' '2.63kg' '3.4kg' '3.14kg' '1.94kg'\n",
      " '1.24kg' '4.6kg' '4.5kg' '2.73kg' '1.39kg' '2.29kg' '2.59kg' '2.94kg'\n",
      " '1.14kg' '3.8kg' '3.31kg' '1.09kg' '3.21kg' '1.19kg' '1.98kg' '1.17kg'\n",
      " '4.36kg' '1.71kg' '2.32kg' '4.2kg' '1.55kg' '0.81kg' '1.18kg' '2.72kg'\n",
      " '1.31kg' '0.920kg' '3.74kg' '1.76kg' '1.54kg' '2.83kg' '2.07kg' '2.38kg'\n",
      " '3.58kg' '1.08kg' '2.20kg' '2.75kg' '1.70kg' '2.99kg' '1.11kg' '2.09kg'\n",
      " '4kg' '3.0kg' '0.99kg' '3.52kg' '2.591kg' '2.21kg' '3.3kg' '2.191kg'\n",
      " '2.34kg' '4.0kg']\n",
      "---------------------------------------------------------------------------\n",
      "Details of the particular col Price is : [ 71378.6832  47895.5232  30636.     135195.336   96095.808   21312.\n",
      " 114017.6016  61735.536   79653.6     41025.6     20986.992   18381.0672\n",
      " 130001.6016  26581.392   67260.672   80908.344   39693.6    152274.24\n",
      "  26586.72    52161.12    10224.432   53226.72    13746.24    43636.32\n",
      "  35111.52    22305.1392  58554.72    42624.      69157.44    47738.88\n",
      "  13053.0672  10602.72    23389.92    99580.32    53173.44    13266.72\n",
      "  19553.76    26037.4032  46833.12    20725.92    79866.72    27864.9072\n",
      "  36336.96    75604.32    19660.32    69210.72    34045.92    24828.48\n",
      "  16996.32    44808.48    21231.5472  58767.84    20459.52    40908.384\n",
      "  31232.2032 130482.72    22111.2     31914.72    50136.48    36763.2\n",
      " 105654.24    23373.4032  12201.12    29250.72    50562.72    58021.92\n",
      "  50882.4     46353.6     58341.6     27652.32    45554.4     28238.4\n",
      "  52054.56    58403.4048  80452.8     45820.8     21258.72    21045.6\n",
      "  71874.72    37242.72    31914.1872  77202.72    87858.72    36709.92\n",
      "  63776.16    63669.6     55890.72    45128.16    31962.672   25840.8\n",
      "  30742.56    66546.72    38308.32    18594.72    34472.16    59620.32\n",
      "  71395.2     22105.872   63563.04    78854.4     67239.36    73473.12\n",
      "  74538.72    38468.16    86793.12    74538.1872  57755.52    60223.9824\n",
      "  30049.92    59567.04    25521.12   119427.12    33513.12    67718.88\n",
      "  24029.28    13799.52    43263.36    14811.3072  74378.88    49443.84\n",
      "  34045.3872  23922.72    47099.52    30476.16    31861.44    52640.64\n",
      "  13445.7408  49976.64    34898.4     59461.5456  46300.32    32074.56\n",
      " 107305.92    18328.32   108105.12    23816.16    66560.5728  47898.72\n",
      "  26533.44   100699.2     57648.96    32980.32    70063.2     21471.84\n",
      "  42890.4     38787.84    57489.12    18541.44    95850.72    19367.8128\n",
      "  56502.9072  45501.12    40173.12    16463.52    26053.92    49177.44\n",
      "  24455.52   149130.72    43316.64    98514.72    42251.04    63882.72\n",
      "  82530.72   127712.16    41505.12    52693.92    57808.8    150462.72\n",
      "  13852.8     53274.672   37189.44    44701.92    48697.92   324954.72\n",
      "  51095.52    55677.6     98301.6     26267.04    39533.76    93186.72\n",
      " 162770.4     74485.44   103842.72    31808.16    74964.96    49650.5664\n",
      "  31381.92    54931.68    61218.72    68145.12    36089.208   72620.64\n",
      "  42304.32   130873.7952  44328.96    45768.0528  40972.32    47472.48\n",
      "  67612.32    21258.1872  17582.4     45767.52    20779.2    207259.2\n",
      "  45074.88    61005.6     47365.92    52480.8     29783.52   159786.72\n",
      "  35964.     108691.2     24988.32    37402.56    23757.552   56423.52\n",
      " 133146.72    90522.72    60845.76    23656.32    35004.96    30103.2\n",
      "  42570.72    24881.76    54239.04    46886.4    104370.192   39164.5296\n",
      "  37992.3696  45234.72    22803.84    44169.12    30849.12    50669.28\n",
      "  58448.16    62817.12    35112.0528  63243.36    97449.12    39373.92\n",
      " 153705.3408  78215.04    27119.52   113060.16    34578.72    67399.2\n",
      "  19180.2672 105228.      55571.04   111834.72    14652.      44968.32\n",
      "  24503.472   52214.4     68837.76    58288.32    48058.56    15557.76\n",
      "  55938.672   71128.8    140605.92    50243.04    71075.52    67559.04\n",
      "  60952.32    14651.4672  60885.72    14646.672   38148.48    84129.12\n",
      "  60153.12    14865.12    85672.1088  19980.      35324.64   108020.9376\n",
      "  69477.12    75071.52    92615.0256  74751.84    51729.552   17155.6272\n",
      "  29696.6736  76030.56    50349.6     43103.52    93240.      22697.28\n",
      " 117162.72    46300.8528  26053.3872  29463.84    15238.08    63456.48\n",
      "  21498.48    88178.4     93181.392  121584.96    72940.32   113752.8\n",
      " 133679.52    55357.92    84768.48    36975.7872  41498.1936  65510.9568\n",
      " 144495.36   139860.      16303.68    81465.12    60978.96   119826.72\n",
      "  99793.44    93080.16    89510.4     21791.52    16221.096  102564.\n",
      " 103523.04    42038.4528  31909.392   79920.      28768.536   64755.4464\n",
      " 101178.72    61751.52    60867.072  106506.72    15930.72    14332.32\n",
      "  53812.8    130269.6     90309.6     18488.16   126912.96    39906.72\n",
      "  76137.12    23539.104  106187.04    54757.9872 137941.92    81731.52\n",
      "  71661.6    109010.88    34093.872   28984.32    23176.8    111355.2\n",
      "  16197.12    40439.52    98994.24    61485.12    67932.      98133.768\n",
      "  39427.2    128298.24    72673.92    89084.16    31254.048   38681.28\n",
      "  13261.392  124568.64    95797.44   103896.      53918.8272  71928.\n",
      "  47893.392   48538.08    18115.2     32979.7872  85194.72    14119.2\n",
      "  65214.72    32660.64    70489.44    44542.08    64961.1072  74589.336\n",
      "  13053.6     27783.9216 158135.04    80133.12    68184.0144  31168.8\n",
      "  73366.56   160520.3856  42486.0048  39207.1536  42517.44    37589.04\n",
      "  41824.8     24634.008   21152.16    92121.12    59513.2272 143802.72\n",
      "  28992.312   68198.4     11934.72    13586.4     30310.992   32921.712\n",
      "  33566.4    104695.2     52747.2     99153.5472  44222.4     36496.8\n",
      "  99367.2    141884.64   145401.12    39907.2528  53733.9456  81912.1392\n",
      "  15717.6    125154.72    79813.44    89137.44    32447.52    94305.6\n",
      "  32127.84    28185.12   107892.      78534.72    88977.6     93932.64\n",
      "  64948.32    35616.6144  17529.12    24775.2    122490.72   261018.72\n",
      "  46833.6528  23650.992   19127.52    62231.04    30316.32    74005.92\n",
      " 120831.5808  20193.12    59886.72    78055.2     41345.28    49656.96\n",
      "  12733.92    24935.04    34046.4528  96969.6    101232.      78801.12\n",
      "  48304.7136  93635.3376 127818.72    59087.52    27753.552  130536.\n",
      "  62284.32    23976.      14598.72    48964.32   138474.72    64628.64\n",
      "  84395.52    37775.52    77250.672   63499.104   19441.872   56689.92\n",
      "  60472.8     63722.88   167691.8736  65481.12    22324.32    28504.8\n",
      "  28717.92    79215.1056  67026.24    21951.36    99519.048   43580.376\n",
      "  55091.52    68944.32    26373.6     53168.112  109277.28   149916.6\n",
      "  32639.8608  29073.2976  16943.04   101657.7072 137995.2     51841.44\n",
      "  35644.32   100006.56    22857.12    33110.856   42357.6     98834.4\n",
      "  34898.9328  15877.44    76012.4448  45664.6896  63936.      89864.1792\n",
      "  44574.048  194972.832   71847.0144  26101.872   31409.6256 103096.8\n",
      "  34632.      51148.8    128884.32   111593.8944  21887.424   64308.96\n",
      "  35431.2     81784.8    175770.72    60031.1088 233845.92    25308.\n",
      "  58394.88    45282.672   83170.08   152859.7872  55837.44    99047.52\n",
      "  83063.52    25059.7152  62938.0656  54345.6     66280.32   126273.6\n",
      "  33886.08   154458.72    31003.632  191211.264  125208.      93985.92\n",
      " 100752.48    71341.92    10810.512  104961.6     62071.2    124142.4\n",
      "  43156.8    110017.872   39640.32    41558.4     89457.12   128671.2\n",
      "  51202.08    42081.0768  20512.8    133467.4656  40226.4     58075.2\n",
      "  99900.      72354.24    18914.4    292986.72    63190.08    87912.\n",
      " 147832.2864  17316.      31435.2    163723.5792  48484.8     38041.3872\n",
      "  99633.6     32767.2     54665.28   121318.56    46087.2    101391.84\n",
      "  41931.36   136343.52    45323.1648  68464.8     54185.76   119347.2\n",
      "  94731.84    56210.4     73952.64    39160.8     90043.2     49816.8\n",
      "  48618.      90576.      36486.144   24279.696   72988.272   15824.16\n",
      " 141138.72    78588.      49497.12    47952.      32713.92   107257.968\n",
      " 109170.72   104588.1072  79014.24    42037.92    64202.4    165168.\n",
      "  54291.7872  46939.68    59668.8048  36496.2672  69103.6272  97236.\n",
      "  38889.072   37725.4368  15392.592   58874.4     88924.32    29762.208\n",
      "  87325.92   146946.24    78438.816   94572.      77788.8     79333.3872\n",
      " 168045.12    41292.      93772.8     53759.52    95371.2     45101.52\n",
      "  24808.2336  43956.     167778.72    37029.6    104587.5744 149184.\n",
      "  62870.4    109218.672   53386.56    48751.2     42943.68    63349.92\n",
      " 101658.24    14418.6336  61272.      20246.4    111301.92    67132.8\n",
      "  29144.16    58607.4672  55904.5728  36443.52    81997.92    84715.2\n",
      " 100550.5488  64468.8     41025.0672  79387.2    118761.12    42410.3472\n",
      "  63159.7104  55754.3232  56476.8     86526.72    57542.4     65480.5872\n",
      "  91908.      56633.976   53839.9728  11231.424   75924.      55922.688\n",
      "  53280.     112065.9552  78268.32    82351.6992 122010.6672  15339.312\n",
      " 139593.6    120093.12    37570.392   96916.32    57009.6     52746.6672\n",
      " 102777.12    77682.24   211788.      42517.9728  70809.12    69264.\n",
      "  25679.8944  91294.7472  28771.2     50083.2    172627.2     34433.2656\n",
      "  39960.      54931.1472  20619.36    20965.1472  18434.3472  43601.688\n",
      "  34035.264   26640.      60480.792   62176.1616  11135.52    75289.968\n",
      "  80516.2032  46193.76    21205.44    40980.312  104908.32   146519.4672\n",
      "  54825.12   118601.28    69929.4672  10442.88    80612.64    27899.0064\n",
      " 100965.6    109244.2464  14811.84    40066.56    32820.48   210424.032\n",
      "  41771.52   115709.2416 130003.2     60888.384  122381.496   53807.472\n",
      " 124621.92    18061.92   119916.2304  25515.2592  79536.384   42010.7472\n",
      " 108744.48    94252.32    25414.0272  74059.2     36177.12    69530.4\n",
      " 114731.5536  87219.36    44275.68    47686.1328  17742.24    48431.52\n",
      "  36816.48    61964.64    70702.56    19607.04   114552.      14492.16\n",
      " 109165.392  142790.4    103842.1872   9270.72    67772.16    78647.1408\n",
      "  91288.3536  78694.56    27804.7008 186426.72    24988.8528  85141.44\n",
      "  25467.84   117119.5632  39267.36    31838.5296  19276.704   85248.\n",
      "  46620.     123876.      30529.44    96596.64    17262.72    57116.16\n",
      "  23655.7872  26107.2     47685.6     44382.7728  38841.12    15397.92\n",
      "  29303.4672  42943.1472  38378.6496  33992.64    40705.92  ]\n",
      "---------------------------------------------------------------------------\n"
     ]
    }
   ],
   "source": [
    "def uniquevals(col):\n",
    "    print(f'Details of the particular col {col} is : {df[col].unique()}')\n",
    "\n",
    "def valuecounts(col):\n",
    "    print(f'Valuecounts of the particular col {col} is : {df[col].value_counts()}')\n",
    "\n",
    "\n",
    "\n",
    "\n",
    "for col in df.columns:\n",
    "    uniquevals(col)\n",
    "    print(\"-\"*75)"
   ],
   "metadata": {
    "collapsed": false,
    "pycharm": {
     "name": "#%%\n"
    }
   }
  },
  {
   "cell_type": "code",
   "execution_count": 309,
   "outputs": [
    {
     "data": {
      "text/plain": "  Company   TypeName  Inches                    ScreenResolution  \\\n0   Apple  Ultrabook    13.3  IPS Panel Retina Display 2560x1600   \n1   Apple  Ultrabook    13.3                            1440x900   \n2      HP   Notebook    15.6                   Full HD 1920x1080   \n3   Apple  Ultrabook    15.4  IPS Panel Retina Display 2880x1800   \n4   Apple  Ultrabook    13.3  IPS Panel Retina Display 2560x1600   \n\n                          Cpu  Ram               Memory  \\\n0        Intel Core i5 2.3GHz    8            128GB SSD   \n1        Intel Core i5 1.8GHz    8  128GB Flash Storage   \n2  Intel Core i5 7200U 2.5GHz    8            256GB SSD   \n3        Intel Core i7 2.7GHz   16            512GB SSD   \n4        Intel Core i5 3.1GHz    8            256GB SSD   \n\n                            Gpu  OpSys  Weight        Price  \n0  Intel Iris Plus Graphics 640  macOS    1.37   71378.6832  \n1        Intel HD Graphics 6000  macOS    1.34   47895.5232  \n2         Intel HD Graphics 620  No OS    1.86   30636.0000  \n3            AMD Radeon Pro 455  macOS    1.83  135195.3360  \n4  Intel Iris Plus Graphics 650  macOS    1.37   96095.8080  ",
      "text/html": "<div>\n<style scoped>\n    .dataframe tbody tr th:only-of-type {\n        vertical-align: middle;\n    }\n\n    .dataframe tbody tr th {\n        vertical-align: top;\n    }\n\n    .dataframe thead th {\n        text-align: right;\n    }\n</style>\n<table border=\"1\" class=\"dataframe\">\n  <thead>\n    <tr style=\"text-align: right;\">\n      <th></th>\n      <th>Company</th>\n      <th>TypeName</th>\n      <th>Inches</th>\n      <th>ScreenResolution</th>\n      <th>Cpu</th>\n      <th>Ram</th>\n      <th>Memory</th>\n      <th>Gpu</th>\n      <th>OpSys</th>\n      <th>Weight</th>\n      <th>Price</th>\n    </tr>\n  </thead>\n  <tbody>\n    <tr>\n      <th>0</th>\n      <td>Apple</td>\n      <td>Ultrabook</td>\n      <td>13.3</td>\n      <td>IPS Panel Retina Display 2560x1600</td>\n      <td>Intel Core i5 2.3GHz</td>\n      <td>8</td>\n      <td>128GB SSD</td>\n      <td>Intel Iris Plus Graphics 640</td>\n      <td>macOS</td>\n      <td>1.37</td>\n      <td>71378.6832</td>\n    </tr>\n    <tr>\n      <th>1</th>\n      <td>Apple</td>\n      <td>Ultrabook</td>\n      <td>13.3</td>\n      <td>1440x900</td>\n      <td>Intel Core i5 1.8GHz</td>\n      <td>8</td>\n      <td>128GB Flash Storage</td>\n      <td>Intel HD Graphics 6000</td>\n      <td>macOS</td>\n      <td>1.34</td>\n      <td>47895.5232</td>\n    </tr>\n    <tr>\n      <th>2</th>\n      <td>HP</td>\n      <td>Notebook</td>\n      <td>15.6</td>\n      <td>Full HD 1920x1080</td>\n      <td>Intel Core i5 7200U 2.5GHz</td>\n      <td>8</td>\n      <td>256GB SSD</td>\n      <td>Intel HD Graphics 620</td>\n      <td>No OS</td>\n      <td>1.86</td>\n      <td>30636.0000</td>\n    </tr>\n    <tr>\n      <th>3</th>\n      <td>Apple</td>\n      <td>Ultrabook</td>\n      <td>15.4</td>\n      <td>IPS Panel Retina Display 2880x1800</td>\n      <td>Intel Core i7 2.7GHz</td>\n      <td>16</td>\n      <td>512GB SSD</td>\n      <td>AMD Radeon Pro 455</td>\n      <td>macOS</td>\n      <td>1.83</td>\n      <td>135195.3360</td>\n    </tr>\n    <tr>\n      <th>4</th>\n      <td>Apple</td>\n      <td>Ultrabook</td>\n      <td>13.3</td>\n      <td>IPS Panel Retina Display 2560x1600</td>\n      <td>Intel Core i5 3.1GHz</td>\n      <td>8</td>\n      <td>256GB SSD</td>\n      <td>Intel Iris Plus Graphics 650</td>\n      <td>macOS</td>\n      <td>1.37</td>\n      <td>96095.8080</td>\n    </tr>\n  </tbody>\n</table>\n</div>"
     },
     "execution_count": 309,
     "metadata": {},
     "output_type": "execute_result"
    }
   ],
   "source": [
    "'''\n",
    "so on observation we can see that if we remove \"GB\" from RAM,i can\n",
    "make it as an integer value then after,now same goes with Memory as\n",
    "well as Weight,for Weight i can classify it as floating variable\n",
    "using the str.replace() as shown ↓\n",
    "'''\n",
    "\n",
    "df['Ram'] = df['Ram'].str.replace('GB','')\n",
    "df['Weight'] = df['Weight'].str.replace('kg','')\n",
    "\n",
    "# converting from string->integer for ram column\n",
    "\n",
    "df['Ram'] = df['Ram'].astype('int32')\n",
    "\n",
    "# converting from string-> float for the weight column\n",
    "\n",
    "df['Weight'] = df['Weight'].astype('float32')\n",
    "\n",
    "df.head()"
   ],
   "metadata": {
    "collapsed": false,
    "pycharm": {
     "name": "#%%\n"
    }
   }
  },
  {
   "cell_type": "code",
   "execution_count": 310,
   "outputs": [
    {
     "name": "stdout",
     "output_type": "stream",
     "text": [
      "<class 'pandas.core.frame.DataFrame'>\n",
      "RangeIndex: 1303 entries, 0 to 1302\n",
      "Data columns (total 11 columns):\n",
      " #   Column            Non-Null Count  Dtype  \n",
      "---  ------            --------------  -----  \n",
      " 0   Company           1303 non-null   object \n",
      " 1   TypeName          1303 non-null   object \n",
      " 2   Inches            1303 non-null   float64\n",
      " 3   ScreenResolution  1303 non-null   object \n",
      " 4   Cpu               1303 non-null   object \n",
      " 5   Ram               1303 non-null   int32  \n",
      " 6   Memory            1303 non-null   object \n",
      " 7   Gpu               1303 non-null   object \n",
      " 8   OpSys             1303 non-null   object \n",
      " 9   Weight            1303 non-null   float32\n",
      " 10  Price             1303 non-null   float64\n",
      "dtypes: float32(1), float64(2), int32(1), object(7)\n",
      "memory usage: 101.9+ KB\n"
     ]
    }
   ],
   "source": [
    "df.info()"
   ],
   "metadata": {
    "collapsed": false,
    "pycharm": {
     "name": "#%%\n"
    }
   }
  },
  {
   "cell_type": "code",
   "execution_count": 311,
   "outputs": [
    {
     "name": "stderr",
     "output_type": "stream",
     "text": [
      "C:\\Users\\Taneesha\\anaconda3\\lib\\site-packages\\seaborn\\distributions.py:2619: FutureWarning: `distplot` is a deprecated function and will be removed in a future version. Please adapt your code to use either `displot` (a figure-level function with similar flexibility) or `histplot` (an axes-level function for histograms).\n",
      "  warnings.warn(msg, FutureWarning)\n"
     ]
    },
    {
     "data": {
      "text/plain": "<AxesSubplot:xlabel='Price', ylabel='Density'>"
     },
     "execution_count": 311,
     "metadata": {},
     "output_type": "execute_result"
    },
    {
     "data": {
      "text/plain": "<Figure size 432x288 with 1 Axes>",
      "image/png": "[encoded data removed]"
     },
     "metadata": {
      "needs_background": "light"
     },
     "output_type": "display_data"
    }
   ],
   "source": [
    "# viewing the distribution of the price column\n",
    "\n",
    "sn.distplot(df['Price'],color='red')"
   ],
   "metadata": {
    "collapsed": false,
    "pycharm": {
     "name": "#%%\n"
    }
   }
  },
  {
   "cell_type": "code",
   "execution_count": 312,
   "outputs": [
    {
     "name": "stderr",
     "output_type": "stream",
     "text": [
      "C:\\Users\\Taneesha\\anaconda3\\lib\\site-packages\\seaborn\\_decorators.py:36: FutureWarning: Pass the following variable as a keyword arg: x. From version 0.12, the only valid positional argument will be `data`, and passing other arguments without an explicit keyword will result in an error or misinterpretation.\n",
      "  warnings.warn(\n",
      "C:\\Users\\Taneesha\\anaconda3\\lib\\site-packages\\seaborn\\_decorators.py:36: FutureWarning: Pass the following variable as a keyword arg: x. From version 0.12, the only valid positional argument will be `data`, and passing other arguments without an explicit keyword will result in an error or misinterpretation.\n",
      "  warnings.warn(\n",
      "C:\\Users\\Taneesha\\anaconda3\\lib\\site-packages\\seaborn\\_decorators.py:36: FutureWarning: Pass the following variable as a keyword arg: x. From version 0.12, the only valid positional argument will be `data`, and passing other arguments without an explicit keyword will result in an error or misinterpretation.\n",
      "  warnings.warn(\n",
      "C:\\Users\\Taneesha\\anaconda3\\lib\\site-packages\\seaborn\\_decorators.py:36: FutureWarning: Pass the following variable as a keyword arg: x. From version 0.12, the only valid positional argument will be `data`, and passing other arguments without an explicit keyword will result in an error or misinterpretation.\n",
      "  warnings.warn(\n"
     ]
    },
    {
     "data": {
      "text/plain": "<Figure size 1080x504 with 1 Axes>",
      "image/png": "[encoded data removed]"
     },
     "metadata": {
      "needs_background": "light"
     },
     "output_type": "display_data"
    },
    {
     "data": {
      "text/plain": "<Figure size 1080x504 with 1 Axes>",
      "image/png": "[encoded data removed]"
     },
     "metadata": {
      "needs_background": "light"
     },
     "output_type": "display_data"
    },
    {
     "data": {
      "text/plain": "<Figure size 1080x504 with 1 Axes>",
      "image/png": "[encoded data removed]"
     },
     "metadata": {
      "needs_background": "light"
     },
     "output_type": "display_data"
    },
    {
     "data": {
      "text/plain": "<Figure size 1080x504 with 1 Axes>",
      "image/png": "[encoded data removed]"
     },
     "metadata": {
      "needs_background": "light"
     },
     "output_type": "display_data"
    }
   ],
   "source": [
    "## plotting countplots for the categorical variables\n",
    "\n",
    "def drawplot(col):\n",
    "    plt.figure(figsize=(15,7))\n",
    "    sn.countplot(df[col],palette='plasma')\n",
    "    plt.xticks(rotation='vertical')\n",
    "\n",
    "toview = ['Company', 'TypeName','Ram','OpSys']\n",
    "for col in toview:\n",
    "    drawplot(col)"
   ],
   "metadata": {
    "collapsed": false,
    "pycharm": {
     "name": "#%%\n"
    }
   }
  },
  {
   "cell_type": "code",
   "execution_count": 313,
   "outputs": [
    {
     "data": {
      "text/plain": "<Figure size 1080x504 with 1 Axes>",
      "image/png": "[encoded data removed]"
     },
     "metadata": {
      "needs_background": "light"
     },
     "output_type": "display_data"
    }
   ],
   "source": [
    "# average price for each of the laptop brands\n",
    "# this will say us the insight that as per company the price of the laptop vary\n",
    "\n",
    "\n",
    "plt.figure(figsize=(15,7))\n",
    "sn.barplot(x = df['Company'],y = df['Price'])\n",
    "plt.xticks(rotation = 'vertical')\n",
    "plt.show()"
   ],
   "metadata": {
    "collapsed": false,
    "pycharm": {
     "name": "#%%\n"
    }
   }
  },
  {
   "cell_type": "code",
   "execution_count": 314,
   "outputs": [
    {
     "name": "stderr",
     "output_type": "stream",
     "text": [
      "C:\\Users\\Taneesha\\anaconda3\\lib\\site-packages\\seaborn\\_decorators.py:36: FutureWarning: Pass the following variable as a keyword arg: x. From version 0.12, the only valid positional argument will be `data`, and passing other arguments without an explicit keyword will result in an error or misinterpretation.\n",
      "  warnings.warn(\n"
     ]
    },
    {
     "data": {
      "text/plain": "(array([0, 1, 2, 3, 4, 5]),\n [Text(0, 0, 'Ultrabook'),\n  Text(1, 0, 'Notebook'),\n  Text(2, 0, 'Netbook'),\n  Text(3, 0, 'Gaming'),\n  Text(4, 0, '2 in 1 Convertible'),\n  Text(5, 0, 'Workstation')])"
     },
     "execution_count": 314,
     "metadata": {},
     "output_type": "execute_result"
    },
    {
     "data": {
      "text/plain": "<Figure size 432x288 with 1 Axes>",
      "image/png": "[encoded data removed]"
     },
     "metadata": {
      "needs_background": "light"
     },
     "output_type": "display_data"
    }
   ],
   "source": [
    "## various types of laptops\n",
    "\n",
    "sn.countplot(df['TypeName'],palette='autumn')\n",
    "plt.xticks(rotation = 'vertical')"
   ],
   "metadata": {
    "collapsed": false,
    "pycharm": {
     "name": "#%%\n"
    }
   }
  },
  {
   "cell_type": "code",
   "execution_count": 315,
   "outputs": [
    {
     "data": {
      "text/plain": "(array([0, 1, 2, 3, 4, 5]),\n [Text(0, 0, 'Ultrabook'),\n  Text(1, 0, 'Notebook'),\n  Text(2, 0, 'Netbook'),\n  Text(3, 0, 'Gaming'),\n  Text(4, 0, '2 in 1 Convertible'),\n  Text(5, 0, 'Workstation')])"
     },
     "execution_count": 315,
     "metadata": {},
     "output_type": "execute_result"
    },
    {
     "data": {
      "text/plain": "<Figure size 432x288 with 1 Axes>",
      "image/png": "[encoded data removed]"
     },
     "metadata": {
      "needs_background": "light"
     },
     "output_type": "display_data"
    }
   ],
   "source": [
    "# laptop type and variation about the price\n",
    "\n",
    "sn.barplot(x = df['TypeName'],y = df['Price'])\n",
    "plt.xticks(rotation = 'vertical')"
   ],
   "metadata": {
    "collapsed": false,
    "pycharm": {
     "name": "#%%\n"
    }
   }
  },
  {
   "cell_type": "code",
   "execution_count": 316,
   "outputs": [
    {
     "data": {
      "text/plain": "<AxesSubplot:xlabel='Inches', ylabel='Price'>"
     },
     "execution_count": 316,
     "metadata": {},
     "output_type": "execute_result"
    },
    {
     "data": {
      "text/plain": "<Figure size 432x288 with 1 Axes>",
      "image/png": "[encoded data removed]"
     },
     "metadata": {
      "needs_background": "light"
     },
     "output_type": "display_data"
    }
   ],
   "source": [
    "# variation of inches towards the price\n",
    "\n",
    "sn.scatterplot(x = df['Inches'],y = df['Price'])"
   ],
   "metadata": {
    "collapsed": false,
    "pycharm": {
     "name": "#%%\n"
    }
   }
  },
  {
   "cell_type": "markdown",
   "source": [
    "For the Screen Resolution column we have many types of Screen Resolutions out there as shown Touch Screen and Normal and IPS Panel are the 3 parts on basis of which we can segregate the things"
   ],
   "metadata": {
    "collapsed": false,
    "pycharm": {
     "name": "#%% md\n"
    }
   }
  },
  {
   "cell_type": "code",
   "execution_count": 317,
   "outputs": [
    {
     "data": {
      "text/plain": "Full HD 1920x1080                                507\n1366x768                                         281\nIPS Panel Full HD 1920x1080                      230\nIPS Panel Full HD / Touchscreen 1920x1080         53\nFull HD / Touchscreen 1920x1080                   47\n1600x900                                          23\nTouchscreen 1366x768                              16\nQuad HD+ / Touchscreen 3200x1800                  15\nIPS Panel 4K Ultra HD 3840x2160                   12\nIPS Panel 4K Ultra HD / Touchscreen 3840x2160     11\n4K Ultra HD / Touchscreen 3840x2160               10\n4K Ultra HD 3840x2160                              7\nTouchscreen 2560x1440                              7\nIPS Panel 1366x768                                 7\nIPS Panel Quad HD+ / Touchscreen 3200x1800         6\nIPS Panel Retina Display 2560x1600                 6\nIPS Panel Retina Display 2304x1440                 6\nTouchscreen 2256x1504                              6\nIPS Panel Touchscreen 2560x1440                    5\nIPS Panel Retina Display 2880x1800                 4\nIPS Panel Touchscreen 1920x1200                    4\n1440x900                                           4\nIPS Panel 2560x1440                                4\nIPS Panel Quad HD+ 2560x1440                       3\nQuad HD+ 3200x1800                                 3\n1920x1080                                          3\nTouchscreen 2400x1600                              3\n2560x1440                                          3\nIPS Panel Touchscreen 1366x768                     3\nIPS Panel Touchscreen / 4K Ultra HD 3840x2160      2\nIPS Panel Full HD 2160x1440                        2\nIPS Panel Quad HD+ 3200x1800                       2\nIPS Panel Retina Display 2736x1824                 1\nIPS Panel Full HD 1920x1200                        1\nIPS Panel Full HD 2560x1440                        1\nIPS Panel Full HD 1366x768                         1\nTouchscreen / Full HD 1920x1080                    1\nTouchscreen / Quad HD+ 3200x1800                   1\nTouchscreen / 4K Ultra HD 3840x2160                1\nIPS Panel Touchscreen 2400x1600                    1\nName: ScreenResolution, dtype: int64"
     },
     "execution_count": 317,
     "metadata": {},
     "output_type": "execute_result"
    }
   ],
   "source": [
    "df['ScreenResolution'].value_counts()"
   ],
   "metadata": {
    "collapsed": false,
    "pycharm": {
     "name": "#%%\n"
    }
   }
  },
  {
   "cell_type": "code",
   "execution_count": 318,
   "outputs": [
    {
     "data": {
      "text/plain": "  Company   TypeName  Inches                    ScreenResolution  \\\n0   Apple  Ultrabook    13.3  IPS Panel Retina Display 2560x1600   \n1   Apple  Ultrabook    13.3                            1440x900   \n2      HP   Notebook    15.6                   Full HD 1920x1080   \n3   Apple  Ultrabook    15.4  IPS Panel Retina Display 2880x1800   \n4   Apple  Ultrabook    13.3  IPS Panel Retina Display 2560x1600   \n\n                          Cpu  Ram               Memory  \\\n0        Intel Core i5 2.3GHz    8            128GB SSD   \n1        Intel Core i5 1.8GHz    8  128GB Flash Storage   \n2  Intel Core i5 7200U 2.5GHz    8            256GB SSD   \n3        Intel Core i7 2.7GHz   16            512GB SSD   \n4        Intel Core i5 3.1GHz    8            256GB SSD   \n\n                            Gpu  OpSys  Weight        Price  TouchScreen  \n0  Intel Iris Plus Graphics 640  macOS    1.37   71378.6832            0  \n1        Intel HD Graphics 6000  macOS    1.34   47895.5232            0  \n2         Intel HD Graphics 620  No OS    1.86   30636.0000            0  \n3            AMD Radeon Pro 455  macOS    1.83  135195.3360            0  \n4  Intel Iris Plus Graphics 650  macOS    1.37   96095.8080            0  ",
      "text/html": "<div>\n<style scoped>\n    .dataframe tbody tr th:only-of-type {\n        vertical-align: middle;\n    }\n\n    .dataframe tbody tr th {\n        vertical-align: top;\n    }\n\n    .dataframe thead th {\n        text-align: right;\n    }\n</style>\n<table border=\"1\" class=\"dataframe\">\n  <thead>\n    <tr style=\"text-align: right;\">\n      <th></th>\n      <th>Company</th>\n      <th>TypeName</th>\n      <th>Inches</th>\n      <th>ScreenResolution</th>\n      <th>Cpu</th>\n      <th>Ram</th>\n      <th>Memory</th>\n      <th>Gpu</th>\n      <th>OpSys</th>\n      <th>Weight</th>\n      <th>Price</th>\n      <th>TouchScreen</th>\n    </tr>\n  </thead>\n  <tbody>\n    <tr>\n      <th>0</th>\n      <td>Apple</td>\n      <td>Ultrabook</td>\n      <td>13.3</td>\n      <td>IPS Panel Retina Display 2560x1600</td>\n      <td>Intel Core i5 2.3GHz</td>\n      <td>8</td>\n      <td>128GB SSD</td>\n      <td>Intel Iris Plus Graphics 640</td>\n      <td>macOS</td>\n      <td>1.37</td>\n      <td>71378.6832</td>\n      <td>0</td>\n    </tr>\n    <tr>\n      <th>1</th>\n      <td>Apple</td>\n      <td>Ultrabook</td>\n      <td>13.3</td>\n      <td>1440x900</td>\n      <td>Intel Core i5 1.8GHz</td>\n      <td>8</td>\n      <td>128GB Flash Storage</td>\n      <td>Intel HD Graphics 6000</td>\n      <td>macOS</td>\n      <td>1.34</td>\n      <td>47895.5232</td>\n      <td>0</td>\n    </tr>\n    <tr>\n      <th>2</th>\n      <td>HP</td>\n      <td>Notebook</td>\n      <td>15.6</td>\n      <td>Full HD 1920x1080</td>\n      <td>Intel Core i5 7200U 2.5GHz</td>\n      <td>8</td>\n      <td>256GB SSD</td>\n      <td>Intel HD Graphics 620</td>\n      <td>No OS</td>\n      <td>1.86</td>\n      <td>30636.0000</td>\n      <td>0</td>\n    </tr>\n    <tr>\n      <th>3</th>\n      <td>Apple</td>\n      <td>Ultrabook</td>\n      <td>15.4</td>\n      <td>IPS Panel Retina Display 2880x1800</td>\n      <td>Intel Core i7 2.7GHz</td>\n      <td>16</td>\n      <td>512GB SSD</td>\n      <td>AMD Radeon Pro 455</td>\n      <td>macOS</td>\n      <td>1.83</td>\n      <td>135195.3360</td>\n      <td>0</td>\n    </tr>\n    <tr>\n      <th>4</th>\n      <td>Apple</td>\n      <td>Ultrabook</td>\n      <td>13.3</td>\n      <td>IPS Panel Retina Display 2560x1600</td>\n      <td>Intel Core i5 3.1GHz</td>\n      <td>8</td>\n      <td>256GB SSD</td>\n      <td>Intel Iris Plus Graphics 650</td>\n      <td>macOS</td>\n      <td>1.37</td>\n      <td>96095.8080</td>\n      <td>0</td>\n    </tr>\n  </tbody>\n</table>\n</div>"
     },
     "execution_count": 318,
     "metadata": {},
     "output_type": "execute_result"
    }
   ],
   "source": [
    "# creating a new col,touchscreen if the value is 1 that laptop is touch screen\n",
    "\n",
    "df['TouchScreen'] = df['ScreenResolution'].apply(lambda element:1\n",
    "                                                      if 'Touchscreen' in element else 0)\n",
    "\n",
    "df.head()"
   ],
   "metadata": {
    "collapsed": false,
    "pycharm": {
     "name": "#%%\n"
    }
   }
  },
  {
   "cell_type": "code",
   "execution_count": 319,
   "outputs": [
    {
     "data": {
      "text/plain": "     Company   TypeName  Inches             ScreenResolution  \\\n369       HP  Ultrabook    14.0  IPS Panel Full HD 1920x1080   \n79        HP   Notebook    17.3            Full HD 1920x1080   \n168     Acer   Notebook    17.3  IPS Panel Full HD 1920x1080   \n1096    Dell   Notebook    15.6            Full HD 1920x1080   \n1100    Dell  Ultrabook    12.5                     1366x768   \n\n                             Cpu  Ram                Memory  \\\n369   Intel Core i7 7500U 2.7GHz    8             256GB SSD   \n79    Intel Core i5 8250U 1.6GHz    8  128GB SSD +  1TB HDD   \n168   Intel Core i5 8250U 1.6GHz    8             256GB SSD   \n1096  Intel Core i5 7200U 2.5GHz    8               1TB HDD   \n1100  Intel Core i3 6100U 2.3GHz    4             500GB HDD   \n\n                        Gpu       OpSys  Weight      Price  TouchScreen  \n369   Intel HD Graphics 620  Windows 10    1.36  93240.000            0  \n79     Nvidia GeForce 930MX  Windows 10    2.50  52054.560            0  \n168    Nvidia GeForce MX150  Windows 10    3.00  45501.120            0  \n1096     AMD Radeon R7 M445  Windows 10    2.36  34035.264            0  \n1100  Intel HD Graphics 520   Windows 7    1.50  60480.792            0  ",
      "text/html": "<div>\n<style scoped>\n    .dataframe tbody tr th:only-of-type {\n        vertical-align: middle;\n    }\n\n    .dataframe tbody tr th {\n        vertical-align: top;\n    }\n\n    .dataframe thead th {\n        text-align: right;\n    }\n</style>\n<table border=\"1\" class=\"dataframe\">\n  <thead>\n    <tr style=\"text-align: right;\">\n      <th></th>\n      <th>Company</th>\n      <th>TypeName</th>\n      <th>Inches</th>\n      <th>ScreenResolution</th>\n      <th>Cpu</th>\n      <th>Ram</th>\n      <th>Memory</th>\n      <th>Gpu</th>\n      <th>OpSys</th>\n      <th>Weight</th>\n      <th>Price</th>\n      <th>TouchScreen</th>\n    </tr>\n  </thead>\n  <tbody>\n    <tr>\n      <th>369</th>\n      <td>HP</td>\n      <td>Ultrabook</td>\n      <td>14.0</td>\n      <td>IPS Panel Full HD 1920x1080</td>\n      <td>Intel Core i7 7500U 2.7GHz</td>\n      <td>8</td>\n      <td>256GB SSD</td>\n      <td>Intel HD Graphics 620</td>\n      <td>Windows 10</td>\n      <td>1.36</td>\n      <td>93240.000</td>\n      <td>0</td>\n    </tr>\n    <tr>\n      <th>79</th>\n      <td>HP</td>\n      <td>Notebook</td>\n      <td>17.3</td>\n      <td>Full HD 1920x1080</td>\n      <td>Intel Core i5 8250U 1.6GHz</td>\n      <td>8</td>\n      <td>128GB SSD +  1TB HDD</td>\n      <td>Nvidia GeForce 930MX</td>\n      <td>Windows 10</td>\n      <td>2.50</td>\n      <td>52054.560</td>\n      <td>0</td>\n    </tr>\n    <tr>\n      <th>168</th>\n      <td>Acer</td>\n      <td>Notebook</td>\n      <td>17.3</td>\n      <td>IPS Panel Full HD 1920x1080</td>\n      <td>Intel Core i5 8250U 1.6GHz</td>\n      <td>8</td>\n      <td>256GB SSD</td>\n      <td>Nvidia GeForce MX150</td>\n      <td>Windows 10</td>\n      <td>3.00</td>\n      <td>45501.120</td>\n      <td>0</td>\n    </tr>\n    <tr>\n      <th>1096</th>\n      <td>Dell</td>\n      <td>Notebook</td>\n      <td>15.6</td>\n      <td>Full HD 1920x1080</td>\n      <td>Intel Core i5 7200U 2.5GHz</td>\n      <td>8</td>\n      <td>1TB HDD</td>\n      <td>AMD Radeon R7 M445</td>\n      <td>Windows 10</td>\n      <td>2.36</td>\n      <td>34035.264</td>\n      <td>0</td>\n    </tr>\n    <tr>\n      <th>1100</th>\n      <td>Dell</td>\n      <td>Ultrabook</td>\n      <td>12.5</td>\n      <td>1366x768</td>\n      <td>Intel Core i3 6100U 2.3GHz</td>\n      <td>4</td>\n      <td>500GB HDD</td>\n      <td>Intel HD Graphics 520</td>\n      <td>Windows 7</td>\n      <td>1.50</td>\n      <td>60480.792</td>\n      <td>0</td>\n    </tr>\n  </tbody>\n</table>\n</div>"
     },
     "execution_count": 319,
     "metadata": {},
     "output_type": "execute_result"
    }
   ],
   "source": [
    "df.sample(5)"
   ],
   "metadata": {
    "collapsed": false,
    "pycharm": {
     "name": "#%%\n"
    }
   }
  },
  {
   "cell_type": "code",
   "execution_count": 320,
   "outputs": [
    {
     "name": "stderr",
     "output_type": "stream",
     "text": [
      "C:\\Users\\Taneesha\\anaconda3\\lib\\site-packages\\seaborn\\_decorators.py:36: FutureWarning: Pass the following variable as a keyword arg: x. From version 0.12, the only valid positional argument will be `data`, and passing other arguments without an explicit keyword will result in an error or misinterpretation.\n",
      "  warnings.warn(\n"
     ]
    },
    {
     "data": {
      "text/plain": "<AxesSubplot:xlabel='TouchScreen', ylabel='count'>"
     },
     "execution_count": 320,
     "metadata": {},
     "output_type": "execute_result"
    },
    {
     "data": {
      "text/plain": "<Figure size 432x288 with 1 Axes>",
      "image/png": "[encoded data removed]"
     },
     "metadata": {
      "needs_background": "light"
     },
     "output_type": "display_data"
    }
   ],
   "source": [
    "sn.countplot(df['TouchScreen'],palette='plasma')"
   ],
   "metadata": {
    "collapsed": false,
    "pycharm": {
     "name": "#%%\n"
    }
   }
  },
  {
   "cell_type": "code",
   "execution_count": 321,
   "outputs": [
    {
     "data": {
      "text/plain": "(array([0, 1]), [Text(0, 0, '0'), Text(1, 0, '1')])"
     },
     "execution_count": 321,
     "metadata": {},
     "output_type": "execute_result"
    },
    {
     "data": {
      "text/plain": "<Figure size 432x288 with 1 Axes>",
      "image/png": "[encoded data removed]"
     },
     "metadata": {
      "needs_background": "light"
     },
     "output_type": "display_data"
    }
   ],
   "source": [
    "# touch screen on comparision with price of laptop\n",
    "\n",
    "sn.barplot(x = df['TouchScreen'],y = df['Price'])\n",
    "plt.xticks(rotation = 'vertical')"
   ],
   "metadata": {
    "collapsed": false,
    "pycharm": {
     "name": "#%%\n"
    }
   }
  },
  {
   "cell_type": "code",
   "execution_count": 322,
   "outputs": [
    {
     "data": {
      "text/plain": "     Company  TypeName  Inches   ScreenResolution  \\\n1273      HP  Notebook    15.6           1366x768   \n865       HP  Notebook    15.6  Full HD 1920x1080   \n415     Dell  Notebook    15.6  Full HD 1920x1080   \n689   Lenovo  Notebook    15.6           1366x768   \n654       HP  Notebook    15.6           1366x768   \n\n                                       Cpu  Ram     Memory  \\\n1273            Intel Core i7 6500U 2.5GHz    6    1TB HDD   \n865             Intel Core i5 6200U 2.3GHz    4  500GB HDD   \n415             Intel Core i5 7200U 2.5GHz    4  256GB SSD   \n689   Intel Celeron Dual Core 3855U 1.6GHz    4  500GB HDD   \n654               Intel Core i3 6006U 2GHz    4  500GB HDD   \n\n                        Gpu       OpSys  Weight      Price  TouchScreen  IPS  \n1273     AMD Radeon R5 M330  Windows 10    2.19  40705.920            0    0  \n865   Intel HD Graphics 520  Windows 10    2.07  48484.800            0    0  \n415      AMD Radeon R5 M430       Linux    2.30  31909.392            0    0  \n689   Intel HD Graphics 510  Windows 10    2.10  16943.040            0    0  \n654   Intel HD Graphics 520       No OS    1.86  19441.872            0    0  ",
      "text/html": "<div>\n<style scoped>\n    .dataframe tbody tr th:only-of-type {\n        vertical-align: middle;\n    }\n\n    .dataframe tbody tr th {\n        vertical-align: top;\n    }\n\n    .dataframe thead th {\n        text-align: right;\n    }\n</style>\n<table border=\"1\" class=\"dataframe\">\n  <thead>\n    <tr style=\"text-align: right;\">\n      <th></th>\n      <th>Company</th>\n      <th>TypeName</th>\n      <th>Inches</th>\n      <th>ScreenResolution</th>\n      <th>Cpu</th>\n      <th>Ram</th>\n      <th>Memory</th>\n      <th>Gpu</th>\n      <th>OpSys</th>\n      <th>Weight</th>\n      <th>Price</th>\n      <th>TouchScreen</th>\n      <th>IPS</th>\n    </tr>\n  </thead>\n  <tbody>\n    <tr>\n      <th>1273</th>\n      <td>HP</td>\n      <td>Notebook</td>\n      <td>15.6</td>\n      <td>1366x768</td>\n      <td>Intel Core i7 6500U 2.5GHz</td>\n      <td>6</td>\n      <td>1TB HDD</td>\n      <td>AMD Radeon R5 M330</td>\n      <td>Windows 10</td>\n      <td>2.19</td>\n      <td>40705.920</td>\n      <td>0</td>\n      <td>0</td>\n    </tr>\n    <tr>\n      <th>865</th>\n      <td>HP</td>\n      <td>Notebook</td>\n      <td>15.6</td>\n      <td>Full HD 1920x1080</td>\n      <td>Intel Core i5 6200U 2.3GHz</td>\n      <td>4</td>\n      <td>500GB HDD</td>\n      <td>Intel HD Graphics 520</td>\n      <td>Windows 10</td>\n      <td>2.07</td>\n      <td>48484.800</td>\n      <td>0</td>\n      <td>0</td>\n    </tr>\n    <tr>\n      <th>415</th>\n      <td>Dell</td>\n      <td>Notebook</td>\n      <td>15.6</td>\n      <td>Full HD 1920x1080</td>\n      <td>Intel Core i5 7200U 2.5GHz</td>\n      <td>4</td>\n      <td>256GB SSD</td>\n      <td>AMD Radeon R5 M430</td>\n      <td>Linux</td>\n      <td>2.30</td>\n      <td>31909.392</td>\n      <td>0</td>\n      <td>0</td>\n    </tr>\n    <tr>\n      <th>689</th>\n      <td>Lenovo</td>\n      <td>Notebook</td>\n      <td>15.6</td>\n      <td>1366x768</td>\n      <td>Intel Celeron Dual Core 3855U 1.6GHz</td>\n      <td>4</td>\n      <td>500GB HDD</td>\n      <td>Intel HD Graphics 510</td>\n      <td>Windows 10</td>\n      <td>2.10</td>\n      <td>16943.040</td>\n      <td>0</td>\n      <td>0</td>\n    </tr>\n    <tr>\n      <th>654</th>\n      <td>HP</td>\n      <td>Notebook</td>\n      <td>15.6</td>\n      <td>1366x768</td>\n      <td>Intel Core i3 6006U 2GHz</td>\n      <td>4</td>\n      <td>500GB HDD</td>\n      <td>Intel HD Graphics 520</td>\n      <td>No OS</td>\n      <td>1.86</td>\n      <td>19441.872</td>\n      <td>0</td>\n      <td>0</td>\n    </tr>\n  </tbody>\n</table>\n</div>"
     },
     "execution_count": 322,
     "metadata": {},
     "output_type": "execute_result"
    }
   ],
   "source": [
    "# creating a new col named IPS,does the laptop have IPS facility or not\n",
    "\n",
    "df['IPS'] = df['ScreenResolution'].apply(\n",
    "    lambda element:1 if \"IPS\" in element else 0\n",
    ")\n",
    "df.sample(5)"
   ],
   "metadata": {
    "collapsed": false,
    "pycharm": {
     "name": "#%%\n"
    }
   }
  },
  {
   "cell_type": "code",
   "execution_count": 323,
   "outputs": [
    {
     "name": "stderr",
     "output_type": "stream",
     "text": [
      "C:\\Users\\Taneesha\\anaconda3\\lib\\site-packages\\seaborn\\_decorators.py:36: FutureWarning: Pass the following variable as a keyword arg: x. From version 0.12, the only valid positional argument will be `data`, and passing other arguments without an explicit keyword will result in an error or misinterpretation.\n",
      "  warnings.warn(\n"
     ]
    },
    {
     "data": {
      "text/plain": "<AxesSubplot:xlabel='IPS', ylabel='count'>"
     },
     "execution_count": 323,
     "metadata": {},
     "output_type": "execute_result"
    },
    {
     "data": {
      "text/plain": "<Figure size 432x288 with 1 Axes>",
      "image/png": "[encoded data removed]"
     },
     "metadata": {
      "needs_background": "light"
     },
     "output_type": "display_data"
    }
   ],
   "source": [
    "sn.countplot(df['IPS'],palette='plasma')"
   ],
   "metadata": {
    "collapsed": false,
    "pycharm": {
     "name": "#%%\n"
    }
   }
  },
  {
   "cell_type": "code",
   "execution_count": 324,
   "outputs": [
    {
     "data": {
      "text/plain": "(array([0, 1]), [Text(0, 0, '0'), Text(1, 0, '1')])"
     },
     "execution_count": 324,
     "metadata": {},
     "output_type": "execute_result"
    },
    {
     "data": {
      "text/plain": "<Figure size 432x288 with 1 Axes>",
      "image/png": "[encoded data removed]"
     },
     "metadata": {
      "needs_background": "light"
     },
     "output_type": "display_data"
    }
   ],
   "source": [
    "# price variation with respect to the IPS col\n",
    "\n",
    "sn.barplot(x = df['TouchScreen'],y = df['Price'])\n",
    "plt.xticks(rotation = 'vertical')"
   ],
   "metadata": {
    "collapsed": false,
    "pycharm": {
     "name": "#%%\n"
    }
   }
  },
  {
   "cell_type": "markdown",
   "source": [
    "Extracting the X Resolution and the Y Resolution"
   ],
   "metadata": {
    "collapsed": false,
    "pycharm": {
     "name": "#%% md\n"
    }
   }
  },
  {
   "cell_type": "code",
   "execution_count": 325,
   "outputs": [
    {
     "data": {
      "text/plain": "                               0     1\n0  IPS Panel Retina Display 2560  1600\n1                           1440   900\n2                   Full HD 1920  1080\n3  IPS Panel Retina Display 2880  1800\n4  IPS Panel Retina Display 2560  1600",
      "text/html": "<div>\n<style scoped>\n    .dataframe tbody tr th:only-of-type {\n        vertical-align: middle;\n    }\n\n    .dataframe tbody tr th {\n        vertical-align: top;\n    }\n\n    .dataframe thead th {\n        text-align: right;\n    }\n</style>\n<table border=\"1\" class=\"dataframe\">\n  <thead>\n    <tr style=\"text-align: right;\">\n      <th></th>\n      <th>0</th>\n      <th>1</th>\n    </tr>\n  </thead>\n  <tbody>\n    <tr>\n      <th>0</th>\n      <td>IPS Panel Retina Display 2560</td>\n      <td>1600</td>\n    </tr>\n    <tr>\n      <th>1</th>\n      <td>1440</td>\n      <td>900</td>\n    </tr>\n    <tr>\n      <th>2</th>\n      <td>Full HD 1920</td>\n      <td>1080</td>\n    </tr>\n    <tr>\n      <th>3</th>\n      <td>IPS Panel Retina Display 2880</td>\n      <td>1800</td>\n    </tr>\n    <tr>\n      <th>4</th>\n      <td>IPS Panel Retina Display 2560</td>\n      <td>1600</td>\n    </tr>\n  </tbody>\n</table>\n</div>"
     },
     "execution_count": 325,
     "metadata": {},
     "output_type": "execute_result"
    }
   ],
   "source": [
    "# we will split the text at the \"x\" letter and seperate the 2 parts\n",
    "# from this we can observe that one of the col is Y res we need to do\n",
    "# some feature engineering on the X res col\n",
    "\n",
    "splitdf = df['ScreenResolution'].str.split('x',n = 1,expand=True)\n",
    "splitdf.head()"
   ],
   "metadata": {
    "collapsed": false,
    "pycharm": {
     "name": "#%%\n"
    }
   }
  },
  {
   "cell_type": "code",
   "execution_count": 326,
   "outputs": [
    {
     "data": {
      "text/plain": "  Company   TypeName  Inches                    ScreenResolution  \\\n0   Apple  Ultrabook    13.3  IPS Panel Retina Display 2560x1600   \n1   Apple  Ultrabook    13.3                            1440x900   \n2      HP   Notebook    15.6                   Full HD 1920x1080   \n3   Apple  Ultrabook    15.4  IPS Panel Retina Display 2880x1800   \n4   Apple  Ultrabook    13.3  IPS Panel Retina Display 2560x1600   \n\n                          Cpu  Ram               Memory  \\\n0        Intel Core i5 2.3GHz    8            128GB SSD   \n1        Intel Core i5 1.8GHz    8  128GB Flash Storage   \n2  Intel Core i5 7200U 2.5GHz    8            256GB SSD   \n3        Intel Core i7 2.7GHz   16            512GB SSD   \n4        Intel Core i5 3.1GHz    8            256GB SSD   \n\n                            Gpu  OpSys  Weight        Price  TouchScreen  IPS  \\\n0  Intel Iris Plus Graphics 640  macOS    1.37   71378.6832            0    1   \n1        Intel HD Graphics 6000  macOS    1.34   47895.5232            0    0   \n2         Intel HD Graphics 620  No OS    1.86   30636.0000            0    0   \n3            AMD Radeon Pro 455  macOS    1.83  135195.3360            0    1   \n4  Intel Iris Plus Graphics 650  macOS    1.37   96095.8080            0    1   \n\n                           X_res Y_res  \n0  IPS Panel Retina Display 2560  1600  \n1                           1440   900  \n2                   Full HD 1920  1080  \n3  IPS Panel Retina Display 2880  1800  \n4  IPS Panel Retina Display 2560  1600  ",
      "text/html": "<div>\n<style scoped>\n    .dataframe tbody tr th:only-of-type {\n        vertical-align: middle;\n    }\n\n    .dataframe tbody tr th {\n        vertical-align: top;\n    }\n\n    .dataframe thead th {\n        text-align: right;\n    }\n</style>\n<table border=\"1\" class=\"dataframe\">\n  <thead>\n    <tr style=\"text-align: right;\">\n      <th></th>\n      <th>Company</th>\n      <th>TypeName</th>\n      <th>Inches</th>\n      <th>ScreenResolution</th>\n      <th>Cpu</th>\n      <th>Ram</th>\n      <th>Memory</th>\n      <th>Gpu</th>\n      <th>OpSys</th>\n      <th>Weight</th>\n      <th>Price</th>\n      <th>TouchScreen</th>\n      <th>IPS</th>\n      <th>X_res</th>\n      <th>Y_res</th>\n    </tr>\n  </thead>\n  <tbody>\n    <tr>\n      <th>0</th>\n      <td>Apple</td>\n      <td>Ultrabook</td>\n      <td>13.3</td>\n      <td>IPS Panel Retina Display 2560x1600</td>\n      <td>Intel Core i5 2.3GHz</td>\n      <td>8</td>\n      <td>128GB SSD</td>\n      <td>Intel Iris Plus Graphics 640</td>\n      <td>macOS</td>\n      <td>1.37</td>\n      <td>71378.6832</td>\n      <td>0</td>\n      <td>1</td>\n      <td>IPS Panel Retina Display 2560</td>\n      <td>1600</td>\n    </tr>\n    <tr>\n      <th>1</th>\n      <td>Apple</td>\n      <td>Ultrabook</td>\n      <td>13.3</td>\n      <td>1440x900</td>\n      <td>Intel Core i5 1.8GHz</td>\n      <td>8</td>\n      <td>128GB Flash Storage</td>\n      <td>Intel HD Graphics 6000</td>\n      <td>macOS</td>\n      <td>1.34</td>\n      <td>47895.5232</td>\n      <td>0</td>\n      <td>0</td>\n      <td>1440</td>\n      <td>900</td>\n    </tr>\n    <tr>\n      <th>2</th>\n      <td>HP</td>\n      <td>Notebook</td>\n      <td>15.6</td>\n      <td>Full HD 1920x1080</td>\n      <td>Intel Core i5 7200U 2.5GHz</td>\n      <td>8</td>\n      <td>256GB SSD</td>\n      <td>Intel HD Graphics 620</td>\n      <td>No OS</td>\n      <td>1.86</td>\n      <td>30636.0000</td>\n      <td>0</td>\n      <td>0</td>\n      <td>Full HD 1920</td>\n      <td>1080</td>\n    </tr>\n    <tr>\n      <th>3</th>\n      <td>Apple</td>\n      <td>Ultrabook</td>\n      <td>15.4</td>\n      <td>IPS Panel Retina Display 2880x1800</td>\n      <td>Intel Core i7 2.7GHz</td>\n      <td>16</td>\n      <td>512GB SSD</td>\n      <td>AMD Radeon Pro 455</td>\n      <td>macOS</td>\n      <td>1.83</td>\n      <td>135195.3360</td>\n      <td>0</td>\n      <td>1</td>\n      <td>IPS Panel Retina Display 2880</td>\n      <td>1800</td>\n    </tr>\n    <tr>\n      <th>4</th>\n      <td>Apple</td>\n      <td>Ultrabook</td>\n      <td>13.3</td>\n      <td>IPS Panel Retina Display 2560x1600</td>\n      <td>Intel Core i5 3.1GHz</td>\n      <td>8</td>\n      <td>256GB SSD</td>\n      <td>Intel Iris Plus Graphics 650</td>\n      <td>macOS</td>\n      <td>1.37</td>\n      <td>96095.8080</td>\n      <td>0</td>\n      <td>1</td>\n      <td>IPS Panel Retina Display 2560</td>\n      <td>1600</td>\n    </tr>\n  </tbody>\n</table>\n</div>"
     },
     "execution_count": 326,
     "metadata": {},
     "output_type": "execute_result"
    }
   ],
   "source": [
    "splitdf = df['ScreenResolution'].str.split('x',n = 1,expand=True)\n",
    "\n",
    "df['X_res'] = splitdf[0]\n",
    "df['Y_res'] = splitdf[1]\n",
    "df.head()"
   ],
   "metadata": {
    "collapsed": false,
    "pycharm": {
     "name": "#%%\n"
    }
   }
  },
  {
   "cell_type": "code",
   "execution_count": 327,
   "outputs": [
    {
     "data": {
      "text/plain": "  Company   TypeName  Inches                    ScreenResolution  \\\n0   Apple  Ultrabook    13.3  IPS Panel Retina Display 2560x1600   \n1   Apple  Ultrabook    13.3                            1440x900   \n2      HP   Notebook    15.6                   Full HD 1920x1080   \n3   Apple  Ultrabook    15.4  IPS Panel Retina Display 2880x1800   \n4   Apple  Ultrabook    13.3  IPS Panel Retina Display 2560x1600   \n\n                          Cpu  Ram               Memory  \\\n0        Intel Core i5 2.3GHz    8            128GB SSD   \n1        Intel Core i5 1.8GHz    8  128GB Flash Storage   \n2  Intel Core i5 7200U 2.5GHz    8            256GB SSD   \n3        Intel Core i7 2.7GHz   16            512GB SSD   \n4        Intel Core i5 3.1GHz    8            256GB SSD   \n\n                            Gpu  OpSys  Weight        Price  TouchScreen  IPS  \\\n0  Intel Iris Plus Graphics 640  macOS    1.37   71378.6832            0    1   \n1        Intel HD Graphics 6000  macOS    1.34   47895.5232            0    0   \n2         Intel HD Graphics 620  No OS    1.86   30636.0000            0    0   \n3            AMD Radeon Pro 455  macOS    1.83  135195.3360            0    1   \n4  Intel Iris Plus Graphics 650  macOS    1.37   96095.8080            0    1   \n\n  X_res Y_res  \n0  2560  1600  \n1  1440   900  \n2  1920  1080  \n3  2880  1800  \n4  2560  1600  ",
      "text/html": "<div>\n<style scoped>\n    .dataframe tbody tr th:only-of-type {\n        vertical-align: middle;\n    }\n\n    .dataframe tbody tr th {\n        vertical-align: top;\n    }\n\n    .dataframe thead th {\n        text-align: right;\n    }\n</style>\n<table border=\"1\" class=\"dataframe\">\n  <thead>\n    <tr style=\"text-align: right;\">\n      <th></th>\n      <th>Company</th>\n      <th>TypeName</th>\n      <th>Inches</th>\n      <th>ScreenResolution</th>\n      <th>Cpu</th>\n      <th>Ram</th>\n      <th>Memory</th>\n      <th>Gpu</th>\n      <th>OpSys</th>\n      <th>Weight</th>\n      <th>Price</th>\n      <th>TouchScreen</th>\n      <th>IPS</th>\n      <th>X_res</th>\n      <th>Y_res</th>\n    </tr>\n  </thead>\n  <tbody>\n    <tr>\n      <th>0</th>\n      <td>Apple</td>\n      <td>Ultrabook</td>\n      <td>13.3</td>\n      <td>IPS Panel Retina Display 2560x1600</td>\n      <td>Intel Core i5 2.3GHz</td>\n      <td>8</td>\n      <td>128GB SSD</td>\n      <td>Intel Iris Plus Graphics 640</td>\n      <td>macOS</td>\n      <td>1.37</td>\n      <td>71378.6832</td>\n      <td>0</td>\n      <td>1</td>\n      <td>2560</td>\n      <td>1600</td>\n    </tr>\n    <tr>\n      <th>1</th>\n      <td>Apple</td>\n      <td>Ultrabook</td>\n      <td>13.3</td>\n      <td>1440x900</td>\n      <td>Intel Core i5 1.8GHz</td>\n      <td>8</td>\n      <td>128GB Flash Storage</td>\n      <td>Intel HD Graphics 6000</td>\n      <td>macOS</td>\n      <td>1.34</td>\n      <td>47895.5232</td>\n      <td>0</td>\n      <td>0</td>\n      <td>1440</td>\n      <td>900</td>\n    </tr>\n    <tr>\n      <th>2</th>\n      <td>HP</td>\n      <td>Notebook</td>\n      <td>15.6</td>\n      <td>Full HD 1920x1080</td>\n      <td>Intel Core i5 7200U 2.5GHz</td>\n      <td>8</td>\n      <td>256GB SSD</td>\n      <td>Intel HD Graphics 620</td>\n      <td>No OS</td>\n      <td>1.86</td>\n      <td>30636.0000</td>\n      <td>0</td>\n      <td>0</td>\n      <td>1920</td>\n      <td>1080</td>\n    </tr>\n    <tr>\n      <th>3</th>\n      <td>Apple</td>\n      <td>Ultrabook</td>\n      <td>15.4</td>\n      <td>IPS Panel Retina Display 2880x1800</td>\n      <td>Intel Core i7 2.7GHz</td>\n      <td>16</td>\n      <td>512GB SSD</td>\n      <td>AMD Radeon Pro 455</td>\n      <td>macOS</td>\n      <td>1.83</td>\n      <td>135195.3360</td>\n      <td>0</td>\n      <td>1</td>\n      <td>2880</td>\n      <td>1800</td>\n    </tr>\n    <tr>\n      <th>4</th>\n      <td>Apple</td>\n      <td>Ultrabook</td>\n      <td>13.3</td>\n      <td>IPS Panel Retina Display 2560x1600</td>\n      <td>Intel Core i5 3.1GHz</td>\n      <td>8</td>\n      <td>256GB SSD</td>\n      <td>Intel Iris Plus Graphics 650</td>\n      <td>macOS</td>\n      <td>1.37</td>\n      <td>96095.8080</td>\n      <td>0</td>\n      <td>1</td>\n      <td>2560</td>\n      <td>1600</td>\n    </tr>\n  </tbody>\n</table>\n</div>"
     },
     "execution_count": 327,
     "metadata": {},
     "output_type": "execute_result"
    }
   ],
   "source": [
    "'''\n",
    "So basically from that whole text of the X_res col,we need to\n",
    "extract the digits from it,but the problem is the numbers are scattered\n",
    "in some cases,that is the reason why i am using regex,if we use this\n",
    "we will exactly get the numbers which we are looking for!,\n",
    "so firstly replace all the \",\" with \"\" and then find all numbers\n",
    "from that string as \"\\d+\\.?\\d+\",\\d means that integer number and \\.?\n",
    "all the numbers which come after an number and \\d+ the string must end with number\n",
    "\n",
    "\n",
    "'''\n",
    "\n",
    "\n",
    "df['X_res'] = df['X_res'].str.replace(',','').str.findall(r'(\\d+\\.?\\d+)').apply(lambda x:x[0])\n",
    "\n",
    "df.head()"
   ],
   "metadata": {
    "collapsed": false,
    "pycharm": {
     "name": "#%%\n"
    }
   }
  },
  {
   "cell_type": "code",
   "execution_count": 328,
   "outputs": [
    {
     "name": "stdout",
     "output_type": "stream",
     "text": [
      "<class 'pandas.core.frame.DataFrame'>\n",
      "RangeIndex: 1303 entries, 0 to 1302\n",
      "Data columns (total 15 columns):\n",
      " #   Column            Non-Null Count  Dtype  \n",
      "---  ------            --------------  -----  \n",
      " 0   Company           1303 non-null   object \n",
      " 1   TypeName          1303 non-null   object \n",
      " 2   Inches            1303 non-null   float64\n",
      " 3   ScreenResolution  1303 non-null   object \n",
      " 4   Cpu               1303 non-null   object \n",
      " 5   Ram               1303 non-null   int32  \n",
      " 6   Memory            1303 non-null   object \n",
      " 7   Gpu               1303 non-null   object \n",
      " 8   OpSys             1303 non-null   object \n",
      " 9   Weight            1303 non-null   float32\n",
      " 10  Price             1303 non-null   float64\n",
      " 11  TouchScreen       1303 non-null   int64  \n",
      " 12  IPS               1303 non-null   int64  \n",
      " 13  X_res             1303 non-null   int32  \n",
      " 14  Y_res             1303 non-null   int32  \n",
      "dtypes: float32(1), float64(2), int32(3), int64(2), object(7)\n",
      "memory usage: 132.5+ KB\n"
     ]
    }
   ],
   "source": [
    "df['X_res'] = df['X_res'].astype('int')\n",
    "df['Y_res'] = df['Y_res'].astype('int')\n",
    "df.info()"
   ],
   "metadata": {
    "collapsed": false,
    "pycharm": {
     "name": "#%%\n"
    }
   }
  },
  {
   "cell_type": "code",
   "execution_count": 329,
   "outputs": [
    {
     "data": {
      "text/plain": "<AxesSubplot:>"
     },
     "execution_count": 329,
     "metadata": {},
     "output_type": "execute_result"
    },
    {
     "data": {
      "text/plain": "<Figure size 1080x504 with 2 Axes>",
      "image/png": "[encoded data removed]"
     },
     "metadata": {
      "needs_background": "light"
     },
     "output_type": "display_data"
    }
   ],
   "source": [
    "plt.figure(figsize=(15,7))\n",
    "sn.heatmap(df.corr(),annot=True,cmap='plasma')"
   ],
   "metadata": {
    "collapsed": false,
    "pycharm": {
     "name": "#%%\n"
    }
   }
  },
  {
   "cell_type": "code",
   "execution_count": 330,
   "outputs": [
    {
     "data": {
      "text/plain": "Inches         0.068197\nRam            0.743007\nWeight         0.210370\nPrice          1.000000\nTouchScreen    0.191226\nIPS            0.252208\nX_res          0.556529\nY_res          0.552809\nName: Price, dtype: float64"
     },
     "execution_count": 330,
     "metadata": {},
     "output_type": "execute_result"
    }
   ],
   "source": [
    "df.corr()['Price']"
   ],
   "metadata": {
    "collapsed": false,
    "pycharm": {
     "name": "#%%\n"
    }
   }
  },
  {
   "cell_type": "markdown",
   "source": [
    "From the correlation plot we observed that as the X_res and Y_res is increasing,the price of the laptop is also increasing,so X_res and Y_res are positively correlated and they are giving much information,so that is the reason why i had splitted Resolution column into X_res and Y_res columns respectively\n",
    "\n",
    "So to make things good,we can create a new column named PPI{pixels per inch},now as we saw from the correlation plot that the X_res and Y_res are having much collinearity,so why not combine them with Inches which is having less collinearity,so we will combine them as follows ↓,so here is the formula of how to calculate PPI {pixels per inch}"
   ],
   "metadata": {
    "collapsed": false,
    "pycharm": {
     "name": "#%% md\n"
    }
   }
  },
  {
   "cell_type": "code",
   "execution_count": 331,
   "outputs": [
    {
     "data": {
      "text/plain": "  Company   TypeName  Inches                    ScreenResolution  \\\n0   Apple  Ultrabook    13.3  IPS Panel Retina Display 2560x1600   \n1   Apple  Ultrabook    13.3                            1440x900   \n2      HP   Notebook    15.6                   Full HD 1920x1080   \n3   Apple  Ultrabook    15.4  IPS Panel Retina Display 2880x1800   \n4   Apple  Ultrabook    13.3  IPS Panel Retina Display 2560x1600   \n\n                          Cpu  Ram               Memory  \\\n0        Intel Core i5 2.3GHz    8            128GB SSD   \n1        Intel Core i5 1.8GHz    8  128GB Flash Storage   \n2  Intel Core i5 7200U 2.5GHz    8            256GB SSD   \n3        Intel Core i7 2.7GHz   16            512GB SSD   \n4        Intel Core i5 3.1GHz    8            256GB SSD   \n\n                            Gpu  OpSys  Weight        Price  TouchScreen  IPS  \\\n0  Intel Iris Plus Graphics 640  macOS    1.37   71378.6832            0    1   \n1        Intel HD Graphics 6000  macOS    1.34   47895.5232            0    0   \n2         Intel HD Graphics 620  No OS    1.86   30636.0000            0    0   \n3            AMD Radeon Pro 455  macOS    1.83  135195.3360            0    1   \n4  Intel Iris Plus Graphics 650  macOS    1.37   96095.8080            0    1   \n\n   X_res  Y_res         PPI  \n0   2560   1600  226.983005  \n1   1440    900  127.677940  \n2   1920   1080  141.211998  \n3   2880   1800  220.534624  \n4   2560   1600  226.983005  ",
      "text/html": "<div>\n<style scoped>\n    .dataframe tbody tr th:only-of-type {\n        vertical-align: middle;\n    }\n\n    .dataframe tbody tr th {\n        vertical-align: top;\n    }\n\n    .dataframe thead th {\n        text-align: right;\n    }\n</style>\n<table border=\"1\" class=\"dataframe\">\n  <thead>\n    <tr style=\"text-align: right;\">\n      <th></th>\n      <th>Company</th>\n      <th>TypeName</th>\n      <th>Inches</th>\n      <th>ScreenResolution</th>\n      <th>Cpu</th>\n      <th>Ram</th>\n      <th>Memory</th>\n      <th>Gpu</th>\n      <th>OpSys</th>\n      <th>Weight</th>\n      <th>Price</th>\n      <th>TouchScreen</th>\n      <th>IPS</th>\n      <th>X_res</th>\n      <th>Y_res</th>\n      <th>PPI</th>\n    </tr>\n  </thead>\n  <tbody>\n    <tr>\n      <th>0</th>\n      <td>Apple</td>\n      <td>Ultrabook</td>\n      <td>13.3</td>\n      <td>IPS Panel Retina Display 2560x1600</td>\n      <td>Intel Core i5 2.3GHz</td>\n      <td>8</td>\n      <td>128GB SSD</td>\n      <td>Intel Iris Plus Graphics 640</td>\n      <td>macOS</td>\n      <td>1.37</td>\n      <td>71378.6832</td>\n      <td>0</td>\n      <td>1</td>\n      <td>2560</td>\n      <td>1600</td>\n      <td>226.983005</td>\n    </tr>\n    <tr>\n      <th>1</th>\n      <td>Apple</td>\n      <td>Ultrabook</td>\n      <td>13.3</td>\n      <td>1440x900</td>\n      <td>Intel Core i5 1.8GHz</td>\n      <td>8</td>\n      <td>128GB Flash Storage</td>\n      <td>Intel HD Graphics 6000</td>\n      <td>macOS</td>\n      <td>1.34</td>\n      <td>47895.5232</td>\n      <td>0</td>\n      <td>0</td>\n      <td>1440</td>\n      <td>900</td>\n      <td>127.677940</td>\n    </tr>\n    <tr>\n      <th>2</th>\n      <td>HP</td>\n      <td>Notebook</td>\n      <td>15.6</td>\n      <td>Full HD 1920x1080</td>\n      <td>Intel Core i5 7200U 2.5GHz</td>\n      <td>8</td>\n      <td>256GB SSD</td>\n      <td>Intel HD Graphics 620</td>\n      <td>No OS</td>\n      <td>1.86</td>\n      <td>30636.0000</td>\n      <td>0</td>\n      <td>0</td>\n      <td>1920</td>\n      <td>1080</td>\n      <td>141.211998</td>\n    </tr>\n    <tr>\n      <th>3</th>\n      <td>Apple</td>\n      <td>Ultrabook</td>\n      <td>15.4</td>\n      <td>IPS Panel Retina Display 2880x1800</td>\n      <td>Intel Core i7 2.7GHz</td>\n      <td>16</td>\n      <td>512GB SSD</td>\n      <td>AMD Radeon Pro 455</td>\n      <td>macOS</td>\n      <td>1.83</td>\n      <td>135195.3360</td>\n      <td>0</td>\n      <td>1</td>\n      <td>2880</td>\n      <td>1800</td>\n      <td>220.534624</td>\n    </tr>\n    <tr>\n      <th>4</th>\n      <td>Apple</td>\n      <td>Ultrabook</td>\n      <td>13.3</td>\n      <td>IPS Panel Retina Display 2560x1600</td>\n      <td>Intel Core i5 3.1GHz</td>\n      <td>8</td>\n      <td>256GB SSD</td>\n      <td>Intel Iris Plus Graphics 650</td>\n      <td>macOS</td>\n      <td>1.37</td>\n      <td>96095.8080</td>\n      <td>0</td>\n      <td>1</td>\n      <td>2560</td>\n      <td>1600</td>\n      <td>226.983005</td>\n    </tr>\n  </tbody>\n</table>\n</div>"
     },
     "execution_count": 331,
     "metadata": {},
     "output_type": "execute_result"
    }
   ],
   "source": [
    "df['PPI'] = (((df['X_res']**2+df['Y_res']**2))**0.5/df['Inches']).astype('float')\n",
    "df.head()"
   ],
   "metadata": {
    "collapsed": false,
    "pycharm": {
     "name": "#%%\n"
    }
   }
  },
  {
   "cell_type": "code",
   "execution_count": 332,
   "outputs": [
    {
     "data": {
      "text/plain": "Inches         0.068197\nRam            0.743007\nWeight         0.210370\nPrice          1.000000\nTouchScreen    0.191226\nIPS            0.252208\nX_res          0.556529\nY_res          0.552809\nPPI            0.473487\nName: Price, dtype: float64"
     },
     "execution_count": 332,
     "metadata": {},
     "output_type": "execute_result"
    }
   ],
   "source": [
    "df.corr()['Price']"
   ],
   "metadata": {
    "collapsed": false,
    "pycharm": {
     "name": "#%%\n"
    }
   }
  },
  {
   "cell_type": "markdown",
   "source": [
    "So as we observe from the correlation data that the PPI is having good correlation,so we will be using that,as that is a combination of 3 features and that gives collective results of 3 columns,so we will drop Inches,X_res,Y_res as well"
   ],
   "metadata": {
    "collapsed": false,
    "pycharm": {
     "name": "#%% md\n"
    }
   }
  },
  {
   "cell_type": "code",
   "execution_count": 333,
   "outputs": [
    {
     "data": {
      "text/plain": "  Company   TypeName                         Cpu  Ram               Memory  \\\n0   Apple  Ultrabook        Intel Core i5 2.3GHz    8            128GB SSD   \n1   Apple  Ultrabook        Intel Core i5 1.8GHz    8  128GB Flash Storage   \n2      HP   Notebook  Intel Core i5 7200U 2.5GHz    8            256GB SSD   \n3   Apple  Ultrabook        Intel Core i7 2.7GHz   16            512GB SSD   \n4   Apple  Ultrabook        Intel Core i5 3.1GHz    8            256GB SSD   \n\n                            Gpu  OpSys  Weight        Price  TouchScreen  IPS  \\\n0  Intel Iris Plus Graphics 640  macOS    1.37   71378.6832            0    1   \n1        Intel HD Graphics 6000  macOS    1.34   47895.5232            0    0   \n2         Intel HD Graphics 620  No OS    1.86   30636.0000            0    0   \n3            AMD Radeon Pro 455  macOS    1.83  135195.3360            0    1   \n4  Intel Iris Plus Graphics 650  macOS    1.37   96095.8080            0    1   \n\n          PPI  \n0  226.983005  \n1  127.677940  \n2  141.211998  \n3  220.534624  \n4  226.983005  ",
      "text/html": "<div>\n<style scoped>\n    .dataframe tbody tr th:only-of-type {\n        vertical-align: middle;\n    }\n\n    .dataframe tbody tr th {\n        vertical-align: top;\n    }\n\n    .dataframe thead th {\n        text-align: right;\n    }\n</style>\n<table border=\"1\" class=\"dataframe\">\n  <thead>\n    <tr style=\"text-align: right;\">\n      <th></th>\n      <th>Company</th>\n      <th>TypeName</th>\n      <th>Cpu</th>\n      <th>Ram</th>\n      <th>Memory</th>\n      <th>Gpu</th>\n      <th>OpSys</th>\n      <th>Weight</th>\n      <th>Price</th>\n      <th>TouchScreen</th>\n      <th>IPS</th>\n      <th>PPI</th>\n    </tr>\n  </thead>\n  <tbody>\n    <tr>\n      <th>0</th>\n      <td>Apple</td>\n      <td>Ultrabook</td>\n      <td>Intel Core i5 2.3GHz</td>\n      <td>8</td>\n      <td>128GB SSD</td>\n      <td>Intel Iris Plus Graphics 640</td>\n      <td>macOS</td>\n      <td>1.37</td>\n      <td>71378.6832</td>\n      <td>0</td>\n      <td>1</td>\n      <td>226.983005</td>\n    </tr>\n    <tr>\n      <th>1</th>\n      <td>Apple</td>\n      <td>Ultrabook</td>\n      <td>Intel Core i5 1.8GHz</td>\n      <td>8</td>\n      <td>128GB Flash Storage</td>\n      <td>Intel HD Graphics 6000</td>\n      <td>macOS</td>\n      <td>1.34</td>\n      <td>47895.5232</td>\n      <td>0</td>\n      <td>0</td>\n      <td>127.677940</td>\n    </tr>\n    <tr>\n      <th>2</th>\n      <td>HP</td>\n      <td>Notebook</td>\n      <td>Intel Core i5 7200U 2.5GHz</td>\n      <td>8</td>\n      <td>256GB SSD</td>\n      <td>Intel HD Graphics 620</td>\n      <td>No OS</td>\n      <td>1.86</td>\n      <td>30636.0000</td>\n      <td>0</td>\n      <td>0</td>\n      <td>141.211998</td>\n    </tr>\n    <tr>\n      <th>3</th>\n      <td>Apple</td>\n      <td>Ultrabook</td>\n      <td>Intel Core i7 2.7GHz</td>\n      <td>16</td>\n      <td>512GB SSD</td>\n      <td>AMD Radeon Pro 455</td>\n      <td>macOS</td>\n      <td>1.83</td>\n      <td>135195.3360</td>\n      <td>0</td>\n      <td>1</td>\n      <td>220.534624</td>\n    </tr>\n    <tr>\n      <th>4</th>\n      <td>Apple</td>\n      <td>Ultrabook</td>\n      <td>Intel Core i5 3.1GHz</td>\n      <td>8</td>\n      <td>256GB SSD</td>\n      <td>Intel Iris Plus Graphics 650</td>\n      <td>macOS</td>\n      <td>1.37</td>\n      <td>96095.8080</td>\n      <td>0</td>\n      <td>1</td>\n      <td>226.983005</td>\n    </tr>\n  </tbody>\n</table>\n</div>"
     },
     "execution_count": 333,
     "metadata": {},
     "output_type": "execute_result"
    }
   ],
   "source": [
    "df.drop(columns=['ScreenResolution','Inches','X_res','Y_res'],inplace=True)\n",
    "df.head()"
   ],
   "metadata": {
    "collapsed": false,
    "pycharm": {
     "name": "#%%\n"
    }
   }
  },
  {
   "cell_type": "markdown",
   "source": [
    "Now we will work on CPU column,as that also has much text data and we need to process it efficiently as we may get good insights from them"
   ],
   "metadata": {
    "collapsed": false,
    "pycharm": {
     "name": "#%% md\n"
    }
   }
  },
  {
   "cell_type": "code",
   "execution_count": 334,
   "outputs": [
    {
     "data": {
      "text/plain": "Intel Core i5 7200U 2.5GHz       190\nIntel Core i7 7700HQ 2.8GHz      146\nIntel Core i7 7500U 2.7GHz       134\nIntel Core i7 8550U 1.8GHz        73\nIntel Core i5 8250U 1.6GHz        72\n                                ... \nIntel Core M M3-6Y30 0.9GHz        1\nAMD A9-Series 9420 2.9GHz          1\nIntel Core i3 6006U 2.2GHz         1\nAMD A6-Series 7310 2GHz            1\nIntel Xeon E3-1535M v6 3.1GHz      1\nName: Cpu, Length: 118, dtype: int64"
     },
     "execution_count": 334,
     "metadata": {},
     "output_type": "execute_result"
    }
   ],
   "source": [
    "df['Cpu'].value_counts()"
   ],
   "metadata": {
    "collapsed": false,
    "pycharm": {
     "name": "#%%\n"
    }
   }
  },
  {
   "cell_type": "code",
   "execution_count": 335,
   "outputs": [
    {
     "data": {
      "text/plain": "  Company   TypeName                         Cpu  Ram               Memory  \\\n0   Apple  Ultrabook        Intel Core i5 2.3GHz    8            128GB SSD   \n1   Apple  Ultrabook        Intel Core i5 1.8GHz    8  128GB Flash Storage   \n2      HP   Notebook  Intel Core i5 7200U 2.5GHz    8            256GB SSD   \n3   Apple  Ultrabook        Intel Core i7 2.7GHz   16            512GB SSD   \n4   Apple  Ultrabook        Intel Core i5 3.1GHz    8            256GB SSD   \n\n                            Gpu  OpSys  Weight        Price  TouchScreen  IPS  \\\n0  Intel Iris Plus Graphics 640  macOS    1.37   71378.6832            0    1   \n1        Intel HD Graphics 6000  macOS    1.34   47895.5232            0    0   \n2         Intel HD Graphics 620  No OS    1.86   30636.0000            0    0   \n3            AMD Radeon Pro 455  macOS    1.83  135195.3360            0    1   \n4  Intel Iris Plus Graphics 650  macOS    1.37   96095.8080            0    1   \n\n          PPI       CPU_name  \n0  226.983005  Intel Core i5  \n1  127.677940  Intel Core i5  \n2  141.211998  Intel Core i5  \n3  220.534624  Intel Core i7  \n4  226.983005  Intel Core i5  ",
      "text/html": "<div>\n<style scoped>\n    .dataframe tbody tr th:only-of-type {\n        vertical-align: middle;\n    }\n\n    .dataframe tbody tr th {\n        vertical-align: top;\n    }\n\n    .dataframe thead th {\n        text-align: right;\n    }\n</style>\n<table border=\"1\" class=\"dataframe\">\n  <thead>\n    <tr style=\"text-align: right;\">\n      <th></th>\n      <th>Company</th>\n      <th>TypeName</th>\n      <th>Cpu</th>\n      <th>Ram</th>\n      <th>Memory</th>\n      <th>Gpu</th>\n      <th>OpSys</th>\n      <th>Weight</th>\n      <th>Price</th>\n      <th>TouchScreen</th>\n      <th>IPS</th>\n      <th>PPI</th>\n      <th>CPU_name</th>\n    </tr>\n  </thead>\n  <tbody>\n    <tr>\n      <th>0</th>\n      <td>Apple</td>\n      <td>Ultrabook</td>\n      <td>Intel Core i5 2.3GHz</td>\n      <td>8</td>\n      <td>128GB SSD</td>\n      <td>Intel Iris Plus Graphics 640</td>\n      <td>macOS</td>\n      <td>1.37</td>\n      <td>71378.6832</td>\n      <td>0</td>\n      <td>1</td>\n      <td>226.983005</td>\n      <td>Intel Core i5</td>\n    </tr>\n    <tr>\n      <th>1</th>\n      <td>Apple</td>\n      <td>Ultrabook</td>\n      <td>Intel Core i5 1.8GHz</td>\n      <td>8</td>\n      <td>128GB Flash Storage</td>\n      <td>Intel HD Graphics 6000</td>\n      <td>macOS</td>\n      <td>1.34</td>\n      <td>47895.5232</td>\n      <td>0</td>\n      <td>0</td>\n      <td>127.677940</td>\n      <td>Intel Core i5</td>\n    </tr>\n    <tr>\n      <th>2</th>\n      <td>HP</td>\n      <td>Notebook</td>\n      <td>Intel Core i5 7200U 2.5GHz</td>\n      <td>8</td>\n      <td>256GB SSD</td>\n      <td>Intel HD Graphics 620</td>\n      <td>No OS</td>\n      <td>1.86</td>\n      <td>30636.0000</td>\n      <td>0</td>\n      <td>0</td>\n      <td>141.211998</td>\n      <td>Intel Core i5</td>\n    </tr>\n    <tr>\n      <th>3</th>\n      <td>Apple</td>\n      <td>Ultrabook</td>\n      <td>Intel Core i7 2.7GHz</td>\n      <td>16</td>\n      <td>512GB SSD</td>\n      <td>AMD Radeon Pro 455</td>\n      <td>macOS</td>\n      <td>1.83</td>\n      <td>135195.3360</td>\n      <td>0</td>\n      <td>1</td>\n      <td>220.534624</td>\n      <td>Intel Core i7</td>\n    </tr>\n    <tr>\n      <th>4</th>\n      <td>Apple</td>\n      <td>Ultrabook</td>\n      <td>Intel Core i5 3.1GHz</td>\n      <td>8</td>\n      <td>256GB SSD</td>\n      <td>Intel Iris Plus Graphics 650</td>\n      <td>macOS</td>\n      <td>1.37</td>\n      <td>96095.8080</td>\n      <td>0</td>\n      <td>1</td>\n      <td>226.983005</td>\n      <td>Intel Core i5</td>\n    </tr>\n  </tbody>\n</table>\n</div>"
     },
     "execution_count": 335,
     "metadata": {},
     "output_type": "execute_result"
    }
   ],
   "source": [
    "df['CPU_name'] = df['Cpu'].apply(lambda text:\" \".join(text.split()[:3]))\n",
    "df.head()"
   ],
   "metadata": {
    "collapsed": false,
    "pycharm": {
     "name": "#%%\n"
    }
   }
  },
  {
   "cell_type": "code",
   "execution_count": 336,
   "outputs": [
    {
     "data": {
      "text/plain": "  Company   TypeName                         Cpu  Ram               Memory  \\\n0   Apple  Ultrabook        Intel Core i5 2.3GHz    8            128GB SSD   \n1   Apple  Ultrabook        Intel Core i5 1.8GHz    8  128GB Flash Storage   \n2      HP   Notebook  Intel Core i5 7200U 2.5GHz    8            256GB SSD   \n3   Apple  Ultrabook        Intel Core i7 2.7GHz   16            512GB SSD   \n4   Apple  Ultrabook        Intel Core i5 3.1GHz    8            256GB SSD   \n\n                            Gpu  OpSys  Weight        Price  TouchScreen  IPS  \\\n0  Intel Iris Plus Graphics 640  macOS    1.37   71378.6832            0    1   \n1        Intel HD Graphics 6000  macOS    1.34   47895.5232            0    0   \n2         Intel HD Graphics 620  No OS    1.86   30636.0000            0    0   \n3            AMD Radeon Pro 455  macOS    1.83  135195.3360            0    1   \n4  Intel Iris Plus Graphics 650  macOS    1.37   96095.8080            0    1   \n\n          PPI       CPU_name  \n0  226.983005  Intel Core i5  \n1  127.677940  Intel Core i5  \n2  141.211998  Intel Core i5  \n3  220.534624  Intel Core i7  \n4  226.983005  Intel Core i5  ",
      "text/html": "<div>\n<style scoped>\n    .dataframe tbody tr th:only-of-type {\n        vertical-align: middle;\n    }\n\n    .dataframe tbody tr th {\n        vertical-align: top;\n    }\n\n    .dataframe thead th {\n        text-align: right;\n    }\n</style>\n<table border=\"1\" class=\"dataframe\">\n  <thead>\n    <tr style=\"text-align: right;\">\n      <th></th>\n      <th>Company</th>\n      <th>TypeName</th>\n      <th>Cpu</th>\n      <th>Ram</th>\n      <th>Memory</th>\n      <th>Gpu</th>\n      <th>OpSys</th>\n      <th>Weight</th>\n      <th>Price</th>\n      <th>TouchScreen</th>\n      <th>IPS</th>\n      <th>PPI</th>\n      <th>CPU_name</th>\n    </tr>\n  </thead>\n  <tbody>\n    <tr>\n      <th>0</th>\n      <td>Apple</td>\n      <td>Ultrabook</td>\n      <td>Intel Core i5 2.3GHz</td>\n      <td>8</td>\n      <td>128GB SSD</td>\n      <td>Intel Iris Plus Graphics 640</td>\n      <td>macOS</td>\n      <td>1.37</td>\n      <td>71378.6832</td>\n      <td>0</td>\n      <td>1</td>\n      <td>226.983005</td>\n      <td>Intel Core i5</td>\n    </tr>\n    <tr>\n      <th>1</th>\n      <td>Apple</td>\n      <td>Ultrabook</td>\n      <td>Intel Core i5 1.8GHz</td>\n      <td>8</td>\n      <td>128GB Flash Storage</td>\n      <td>Intel HD Graphics 6000</td>\n      <td>macOS</td>\n      <td>1.34</td>\n      <td>47895.5232</td>\n      <td>0</td>\n      <td>0</td>\n      <td>127.677940</td>\n      <td>Intel Core i5</td>\n    </tr>\n    <tr>\n      <th>2</th>\n      <td>HP</td>\n      <td>Notebook</td>\n      <td>Intel Core i5 7200U 2.5GHz</td>\n      <td>8</td>\n      <td>256GB SSD</td>\n      <td>Intel HD Graphics 620</td>\n      <td>No OS</td>\n      <td>1.86</td>\n      <td>30636.0000</td>\n      <td>0</td>\n      <td>0</td>\n      <td>141.211998</td>\n      <td>Intel Core i5</td>\n    </tr>\n    <tr>\n      <th>3</th>\n      <td>Apple</td>\n      <td>Ultrabook</td>\n      <td>Intel Core i7 2.7GHz</td>\n      <td>16</td>\n      <td>512GB SSD</td>\n      <td>AMD Radeon Pro 455</td>\n      <td>macOS</td>\n      <td>1.83</td>\n      <td>135195.3360</td>\n      <td>0</td>\n      <td>1</td>\n      <td>220.534624</td>\n      <td>Intel Core i7</td>\n    </tr>\n    <tr>\n      <th>4</th>\n      <td>Apple</td>\n      <td>Ultrabook</td>\n      <td>Intel Core i5 3.1GHz</td>\n      <td>8</td>\n      <td>256GB SSD</td>\n      <td>Intel Iris Plus Graphics 650</td>\n      <td>macOS</td>\n      <td>1.37</td>\n      <td>96095.8080</td>\n      <td>0</td>\n      <td>1</td>\n      <td>226.983005</td>\n      <td>Intel Core i5</td>\n    </tr>\n  </tbody>\n</table>\n</div>"
     },
     "execution_count": 336,
     "metadata": {},
     "output_type": "execute_result"
    }
   ],
   "source": [
    "'''\n",
    "As mentioned earlier,if we get any of the intel `i3,i5 or i7` versions\n",
    "we will return them as it is,but if we get any other processor\n",
    "we will first check whether is that a variant of the intel? or not\n",
    "if yes,then we will tag it as \"Other Intel Processor\" else we will\n",
    "say it as `AMD Processor`\n",
    "\n",
    "'''\n",
    "\n",
    "def processortype(text):\n",
    "\n",
    "    if text=='Intel Core i7' or text=='Intel Core i5' or text=='Intel Core i3':\n",
    "        return text\n",
    "\n",
    "    else:\n",
    "        if text.split()[0]=='Intel':\n",
    "            return 'Other Intel Processor'\n",
    "\n",
    "        else:\n",
    "            return 'AMD Processor'\n",
    "\n",
    "\n",
    "\n",
    "df['CPU_name'] = df['CPU_name'].apply(lambda text:processortype(text))\n",
    "df.head()"
   ],
   "metadata": {
    "collapsed": false,
    "pycharm": {
     "name": "#%%\n"
    }
   }
  },
  {
   "cell_type": "code",
   "execution_count": 337,
   "outputs": [
    {
     "name": "stderr",
     "output_type": "stream",
     "text": [
      "C:\\Users\\Taneesha\\anaconda3\\lib\\site-packages\\seaborn\\_decorators.py:36: FutureWarning: Pass the following variable as a keyword arg: x. From version 0.12, the only valid positional argument will be `data`, and passing other arguments without an explicit keyword will result in an error or misinterpretation.\n",
      "  warnings.warn(\n"
     ]
    },
    {
     "data": {
      "text/plain": "(array([0, 1, 2, 3, 4]),\n [Text(0, 0, 'Intel Core i5'),\n  Text(1, 0, 'Intel Core i7'),\n  Text(2, 0, 'AMD Processor'),\n  Text(3, 0, 'Intel Core i3'),\n  Text(4, 0, 'Other Intel Processor')])"
     },
     "execution_count": 337,
     "metadata": {},
     "output_type": "execute_result"
    },
    {
     "data": {
      "text/plain": "<Figure size 432x288 with 1 Axes>",
      "image/png": "[encoded data removed]"
     },
     "metadata": {
      "needs_background": "light"
     },
     "output_type": "display_data"
    }
   ],
   "source": [
    "sn.countplot(df['CPU_name'],palette='plasma')\n",
    "plt.xticks(rotation = 'vertical')"
   ],
   "metadata": {
    "collapsed": false,
    "pycharm": {
     "name": "#%%\n"
    }
   }
  },
  {
   "cell_type": "code",
   "execution_count": 338,
   "outputs": [
    {
     "name": "stderr",
     "output_type": "stream",
     "text": [
      "C:\\Users\\Taneesha\\anaconda3\\lib\\site-packages\\seaborn\\_decorators.py:36: FutureWarning: Pass the following variables as keyword args: x, y. From version 0.12, the only valid positional argument will be `data`, and passing other arguments without an explicit keyword will result in an error or misinterpretation.\n",
      "  warnings.warn(\n"
     ]
    },
    {
     "data": {
      "text/plain": "(array([0, 1, 2, 3, 4]),\n [Text(0, 0, 'Intel Core i5'),\n  Text(1, 0, 'Intel Core i7'),\n  Text(2, 0, 'AMD Processor'),\n  Text(3, 0, 'Intel Core i3'),\n  Text(4, 0, 'Other Intel Processor')])"
     },
     "execution_count": 338,
     "metadata": {},
     "output_type": "execute_result"
    },
    {
     "data": {
      "text/plain": "<Figure size 432x288 with 1 Axes>",
      "image/png": "[encoded data removed]"
     },
     "metadata": {
      "needs_background": "light"
     },
     "output_type": "display_data"
    }
   ],
   "source": [
    "# price vs processor variation\n",
    "\n",
    "sn.barplot(df['CPU_name'],df['Price'])\n",
    "plt.xticks(rotation = 'vertical')"
   ],
   "metadata": {
    "collapsed": false,
    "pycharm": {
     "name": "#%%\n"
    }
   }
  },
  {
   "cell_type": "code",
   "execution_count": 339,
   "outputs": [
    {
     "data": {
      "text/plain": "  Company   TypeName  Ram               Memory                           Gpu  \\\n0   Apple  Ultrabook    8            128GB SSD  Intel Iris Plus Graphics 640   \n1   Apple  Ultrabook    8  128GB Flash Storage        Intel HD Graphics 6000   \n2      HP   Notebook    8            256GB SSD         Intel HD Graphics 620   \n3   Apple  Ultrabook   16            512GB SSD            AMD Radeon Pro 455   \n4   Apple  Ultrabook    8            256GB SSD  Intel Iris Plus Graphics 650   \n\n   OpSys  Weight        Price  TouchScreen  IPS         PPI       CPU_name  \n0  macOS    1.37   71378.6832            0    1  226.983005  Intel Core i5  \n1  macOS    1.34   47895.5232            0    0  127.677940  Intel Core i5  \n2  No OS    1.86   30636.0000            0    0  141.211998  Intel Core i5  \n3  macOS    1.83  135195.3360            0    1  220.534624  Intel Core i7  \n4  macOS    1.37   96095.8080            0    1  226.983005  Intel Core i5  ",
      "text/html": "<div>\n<style scoped>\n    .dataframe tbody tr th:only-of-type {\n        vertical-align: middle;\n    }\n\n    .dataframe tbody tr th {\n        vertical-align: top;\n    }\n\n    .dataframe thead th {\n        text-align: right;\n    }\n</style>\n<table border=\"1\" class=\"dataframe\">\n  <thead>\n    <tr style=\"text-align: right;\">\n      <th></th>\n      <th>Company</th>\n      <th>TypeName</th>\n      <th>Ram</th>\n      <th>Memory</th>\n      <th>Gpu</th>\n      <th>OpSys</th>\n      <th>Weight</th>\n      <th>Price</th>\n      <th>TouchScreen</th>\n      <th>IPS</th>\n      <th>PPI</th>\n      <th>CPU_name</th>\n    </tr>\n  </thead>\n  <tbody>\n    <tr>\n      <th>0</th>\n      <td>Apple</td>\n      <td>Ultrabook</td>\n      <td>8</td>\n      <td>128GB SSD</td>\n      <td>Intel Iris Plus Graphics 640</td>\n      <td>macOS</td>\n      <td>1.37</td>\n      <td>71378.6832</td>\n      <td>0</td>\n      <td>1</td>\n      <td>226.983005</td>\n      <td>Intel Core i5</td>\n    </tr>\n    <tr>\n      <th>1</th>\n      <td>Apple</td>\n      <td>Ultrabook</td>\n      <td>8</td>\n      <td>128GB Flash Storage</td>\n      <td>Intel HD Graphics 6000</td>\n      <td>macOS</td>\n      <td>1.34</td>\n      <td>47895.5232</td>\n      <td>0</td>\n      <td>0</td>\n      <td>127.677940</td>\n      <td>Intel Core i5</td>\n    </tr>\n    <tr>\n      <th>2</th>\n      <td>HP</td>\n      <td>Notebook</td>\n      <td>8</td>\n      <td>256GB SSD</td>\n      <td>Intel HD Graphics 620</td>\n      <td>No OS</td>\n      <td>1.86</td>\n      <td>30636.0000</td>\n      <td>0</td>\n      <td>0</td>\n      <td>141.211998</td>\n      <td>Intel Core i5</td>\n    </tr>\n    <tr>\n      <th>3</th>\n      <td>Apple</td>\n      <td>Ultrabook</td>\n      <td>16</td>\n      <td>512GB SSD</td>\n      <td>AMD Radeon Pro 455</td>\n      <td>macOS</td>\n      <td>1.83</td>\n      <td>135195.3360</td>\n      <td>0</td>\n      <td>1</td>\n      <td>220.534624</td>\n      <td>Intel Core i7</td>\n    </tr>\n    <tr>\n      <th>4</th>\n      <td>Apple</td>\n      <td>Ultrabook</td>\n      <td>8</td>\n      <td>256GB SSD</td>\n      <td>Intel Iris Plus Graphics 650</td>\n      <td>macOS</td>\n      <td>1.37</td>\n      <td>96095.8080</td>\n      <td>0</td>\n      <td>1</td>\n      <td>226.983005</td>\n      <td>Intel Core i5</td>\n    </tr>\n  </tbody>\n</table>\n</div>"
     },
     "execution_count": 339,
     "metadata": {},
     "output_type": "execute_result"
    }
   ],
   "source": [
    "## dropping the cpu column\n",
    "\n",
    "df.drop(columns=['Cpu'],inplace=True)\n",
    "df.head()"
   ],
   "metadata": {
    "collapsed": false,
    "pycharm": {
     "name": "#%%\n"
    }
   }
  },
  {
   "cell_type": "markdown",
   "source": [
    "Analysis on the RAM column"
   ],
   "metadata": {
    "collapsed": false,
    "pycharm": {
     "name": "#%% md\n"
    }
   }
  },
  {
   "cell_type": "code",
   "execution_count": 340,
   "outputs": [
    {
     "name": "stderr",
     "output_type": "stream",
     "text": [
      "C:\\Users\\Taneesha\\anaconda3\\lib\\site-packages\\seaborn\\_decorators.py:36: FutureWarning: Pass the following variable as a keyword arg: x. From version 0.12, the only valid positional argument will be `data`, and passing other arguments without an explicit keyword will result in an error or misinterpretation.\n",
      "  warnings.warn(\n"
     ]
    },
    {
     "data": {
      "text/plain": "<AxesSubplot:xlabel='Ram', ylabel='count'>"
     },
     "execution_count": 340,
     "metadata": {},
     "output_type": "execute_result"
    },
    {
     "data": {
      "text/plain": "<Figure size 432x288 with 1 Axes>",
      "image/png": "[encoded data removed]"
     },
     "metadata": {
      "needs_background": "light"
     },
     "output_type": "display_data"
    }
   ],
   "source": [
    "sn.countplot(df['Ram'],palette='autumn')"
   ],
   "metadata": {
    "collapsed": false,
    "pycharm": {
     "name": "#%%\n"
    }
   }
  },
  {
   "cell_type": "code",
   "execution_count": 341,
   "outputs": [
    {
     "name": "stderr",
     "output_type": "stream",
     "text": [
      "C:\\Users\\Taneesha\\anaconda3\\lib\\site-packages\\seaborn\\_decorators.py:36: FutureWarning: Pass the following variables as keyword args: x, y. From version 0.12, the only valid positional argument will be `data`, and passing other arguments without an explicit keyword will result in an error or misinterpretation.\n",
      "  warnings.warn(\n"
     ]
    },
    {
     "data": {
      "text/plain": "<AxesSubplot:xlabel='Ram', ylabel='Price'>"
     },
     "execution_count": 341,
     "metadata": {},
     "output_type": "execute_result"
    },
    {
     "data": {
      "text/plain": "<Figure size 432x288 with 1 Axes>",
      "image/png": "[encoded data removed]"
     },
     "metadata": {
      "needs_background": "light"
     },
     "output_type": "display_data"
    }
   ],
   "source": [
    "## ram is having good relation with price\n",
    "\n",
    "sn.barplot(df['Ram'],df['Price'])"
   ],
   "metadata": {
    "collapsed": false,
    "pycharm": {
     "name": "#%%\n"
    }
   }
  },
  {
   "cell_type": "markdown",
   "source": [
    "About the memory column"
   ],
   "metadata": {
    "collapsed": false,
    "pycharm": {
     "name": "#%% md\n"
    }
   }
  },
  {
   "cell_type": "code",
   "execution_count": 342,
   "outputs": [
    {
     "data": {
      "text/plain": "'128GB SSD'"
     },
     "execution_count": 342,
     "metadata": {},
     "output_type": "execute_result"
    }
   ],
   "source": [
    "df['Memory'].iloc[:1][0]"
   ],
   "metadata": {
    "collapsed": false,
    "pycharm": {
     "name": "#%%\n"
    }
   }
  },
  {
   "cell_type": "code",
   "execution_count": 343,
   "outputs": [
    {
     "data": {
      "text/plain": "256GB SSD                        412\n1TB HDD                          223\n500GB HDD                        132\n512GB SSD                        118\n128GB SSD +  1TB HDD              94\n128GB SSD                         76\n256GB SSD +  1TB HDD              73\n32GB Flash Storage                38\n2TB HDD                           16\n64GB Flash Storage                15\n512GB SSD +  1TB HDD              14\n1TB SSD                           14\n256GB SSD +  2TB HDD              10\n1.0TB Hybrid                       9\n256GB Flash Storage                8\n16GB Flash Storage                 7\n32GB SSD                           6\n180GB SSD                          5\n128GB Flash Storage                4\n512GB SSD +  2TB HDD               3\n16GB SSD                           3\n512GB Flash Storage                2\n1TB SSD +  1TB HDD                 2\n256GB SSD +  500GB HDD             2\n128GB SSD +  2TB HDD               2\n256GB SSD +  256GB SSD             2\n512GB SSD +  256GB SSD             1\n512GB SSD +  512GB SSD             1\n64GB Flash Storage +  1TB HDD      1\n1TB HDD +  1TB HDD                 1\n32GB HDD                           1\n64GB SSD                           1\n128GB HDD                          1\n240GB SSD                          1\n8GB SSD                            1\n508GB Hybrid                       1\n1.0TB HDD                          1\n512GB SSD +  1.0TB Hybrid          1\n256GB SSD +  1.0TB Hybrid          1\nName: Memory, dtype: int64"
     },
     "execution_count": 343,
     "metadata": {},
     "output_type": "execute_result"
    }
   ],
   "source": [
    "# we have different categories and also different kinds of variations\n",
    "\n",
    "df['Memory'].value_counts()"
   ],
   "metadata": {
    "collapsed": false,
    "pycharm": {
     "name": "#%%\n"
    }
   }
  },
  {
   "cell_type": "code",
   "execution_count": 344,
   "outputs": [
    {
     "data": {
      "text/plain": "                      0     1\n0               128 SSD  None\n1     128 Flash Storage  None\n2               256 SSD  None\n3               512 SSD  None\n4               256 SSD  None\n...                 ...   ...\n1298            128 SSD  None\n1299            512 SSD  None\n1300   64 Flash Storage  None\n1301           1000 HDD  None\n1302            500 HDD  None\n\n[1303 rows x 2 columns]",
      "text/html": "<div>\n<style scoped>\n    .dataframe tbody tr th:only-of-type {\n        vertical-align: middle;\n    }\n\n    .dataframe tbody tr th {\n        vertical-align: top;\n    }\n\n    .dataframe thead th {\n        text-align: right;\n    }\n</style>\n<table border=\"1\" class=\"dataframe\">\n  <thead>\n    <tr style=\"text-align: right;\">\n      <th></th>\n      <th>0</th>\n      <th>1</th>\n    </tr>\n  </thead>\n  <tbody>\n    <tr>\n      <th>0</th>\n      <td>128 SSD</td>\n      <td>None</td>\n    </tr>\n    <tr>\n      <th>1</th>\n      <td>128 Flash Storage</td>\n      <td>None</td>\n    </tr>\n    <tr>\n      <th>2</th>\n      <td>256 SSD</td>\n      <td>None</td>\n    </tr>\n    <tr>\n      <th>3</th>\n      <td>512 SSD</td>\n      <td>None</td>\n    </tr>\n    <tr>\n      <th>4</th>\n      <td>256 SSD</td>\n      <td>None</td>\n    </tr>\n    <tr>\n      <th>...</th>\n      <td>...</td>\n      <td>...</td>\n    </tr>\n    <tr>\n      <th>1298</th>\n      <td>128 SSD</td>\n      <td>None</td>\n    </tr>\n    <tr>\n      <th>1299</th>\n      <td>512 SSD</td>\n      <td>None</td>\n    </tr>\n    <tr>\n      <th>1300</th>\n      <td>64 Flash Storage</td>\n      <td>None</td>\n    </tr>\n    <tr>\n      <th>1301</th>\n      <td>1000 HDD</td>\n      <td>None</td>\n    </tr>\n    <tr>\n      <th>1302</th>\n      <td>500 HDD</td>\n      <td>None</td>\n    </tr>\n  </tbody>\n</table>\n<p>1303 rows × 2 columns</p>\n</div>"
     },
     "execution_count": 344,
     "metadata": {},
     "output_type": "execute_result"
    }
   ],
   "source": [
    "## 4 most common variants observed : HHD,SSD,Flash,Hybrid\n",
    "\n",
    "# this expression will remove the decimal space for example 1.0 TB will be 1TB\n",
    "\n",
    "df['Memory'] = df['Memory'].astype(str).replace('\\.0','',regex = True)\n",
    "\n",
    "# replace the GB word with \" \"\n",
    "\n",
    "df['Memory'] = df['Memory'].str.replace('GB','')\n",
    "\n",
    "# replace the TB word with \"000\"\n",
    "\n",
    "df['Memory'] = df['Memory'].str.replace('TB','000')\n",
    "\n",
    "# split the word accross the \"+\" character\n",
    "\n",
    "newdf = df['Memory'].str.split(\"+\",n = 1,expand = True)\n",
    "\n",
    "newdf"
   ],
   "metadata": {
    "collapsed": false,
    "pycharm": {
     "name": "#%%\n"
    }
   }
  },
  {
   "cell_type": "code",
   "execution_count": 345,
   "outputs": [
    {
     "data": {
      "text/plain": "  Company   TypeName  Ram             Memory                           Gpu  \\\n0   Apple  Ultrabook    8            128 SSD  Intel Iris Plus Graphics 640   \n1   Apple  Ultrabook    8  128 Flash Storage        Intel HD Graphics 6000   \n2      HP   Notebook    8            256 SSD         Intel HD Graphics 620   \n3   Apple  Ultrabook   16            512 SSD            AMD Radeon Pro 455   \n4   Apple  Ultrabook    8            256 SSD  Intel Iris Plus Graphics 650   \n\n   OpSys  Weight        Price  TouchScreen  IPS         PPI       CPU_name  \\\n0  macOS    1.37   71378.6832            0    1  226.983005  Intel Core i5   \n1  macOS    1.34   47895.5232            0    0  127.677940  Intel Core i5   \n2  No OS    1.86   30636.0000            0    0  141.211998  Intel Core i5   \n3  macOS    1.83  135195.3360            0    1  220.534624  Intel Core i7   \n4  macOS    1.37   96095.8080            0    1  226.983005  Intel Core i5   \n\n               first  \n0            128 SSD  \n1  128 Flash Storage  \n2            256 SSD  \n3            512 SSD  \n4            256 SSD  ",
      "text/html": "<div>\n<style scoped>\n    .dataframe tbody tr th:only-of-type {\n        vertical-align: middle;\n    }\n\n    .dataframe tbody tr th {\n        vertical-align: top;\n    }\n\n    .dataframe thead th {\n        text-align: right;\n    }\n</style>\n<table border=\"1\" class=\"dataframe\">\n  <thead>\n    <tr style=\"text-align: right;\">\n      <th></th>\n      <th>Company</th>\n      <th>TypeName</th>\n      <th>Ram</th>\n      <th>Memory</th>\n      <th>Gpu</th>\n      <th>OpSys</th>\n      <th>Weight</th>\n      <th>Price</th>\n      <th>TouchScreen</th>\n      <th>IPS</th>\n      <th>PPI</th>\n      <th>CPU_name</th>\n      <th>first</th>\n    </tr>\n  </thead>\n  <tbody>\n    <tr>\n      <th>0</th>\n      <td>Apple</td>\n      <td>Ultrabook</td>\n      <td>8</td>\n      <td>128 SSD</td>\n      <td>Intel Iris Plus Graphics 640</td>\n      <td>macOS</td>\n      <td>1.37</td>\n      <td>71378.6832</td>\n      <td>0</td>\n      <td>1</td>\n      <td>226.983005</td>\n      <td>Intel Core i5</td>\n      <td>128 SSD</td>\n    </tr>\n    <tr>\n      <th>1</th>\n      <td>Apple</td>\n      <td>Ultrabook</td>\n      <td>8</td>\n      <td>128 Flash Storage</td>\n      <td>Intel HD Graphics 6000</td>\n      <td>macOS</td>\n      <td>1.34</td>\n      <td>47895.5232</td>\n      <td>0</td>\n      <td>0</td>\n      <td>127.677940</td>\n      <td>Intel Core i5</td>\n      <td>128 Flash Storage</td>\n    </tr>\n    <tr>\n      <th>2</th>\n      <td>HP</td>\n      <td>Notebook</td>\n      <td>8</td>\n      <td>256 SSD</td>\n      <td>Intel HD Graphics 620</td>\n      <td>No OS</td>\n      <td>1.86</td>\n      <td>30636.0000</td>\n      <td>0</td>\n      <td>0</td>\n      <td>141.211998</td>\n      <td>Intel Core i5</td>\n      <td>256 SSD</td>\n    </tr>\n    <tr>\n      <th>3</th>\n      <td>Apple</td>\n      <td>Ultrabook</td>\n      <td>16</td>\n      <td>512 SSD</td>\n      <td>AMD Radeon Pro 455</td>\n      <td>macOS</td>\n      <td>1.83</td>\n      <td>135195.3360</td>\n      <td>0</td>\n      <td>1</td>\n      <td>220.534624</td>\n      <td>Intel Core i7</td>\n      <td>512 SSD</td>\n    </tr>\n    <tr>\n      <th>4</th>\n      <td>Apple</td>\n      <td>Ultrabook</td>\n      <td>8</td>\n      <td>256 SSD</td>\n      <td>Intel Iris Plus Graphics 650</td>\n      <td>macOS</td>\n      <td>1.37</td>\n      <td>96095.8080</td>\n      <td>0</td>\n      <td>1</td>\n      <td>226.983005</td>\n      <td>Intel Core i5</td>\n      <td>256 SSD</td>\n    </tr>\n  </tbody>\n</table>\n</div>"
     },
     "execution_count": 345,
     "metadata": {},
     "output_type": "execute_result"
    }
   ],
   "source": [
    "# we will strip up all the white spaces,basically eliminating white space\n",
    "\n",
    "df['first'] = newdf[0]\n",
    "df['first'] = df['first'].str.strip()\n",
    "df.head()"
   ],
   "metadata": {
    "collapsed": false,
    "pycharm": {
     "name": "#%%\n"
    }
   }
  },
  {
   "cell_type": "code",
   "execution_count": 346,
   "outputs": [
    {
     "data": {
      "text/plain": "  Company   TypeName  Ram             Memory                           Gpu  \\\n0   Apple  Ultrabook    8            128 SSD  Intel Iris Plus Graphics 640   \n1   Apple  Ultrabook    8  128 Flash Storage        Intel HD Graphics 6000   \n2      HP   Notebook    8            256 SSD         Intel HD Graphics 620   \n3   Apple  Ultrabook   16            512 SSD            AMD Radeon Pro 455   \n4   Apple  Ultrabook    8            256 SSD  Intel Iris Plus Graphics 650   \n\n   OpSys  Weight        Price  TouchScreen  IPS         PPI       CPU_name  \\\n0  macOS    1.37   71378.6832            0    1  226.983005  Intel Core i5   \n1  macOS    1.34   47895.5232            0    0  127.677940  Intel Core i5   \n2  No OS    1.86   30636.0000            0    0  141.211998  Intel Core i5   \n3  macOS    1.83  135195.3360            0    1  220.534624  Intel Core i7   \n4  macOS    1.37   96095.8080            0    1  226.983005  Intel Core i5   \n\n               first  Layer1HDD  Layer1SSD  Layer1Hybrid  Layer1FlashStorage  \n0            128 SSD          0          1             0                   0  \n1  128 Flash Storage          0          0             0                   0  \n2            256 SSD          0          1             0                   0  \n3            512 SSD          0          1             0                   0  \n4            256 SSD          0          1             0                   0  ",
      "text/html": "<div>\n<style scoped>\n    .dataframe tbody tr th:only-of-type {\n        vertical-align: middle;\n    }\n\n    .dataframe tbody tr th {\n        vertical-align: top;\n    }\n\n    .dataframe thead th {\n        text-align: right;\n    }\n</style>\n<table border=\"1\" class=\"dataframe\">\n  <thead>\n    <tr style=\"text-align: right;\">\n      <th></th>\n      <th>Company</th>\n      <th>TypeName</th>\n      <th>Ram</th>\n      <th>Memory</th>\n      <th>Gpu</th>\n      <th>OpSys</th>\n      <th>Weight</th>\n      <th>Price</th>\n      <th>TouchScreen</th>\n      <th>IPS</th>\n      <th>PPI</th>\n      <th>CPU_name</th>\n      <th>first</th>\n      <th>Layer1HDD</th>\n      <th>Layer1SSD</th>\n      <th>Layer1Hybrid</th>\n      <th>Layer1FlashStorage</th>\n    </tr>\n  </thead>\n  <tbody>\n    <tr>\n      <th>0</th>\n      <td>Apple</td>\n      <td>Ultrabook</td>\n      <td>8</td>\n      <td>128 SSD</td>\n      <td>Intel Iris Plus Graphics 640</td>\n      <td>macOS</td>\n      <td>1.37</td>\n      <td>71378.6832</td>\n      <td>0</td>\n      <td>1</td>\n      <td>226.983005</td>\n      <td>Intel Core i5</td>\n      <td>128 SSD</td>\n      <td>0</td>\n      <td>1</td>\n      <td>0</td>\n      <td>0</td>\n    </tr>\n    <tr>\n      <th>1</th>\n      <td>Apple</td>\n      <td>Ultrabook</td>\n      <td>8</td>\n      <td>128 Flash Storage</td>\n      <td>Intel HD Graphics 6000</td>\n      <td>macOS</td>\n      <td>1.34</td>\n      <td>47895.5232</td>\n      <td>0</td>\n      <td>0</td>\n      <td>127.677940</td>\n      <td>Intel Core i5</td>\n      <td>128 Flash Storage</td>\n      <td>0</td>\n      <td>0</td>\n      <td>0</td>\n      <td>0</td>\n    </tr>\n    <tr>\n      <th>2</th>\n      <td>HP</td>\n      <td>Notebook</td>\n      <td>8</td>\n      <td>256 SSD</td>\n      <td>Intel HD Graphics 620</td>\n      <td>No OS</td>\n      <td>1.86</td>\n      <td>30636.0000</td>\n      <td>0</td>\n      <td>0</td>\n      <td>141.211998</td>\n      <td>Intel Core i5</td>\n      <td>256 SSD</td>\n      <td>0</td>\n      <td>1</td>\n      <td>0</td>\n      <td>0</td>\n    </tr>\n    <tr>\n      <th>3</th>\n      <td>Apple</td>\n      <td>Ultrabook</td>\n      <td>16</td>\n      <td>512 SSD</td>\n      <td>AMD Radeon Pro 455</td>\n      <td>macOS</td>\n      <td>1.83</td>\n      <td>135195.3360</td>\n      <td>0</td>\n      <td>1</td>\n      <td>220.534624</td>\n      <td>Intel Core i7</td>\n      <td>512 SSD</td>\n      <td>0</td>\n      <td>1</td>\n      <td>0</td>\n      <td>0</td>\n    </tr>\n    <tr>\n      <th>4</th>\n      <td>Apple</td>\n      <td>Ultrabook</td>\n      <td>8</td>\n      <td>256 SSD</td>\n      <td>Intel Iris Plus Graphics 650</td>\n      <td>macOS</td>\n      <td>1.37</td>\n      <td>96095.8080</td>\n      <td>0</td>\n      <td>1</td>\n      <td>226.983005</td>\n      <td>Intel Core i5</td>\n      <td>256 SSD</td>\n      <td>0</td>\n      <td>1</td>\n      <td>0</td>\n      <td>0</td>\n    </tr>\n  </tbody>\n</table>\n</div>"
     },
     "execution_count": 346,
     "metadata": {},
     "output_type": "execute_result"
    }
   ],
   "source": [
    "def applychanges(value):\n",
    "\n",
    "    df['Layer1'+value] = df['first'].apply(lambda x:1 if value in x else 0)\n",
    "\n",
    "\n",
    "listtoapply = ['HDD','SSD','Hybrid','FlashStorage']\n",
    "for value in listtoapply:\n",
    "    applychanges(value)\n",
    "\n",
    "\n",
    "df.head()"
   ],
   "metadata": {
    "collapsed": false,
    "pycharm": {
     "name": "#%%\n"
    }
   }
  },
  {
   "cell_type": "code",
   "execution_count": 347,
   "outputs": [
    {
     "name": "stderr",
     "output_type": "stream",
     "text": [
      "C:\\Users\\Taneesha\\AppData\\Local\\Temp/ipykernel_15140/518773672.py:3: FutureWarning: The default value of regex will change from True to False in a future version.\n",
      "  df['first'] = df['first'].str.replace(r'\\D','')\n"
     ]
    },
    {
     "data": {
      "text/plain": "256     508\n1000    250\n128     177\n512     140\n500     132\n32       45\n64       17\n2000     16\n16       10\n180       5\n240       1\n8         1\n508       1\nName: first, dtype: int64"
     },
     "execution_count": 347,
     "metadata": {},
     "output_type": "execute_result"
    }
   ],
   "source": [
    "# remove all the characters just keep the numbers\n",
    "\n",
    "df['first'] = df['first'].str.replace(r'\\D','')\n",
    "df['first'].value_counts()"
   ],
   "metadata": {
    "collapsed": false,
    "pycharm": {
     "name": "#%%\n"
    }
   }
  },
  {
   "cell_type": "code",
   "execution_count": 348,
   "outputs": [
    {
     "data": {
      "text/plain": "  Company   TypeName  Ram             Memory                           Gpu  \\\n0   Apple  Ultrabook    8            128 SSD  Intel Iris Plus Graphics 640   \n1   Apple  Ultrabook    8  128 Flash Storage        Intel HD Graphics 6000   \n2      HP   Notebook    8            256 SSD         Intel HD Graphics 620   \n3   Apple  Ultrabook   16            512 SSD            AMD Radeon Pro 455   \n4   Apple  Ultrabook    8            256 SSD  Intel Iris Plus Graphics 650   \n\n   OpSys  Weight        Price  TouchScreen  IPS         PPI       CPU_name  \\\n0  macOS    1.37   71378.6832            0    1  226.983005  Intel Core i5   \n1  macOS    1.34   47895.5232            0    0  127.677940  Intel Core i5   \n2  No OS    1.86   30636.0000            0    0  141.211998  Intel Core i5   \n3  macOS    1.83  135195.3360            0    1  220.534624  Intel Core i7   \n4  macOS    1.37   96095.8080            0    1  226.983005  Intel Core i5   \n\n  first  Layer1HDD  Layer1SSD  Layer1Hybrid  Layer1FlashStorage Second  \n0   128          0          1             0                   0   None  \n1   128          0          0             0                   0   None  \n2   256          0          1             0                   0   None  \n3   512          0          1             0                   0   None  \n4   256          0          1             0                   0   None  ",
      "text/html": "<div>\n<style scoped>\n    .dataframe tbody tr th:only-of-type {\n        vertical-align: middle;\n    }\n\n    .dataframe tbody tr th {\n        vertical-align: top;\n    }\n\n    .dataframe thead th {\n        text-align: right;\n    }\n</style>\n<table border=\"1\" class=\"dataframe\">\n  <thead>\n    <tr style=\"text-align: right;\">\n      <th></th>\n      <th>Company</th>\n      <th>TypeName</th>\n      <th>Ram</th>\n      <th>Memory</th>\n      <th>Gpu</th>\n      <th>OpSys</th>\n      <th>Weight</th>\n      <th>Price</th>\n      <th>TouchScreen</th>\n      <th>IPS</th>\n      <th>PPI</th>\n      <th>CPU_name</th>\n      <th>first</th>\n      <th>Layer1HDD</th>\n      <th>Layer1SSD</th>\n      <th>Layer1Hybrid</th>\n      <th>Layer1FlashStorage</th>\n      <th>Second</th>\n    </tr>\n  </thead>\n  <tbody>\n    <tr>\n      <th>0</th>\n      <td>Apple</td>\n      <td>Ultrabook</td>\n      <td>8</td>\n      <td>128 SSD</td>\n      <td>Intel Iris Plus Graphics 640</td>\n      <td>macOS</td>\n      <td>1.37</td>\n      <td>71378.6832</td>\n      <td>0</td>\n      <td>1</td>\n      <td>226.983005</td>\n      <td>Intel Core i5</td>\n      <td>128</td>\n      <td>0</td>\n      <td>1</td>\n      <td>0</td>\n      <td>0</td>\n      <td>None</td>\n    </tr>\n    <tr>\n      <th>1</th>\n      <td>Apple</td>\n      <td>Ultrabook</td>\n      <td>8</td>\n      <td>128 Flash Storage</td>\n      <td>Intel HD Graphics 6000</td>\n      <td>macOS</td>\n      <td>1.34</td>\n      <td>47895.5232</td>\n      <td>0</td>\n      <td>0</td>\n      <td>127.677940</td>\n      <td>Intel Core i5</td>\n      <td>128</td>\n      <td>0</td>\n      <td>0</td>\n      <td>0</td>\n      <td>0</td>\n      <td>None</td>\n    </tr>\n    <tr>\n      <th>2</th>\n      <td>HP</td>\n      <td>Notebook</td>\n      <td>8</td>\n      <td>256 SSD</td>\n      <td>Intel HD Graphics 620</td>\n      <td>No OS</td>\n      <td>1.86</td>\n      <td>30636.0000</td>\n      <td>0</td>\n      <td>0</td>\n      <td>141.211998</td>\n      <td>Intel Core i5</td>\n      <td>256</td>\n      <td>0</td>\n      <td>1</td>\n      <td>0</td>\n      <td>0</td>\n      <td>None</td>\n    </tr>\n    <tr>\n      <th>3</th>\n      <td>Apple</td>\n      <td>Ultrabook</td>\n      <td>16</td>\n      <td>512 SSD</td>\n      <td>AMD Radeon Pro 455</td>\n      <td>macOS</td>\n      <td>1.83</td>\n      <td>135195.3360</td>\n      <td>0</td>\n      <td>1</td>\n      <td>220.534624</td>\n      <td>Intel Core i7</td>\n      <td>512</td>\n      <td>0</td>\n      <td>1</td>\n      <td>0</td>\n      <td>0</td>\n      <td>None</td>\n    </tr>\n    <tr>\n      <th>4</th>\n      <td>Apple</td>\n      <td>Ultrabook</td>\n      <td>8</td>\n      <td>256 SSD</td>\n      <td>Intel Iris Plus Graphics 650</td>\n      <td>macOS</td>\n      <td>1.37</td>\n      <td>96095.8080</td>\n      <td>0</td>\n      <td>1</td>\n      <td>226.983005</td>\n      <td>Intel Core i5</td>\n      <td>256</td>\n      <td>0</td>\n      <td>1</td>\n      <td>0</td>\n      <td>0</td>\n      <td>None</td>\n    </tr>\n  </tbody>\n</table>\n</div>"
     },
     "execution_count": 348,
     "metadata": {},
     "output_type": "execute_result"
    }
   ],
   "source": [
    "df['Second'] = newdf[1]\n",
    "df.head()"
   ],
   "metadata": {
    "collapsed": false,
    "pycharm": {
     "name": "#%%\n"
    }
   }
  },
  {
   "cell_type": "code",
   "execution_count": 349,
   "outputs": [
    {
     "name": "stderr",
     "output_type": "stream",
     "text": [
      "C:\\Users\\Taneesha\\AppData\\Local\\Temp/ipykernel_15140/1971610521.py:14: FutureWarning: The default value of regex will change from True to False in a future version.\n",
      "  df['Second'] = df['Second'].str.replace(r'\\D','')\n"
     ]
    },
    {
     "data": {
      "text/plain": "0       1095\n1000     187\n2000      15\n256        3\n500        2\n512        1\nName: Second, dtype: int64"
     },
     "execution_count": 349,
     "metadata": {},
     "output_type": "execute_result"
    }
   ],
   "source": [
    "def applychanges1(value):\n",
    "\n",
    "    df['Layer2'+value] = df['Second'].apply(lambda x:1 if value in x else 0)\n",
    "\n",
    "\n",
    "listtoapply1 = ['HDD','SSD','Hybrid','FlashStorage']\n",
    "df['Second'] = df['Second'].fillna(\"0\")\n",
    "for value in listtoapply1:\n",
    "    applychanges1(value)\n",
    "\n",
    "\n",
    "# remove all the characters just keep the numbers\n",
    "\n",
    "df['Second'] = df['Second'].str.replace(r'\\D','')\n",
    "df['Second'].value_counts()"
   ],
   "metadata": {
    "collapsed": false,
    "pycharm": {
     "name": "#%%\n"
    }
   }
  },
  {
   "cell_type": "code",
   "execution_count": 350,
   "outputs": [
    {
     "data": {
      "text/plain": "  Company   TypeName  Ram             Memory                           Gpu  \\\n0   Apple  Ultrabook    8            128 SSD  Intel Iris Plus Graphics 640   \n1   Apple  Ultrabook    8  128 Flash Storage        Intel HD Graphics 6000   \n2      HP   Notebook    8            256 SSD         Intel HD Graphics 620   \n3   Apple  Ultrabook   16            512 SSD            AMD Radeon Pro 455   \n4   Apple  Ultrabook    8            256 SSD  Intel Iris Plus Graphics 650   \n\n   OpSys  Weight        Price  TouchScreen  IPS  ...  first Layer1HDD  \\\n0  macOS    1.37   71378.6832            0    1  ...    128         0   \n1  macOS    1.34   47895.5232            0    0  ...    128         0   \n2  No OS    1.86   30636.0000            0    0  ...    256         0   \n3  macOS    1.83  135195.3360            0    1  ...    512         0   \n4  macOS    1.37   96095.8080            0    1  ...    256         0   \n\n   Layer1SSD  Layer1Hybrid  Layer1FlashStorage  Second  Layer2HDD  Layer2SSD  \\\n0          1             0                   0       0          0          0   \n1          0             0                   0       0          0          0   \n2          1             0                   0       0          0          0   \n3          1             0                   0       0          0          0   \n4          1             0                   0       0          0          0   \n\n   Layer2Hybrid  Layer2FlashStorage  \n0             0                   0  \n1             0                   0  \n2             0                   0  \n3             0                   0  \n4             0                   0  \n\n[5 rows x 22 columns]",
      "text/html": "<div>\n<style scoped>\n    .dataframe tbody tr th:only-of-type {\n        vertical-align: middle;\n    }\n\n    .dataframe tbody tr th {\n        vertical-align: top;\n    }\n\n    .dataframe thead th {\n        text-align: right;\n    }\n</style>\n<table border=\"1\" class=\"dataframe\">\n  <thead>\n    <tr style=\"text-align: right;\">\n      <th></th>\n      <th>Company</th>\n      <th>TypeName</th>\n      <th>Ram</th>\n      <th>Memory</th>\n      <th>Gpu</th>\n      <th>OpSys</th>\n      <th>Weight</th>\n      <th>Price</th>\n      <th>TouchScreen</th>\n      <th>IPS</th>\n      <th>...</th>\n      <th>first</th>\n      <th>Layer1HDD</th>\n      <th>Layer1SSD</th>\n      <th>Layer1Hybrid</th>\n      <th>Layer1FlashStorage</th>\n      <th>Second</th>\n      <th>Layer2HDD</th>\n      <th>Layer2SSD</th>\n      <th>Layer2Hybrid</th>\n      <th>Layer2FlashStorage</th>\n    </tr>\n  </thead>\n  <tbody>\n    <tr>\n      <th>0</th>\n      <td>Apple</td>\n      <td>Ultrabook</td>\n      <td>8</td>\n      <td>128 SSD</td>\n      <td>Intel Iris Plus Graphics 640</td>\n      <td>macOS</td>\n      <td>1.37</td>\n      <td>71378.6832</td>\n      <td>0</td>\n      <td>1</td>\n      <td>...</td>\n      <td>128</td>\n      <td>0</td>\n      <td>1</td>\n      <td>0</td>\n      <td>0</td>\n      <td>0</td>\n      <td>0</td>\n      <td>0</td>\n      <td>0</td>\n      <td>0</td>\n    </tr>\n    <tr>\n      <th>1</th>\n      <td>Apple</td>\n      <td>Ultrabook</td>\n      <td>8</td>\n      <td>128 Flash Storage</td>\n      <td>Intel HD Graphics 6000</td>\n      <td>macOS</td>\n      <td>1.34</td>\n      <td>47895.5232</td>\n      <td>0</td>\n      <td>0</td>\n      <td>...</td>\n      <td>128</td>\n      <td>0</td>\n      <td>0</td>\n      <td>0</td>\n      <td>0</td>\n      <td>0</td>\n      <td>0</td>\n      <td>0</td>\n      <td>0</td>\n      <td>0</td>\n    </tr>\n    <tr>\n      <th>2</th>\n      <td>HP</td>\n      <td>Notebook</td>\n      <td>8</td>\n      <td>256 SSD</td>\n      <td>Intel HD Graphics 620</td>\n      <td>No OS</td>\n      <td>1.86</td>\n      <td>30636.0000</td>\n      <td>0</td>\n      <td>0</td>\n      <td>...</td>\n      <td>256</td>\n      <td>0</td>\n      <td>1</td>\n      <td>0</td>\n      <td>0</td>\n      <td>0</td>\n      <td>0</td>\n      <td>0</td>\n      <td>0</td>\n      <td>0</td>\n    </tr>\n    <tr>\n      <th>3</th>\n      <td>Apple</td>\n      <td>Ultrabook</td>\n      <td>16</td>\n      <td>512 SSD</td>\n      <td>AMD Radeon Pro 455</td>\n      <td>macOS</td>\n      <td>1.83</td>\n      <td>135195.3360</td>\n      <td>0</td>\n      <td>1</td>\n      <td>...</td>\n      <td>512</td>\n      <td>0</td>\n      <td>1</td>\n      <td>0</td>\n      <td>0</td>\n      <td>0</td>\n      <td>0</td>\n      <td>0</td>\n      <td>0</td>\n      <td>0</td>\n    </tr>\n    <tr>\n      <th>4</th>\n      <td>Apple</td>\n      <td>Ultrabook</td>\n      <td>8</td>\n      <td>256 SSD</td>\n      <td>Intel Iris Plus Graphics 650</td>\n      <td>macOS</td>\n      <td>1.37</td>\n      <td>96095.8080</td>\n      <td>0</td>\n      <td>1</td>\n      <td>...</td>\n      <td>256</td>\n      <td>0</td>\n      <td>1</td>\n      <td>0</td>\n      <td>0</td>\n      <td>0</td>\n      <td>0</td>\n      <td>0</td>\n      <td>0</td>\n      <td>0</td>\n    </tr>\n  </tbody>\n</table>\n<p>5 rows × 22 columns</p>\n</div>"
     },
     "execution_count": 350,
     "metadata": {},
     "output_type": "execute_result"
    }
   ],
   "source": [
    "df['first'] = df['first'].astype('int')\n",
    "df['Second'] = df['Second'].astype('int')\n",
    "df.head()"
   ],
   "metadata": {
    "collapsed": false,
    "pycharm": {
     "name": "#%%\n"
    }
   }
  },
  {
   "cell_type": "code",
   "execution_count": 351,
   "outputs": [],
   "source": [
    "# multiplying the elements and storing the result in subsequent columns\n",
    "\n",
    "\n",
    "df[\"HDD\"]=(df[\"first\"]*df[\"Layer1HDD\"]+df[\"Second\"]*df[\"Layer2HDD\"])\n",
    "df[\"SSD\"]=(df[\"first\"]*df[\"Layer1SSD\"]+df[\"Second\"]*df[\"Layer2SSD\"])\n",
    "df[\"Hybrid\"]=(df[\"first\"]*df[\"Layer1Hybrid\"]+df[\"Second\"]*df[\"Layer2Hybrid\"])\n",
    "df[\"Flash_Storage\"]=(df[\"first\"]*df[\"Layer1FlashStorage\"]+df[\"Second\"]*df[\"Layer2FlashStorage\"])\n",
    "\n",
    "\n",
    "## dropping of uncessary columns\n",
    "\n",
    "df.drop(columns=['first', 'Second', 'Layer1HDD', 'Layer1SSD', 'Layer1Hybrid',\n",
    "       'Layer1FlashStorage', 'Layer2HDD', 'Layer2SSD', 'Layer2Hybrid',\n",
    "       'Layer2FlashStorage'],inplace=True)"
   ],
   "metadata": {
    "collapsed": false,
    "pycharm": {
     "name": "#%%\n"
    }
   }
  },
  {
   "cell_type": "code",
   "execution_count": 352,
   "outputs": [
    {
     "data": {
      "text/plain": "    Company   TypeName  Ram    Memory                     Gpu       OpSys  \\\n328      HP  Ultrabook    8   256 SSD   Intel HD Graphics 620  Windows 10   \n989    Dell   Notebook    8   128 SSD  Intel HD Graphics 620   Windows 10   \n572      HP   Notebook    6   256 SSD          AMD Radeon 530  Windows 10   \n517    Asus     Gaming   24   512 SSD  Nvidia GeForce GTX1080  Windows 10   \n171      HP   Notebook    6  2000 HDD          AMD Radeon 520  Windows 10   \n\n     Weight      Price  TouchScreen  IPS         PPI       CPU_name   HDD  \\\n328    1.26   71128.80            0    0  176.232574  Intel Core i7     0   \n989    1.60   59620.32            0    0  157.350512  Intel Core i5     0   \n572    1.95   34578.72            0    1  141.211998  AMD Processor     0   \n517    2.24  158135.04            0    0  141.211998  Intel Core i7     0   \n171    2.71   37242.72            0    1  127.335675  Intel Core i5  2000   \n\n     SSD  Hybrid  Flash_Storage  \n328  256       0              0  \n989  128       0              0  \n572  256       0              0  \n517  512       0              0  \n171    0       0              0  ",
      "text/html": "<div>\n<style scoped>\n    .dataframe tbody tr th:only-of-type {\n        vertical-align: middle;\n    }\n\n    .dataframe tbody tr th {\n        vertical-align: top;\n    }\n\n    .dataframe thead th {\n        text-align: right;\n    }\n</style>\n<table border=\"1\" class=\"dataframe\">\n  <thead>\n    <tr style=\"text-align: right;\">\n      <th></th>\n      <th>Company</th>\n      <th>TypeName</th>\n      <th>Ram</th>\n      <th>Memory</th>\n      <th>Gpu</th>\n      <th>OpSys</th>\n      <th>Weight</th>\n      <th>Price</th>\n      <th>TouchScreen</th>\n      <th>IPS</th>\n      <th>PPI</th>\n      <th>CPU_name</th>\n      <th>HDD</th>\n      <th>SSD</th>\n      <th>Hybrid</th>\n      <th>Flash_Storage</th>\n    </tr>\n  </thead>\n  <tbody>\n    <tr>\n      <th>328</th>\n      <td>HP</td>\n      <td>Ultrabook</td>\n      <td>8</td>\n      <td>256 SSD</td>\n      <td>Intel HD Graphics 620</td>\n      <td>Windows 10</td>\n      <td>1.26</td>\n      <td>71128.80</td>\n      <td>0</td>\n      <td>0</td>\n      <td>176.232574</td>\n      <td>Intel Core i7</td>\n      <td>0</td>\n      <td>256</td>\n      <td>0</td>\n      <td>0</td>\n    </tr>\n    <tr>\n      <th>989</th>\n      <td>Dell</td>\n      <td>Notebook</td>\n      <td>8</td>\n      <td>128 SSD</td>\n      <td>Intel HD Graphics 620</td>\n      <td>Windows 10</td>\n      <td>1.60</td>\n      <td>59620.32</td>\n      <td>0</td>\n      <td>0</td>\n      <td>157.350512</td>\n      <td>Intel Core i5</td>\n      <td>0</td>\n      <td>128</td>\n      <td>0</td>\n      <td>0</td>\n    </tr>\n    <tr>\n      <th>572</th>\n      <td>HP</td>\n      <td>Notebook</td>\n      <td>6</td>\n      <td>256 SSD</td>\n      <td>AMD Radeon 530</td>\n      <td>Windows 10</td>\n      <td>1.95</td>\n      <td>34578.72</td>\n      <td>0</td>\n      <td>1</td>\n      <td>141.211998</td>\n      <td>AMD Processor</td>\n      <td>0</td>\n      <td>256</td>\n      <td>0</td>\n      <td>0</td>\n    </tr>\n    <tr>\n      <th>517</th>\n      <td>Asus</td>\n      <td>Gaming</td>\n      <td>24</td>\n      <td>512 SSD</td>\n      <td>Nvidia GeForce GTX1080</td>\n      <td>Windows 10</td>\n      <td>2.24</td>\n      <td>158135.04</td>\n      <td>0</td>\n      <td>0</td>\n      <td>141.211998</td>\n      <td>Intel Core i7</td>\n      <td>0</td>\n      <td>512</td>\n      <td>0</td>\n      <td>0</td>\n    </tr>\n    <tr>\n      <th>171</th>\n      <td>HP</td>\n      <td>Notebook</td>\n      <td>6</td>\n      <td>2000 HDD</td>\n      <td>AMD Radeon 520</td>\n      <td>Windows 10</td>\n      <td>2.71</td>\n      <td>37242.72</td>\n      <td>0</td>\n      <td>1</td>\n      <td>127.335675</td>\n      <td>Intel Core i5</td>\n      <td>2000</td>\n      <td>0</td>\n      <td>0</td>\n      <td>0</td>\n    </tr>\n  </tbody>\n</table>\n</div>"
     },
     "execution_count": 352,
     "metadata": {},
     "output_type": "execute_result"
    }
   ],
   "source": [
    "df.sample(5)"
   ],
   "metadata": {
    "collapsed": false,
    "pycharm": {
     "name": "#%%\n"
    }
   }
  },
  {
   "cell_type": "code",
   "execution_count": 353,
   "outputs": [
    {
     "data": {
      "text/plain": "    Company   TypeName  Ram                      Gpu       OpSys  Weight  \\\n613    Dell   Notebook    4    Intel HD Graphics 520       Linux    2.25   \n437  Google  Ultrabook   16    Intel HD Graphics 615   Chrome OS    1.10   \n538      HP     Gaming   12  Nvidia GeForce GTX 1060  Windows 10    2.62   \n797    Dell   Notebook    8    Intel HD Graphics 620  Windows 10    1.95   \n734  Lenovo   Notebook    8    Intel HD Graphics 620  Windows 10    1.44   \n\n         Price  TouchScreen  IPS         PPI       CPU_name   HDD  SSD  \\\n613   19127.52            0    0  100.454670  Intel Core i3  1000    0   \n437  117162.72            1    0  234.507400  Intel Core i7     0  512   \n538   95850.72            0    0  127.335675  Intel Core i7  1000    0   \n797   43156.80            0    0  100.454670  Intel Core i5     0  128   \n734   51148.80            0    1  165.632118  Intel Core i5     0  256   \n\n     Hybrid  Flash_Storage  \n613       0              0  \n437       0              0  \n538       0              0  \n797       0              0  \n734       0              0  ",
      "text/html": "<div>\n<style scoped>\n    .dataframe tbody tr th:only-of-type {\n        vertical-align: middle;\n    }\n\n    .dataframe tbody tr th {\n        vertical-align: top;\n    }\n\n    .dataframe thead th {\n        text-align: right;\n    }\n</style>\n<table border=\"1\" class=\"dataframe\">\n  <thead>\n    <tr style=\"text-align: right;\">\n      <th></th>\n      <th>Company</th>\n      <th>TypeName</th>\n      <th>Ram</th>\n      <th>Gpu</th>\n      <th>OpSys</th>\n      <th>Weight</th>\n      <th>Price</th>\n      <th>TouchScreen</th>\n      <th>IPS</th>\n      <th>PPI</th>\n      <th>CPU_name</th>\n      <th>HDD</th>\n      <th>SSD</th>\n      <th>Hybrid</th>\n      <th>Flash_Storage</th>\n    </tr>\n  </thead>\n  <tbody>\n    <tr>\n      <th>613</th>\n      <td>Dell</td>\n      <td>Notebook</td>\n      <td>4</td>\n      <td>Intel HD Graphics 520</td>\n      <td>Linux</td>\n      <td>2.25</td>\n      <td>19127.52</td>\n      <td>0</td>\n      <td>0</td>\n      <td>100.454670</td>\n      <td>Intel Core i3</td>\n      <td>1000</td>\n      <td>0</td>\n      <td>0</td>\n      <td>0</td>\n    </tr>\n    <tr>\n      <th>437</th>\n      <td>Google</td>\n      <td>Ultrabook</td>\n      <td>16</td>\n      <td>Intel HD Graphics 615</td>\n      <td>Chrome OS</td>\n      <td>1.10</td>\n      <td>117162.72</td>\n      <td>1</td>\n      <td>0</td>\n      <td>234.507400</td>\n      <td>Intel Core i7</td>\n      <td>0</td>\n      <td>512</td>\n      <td>0</td>\n      <td>0</td>\n    </tr>\n    <tr>\n      <th>538</th>\n      <td>HP</td>\n      <td>Gaming</td>\n      <td>12</td>\n      <td>Nvidia GeForce GTX 1060</td>\n      <td>Windows 10</td>\n      <td>2.62</td>\n      <td>95850.72</td>\n      <td>0</td>\n      <td>0</td>\n      <td>127.335675</td>\n      <td>Intel Core i7</td>\n      <td>1000</td>\n      <td>0</td>\n      <td>0</td>\n      <td>0</td>\n    </tr>\n    <tr>\n      <th>797</th>\n      <td>Dell</td>\n      <td>Notebook</td>\n      <td>8</td>\n      <td>Intel HD Graphics 620</td>\n      <td>Windows 10</td>\n      <td>1.95</td>\n      <td>43156.80</td>\n      <td>0</td>\n      <td>0</td>\n      <td>100.454670</td>\n      <td>Intel Core i5</td>\n      <td>0</td>\n      <td>128</td>\n      <td>0</td>\n      <td>0</td>\n    </tr>\n    <tr>\n      <th>734</th>\n      <td>Lenovo</td>\n      <td>Notebook</td>\n      <td>8</td>\n      <td>Intel HD Graphics 620</td>\n      <td>Windows 10</td>\n      <td>1.44</td>\n      <td>51148.80</td>\n      <td>0</td>\n      <td>1</td>\n      <td>165.632118</td>\n      <td>Intel Core i5</td>\n      <td>0</td>\n      <td>256</td>\n      <td>0</td>\n      <td>0</td>\n    </tr>\n  </tbody>\n</table>\n</div>"
     },
     "execution_count": 353,
     "metadata": {},
     "output_type": "execute_result"
    }
   ],
   "source": [
    "df.drop(columns=['Memory'],inplace=True)\n",
    "df.sample(5)"
   ],
   "metadata": {
    "collapsed": false,
    "pycharm": {
     "name": "#%%\n"
    }
   }
  },
  {
   "cell_type": "code",
   "execution_count": 354,
   "outputs": [
    {
     "data": {
      "text/plain": "Ram              0.743007\nWeight           0.210370\nPrice            1.000000\nTouchScreen      0.191226\nIPS              0.252208\nPPI              0.473487\nHDD             -0.096441\nSSD              0.670799\nHybrid           0.007989\nFlash_Storage         NaN\nName: Price, dtype: float64"
     },
     "execution_count": 354,
     "metadata": {},
     "output_type": "execute_result"
    }
   ],
   "source": [
    "df.corr()['Price']"
   ],
   "metadata": {
    "collapsed": false,
    "pycharm": {
     "name": "#%%\n"
    }
   }
  },
  {
   "cell_type": "code",
   "execution_count": 355,
   "outputs": [
    {
     "data": {
      "text/plain": "Index(['Company', 'TypeName', 'Ram', 'Gpu', 'OpSys', 'Weight', 'Price',\n       'TouchScreen', 'IPS', 'PPI', 'CPU_name', 'HDD', 'SSD', 'Hybrid',\n       'Flash_Storage'],\n      dtype='object')"
     },
     "execution_count": 355,
     "metadata": {},
     "output_type": "execute_result"
    }
   ],
   "source": [
    "df.columns"
   ],
   "metadata": {
    "collapsed": false,
    "pycharm": {
     "name": "#%%\n"
    }
   }
  },
  {
   "cell_type": "code",
   "execution_count": 356,
   "outputs": [
    {
     "data": {
      "text/plain": "  Company   TypeName  Ram                           Gpu  OpSys  Weight  \\\n0   Apple  Ultrabook    8  Intel Iris Plus Graphics 640  macOS    1.37   \n1   Apple  Ultrabook    8        Intel HD Graphics 6000  macOS    1.34   \n2      HP   Notebook    8         Intel HD Graphics 620  No OS    1.86   \n3   Apple  Ultrabook   16            AMD Radeon Pro 455  macOS    1.83   \n4   Apple  Ultrabook    8  Intel Iris Plus Graphics 650  macOS    1.37   \n\n         Price  TouchScreen  IPS         PPI       CPU_name  HDD  SSD  \n0   71378.6832            0    1  226.983005  Intel Core i5    0  128  \n1   47895.5232            0    0  127.677940  Intel Core i5    0    0  \n2   30636.0000            0    0  141.211998  Intel Core i5    0  256  \n3  135195.3360            0    1  220.534624  Intel Core i7    0  512  \n4   96095.8080            0    1  226.983005  Intel Core i5    0  256  ",
      "text/html": "<div>\n<style scoped>\n    .dataframe tbody tr th:only-of-type {\n        vertical-align: middle;\n    }\n\n    .dataframe tbody tr th {\n        vertical-align: top;\n    }\n\n    .dataframe thead th {\n        text-align: right;\n    }\n</style>\n<table border=\"1\" class=\"dataframe\">\n  <thead>\n    <tr style=\"text-align: right;\">\n      <th></th>\n      <th>Company</th>\n      <th>TypeName</th>\n      <th>Ram</th>\n      <th>Gpu</th>\n      <th>OpSys</th>\n      <th>Weight</th>\n      <th>Price</th>\n      <th>TouchScreen</th>\n      <th>IPS</th>\n      <th>PPI</th>\n      <th>CPU_name</th>\n      <th>HDD</th>\n      <th>SSD</th>\n    </tr>\n  </thead>\n  <tbody>\n    <tr>\n      <th>0</th>\n      <td>Apple</td>\n      <td>Ultrabook</td>\n      <td>8</td>\n      <td>Intel Iris Plus Graphics 640</td>\n      <td>macOS</td>\n      <td>1.37</td>\n      <td>71378.6832</td>\n      <td>0</td>\n      <td>1</td>\n      <td>226.983005</td>\n      <td>Intel Core i5</td>\n      <td>0</td>\n      <td>128</td>\n    </tr>\n    <tr>\n      <th>1</th>\n      <td>Apple</td>\n      <td>Ultrabook</td>\n      <td>8</td>\n      <td>Intel HD Graphics 6000</td>\n      <td>macOS</td>\n      <td>1.34</td>\n      <td>47895.5232</td>\n      <td>0</td>\n      <td>0</td>\n      <td>127.677940</td>\n      <td>Intel Core i5</td>\n      <td>0</td>\n      <td>0</td>\n    </tr>\n    <tr>\n      <th>2</th>\n      <td>HP</td>\n      <td>Notebook</td>\n      <td>8</td>\n      <td>Intel HD Graphics 620</td>\n      <td>No OS</td>\n      <td>1.86</td>\n      <td>30636.0000</td>\n      <td>0</td>\n      <td>0</td>\n      <td>141.211998</td>\n      <td>Intel Core i5</td>\n      <td>0</td>\n      <td>256</td>\n    </tr>\n    <tr>\n      <th>3</th>\n      <td>Apple</td>\n      <td>Ultrabook</td>\n      <td>16</td>\n      <td>AMD Radeon Pro 455</td>\n      <td>macOS</td>\n      <td>1.83</td>\n      <td>135195.3360</td>\n      <td>0</td>\n      <td>1</td>\n      <td>220.534624</td>\n      <td>Intel Core i7</td>\n      <td>0</td>\n      <td>512</td>\n    </tr>\n    <tr>\n      <th>4</th>\n      <td>Apple</td>\n      <td>Ultrabook</td>\n      <td>8</td>\n      <td>Intel Iris Plus Graphics 650</td>\n      <td>macOS</td>\n      <td>1.37</td>\n      <td>96095.8080</td>\n      <td>0</td>\n      <td>1</td>\n      <td>226.983005</td>\n      <td>Intel Core i5</td>\n      <td>0</td>\n      <td>256</td>\n    </tr>\n  </tbody>\n</table>\n</div>"
     },
     "execution_count": 356,
     "metadata": {},
     "output_type": "execute_result"
    }
   ],
   "source": [
    "df.drop(columns = ['Hybrid','Flash_Storage'],inplace=True)\n",
    "df.head()"
   ],
   "metadata": {
    "collapsed": false,
    "pycharm": {
     "name": "#%%\n"
    }
   }
  },
  {
   "cell_type": "code",
   "execution_count": 357,
   "outputs": [
    {
     "data": {
      "text/plain": "Intel HD Graphics 620      281\nIntel HD Graphics 520      185\nIntel UHD Graphics 620      68\nNvidia GeForce GTX 1050     66\nNvidia GeForce GTX 1060     48\n                          ... \nAMD Radeon R5 520            1\nAMD Radeon R7                1\nIntel HD Graphics 540        1\nAMD Radeon 540               1\nARM Mali T860 MP4            1\nName: Gpu, Length: 110, dtype: int64"
     },
     "execution_count": 357,
     "metadata": {},
     "output_type": "execute_result"
    }
   ],
   "source": [
    "df['Gpu'].value_counts()"
   ],
   "metadata": {
    "collapsed": false,
    "pycharm": {
     "name": "#%%\n"
    }
   }
  },
  {
   "cell_type": "markdown",
   "source": [
    "Here as we are having less data regarding the laptops,its better that we focus on GPU brands instead focusing on the values which are present there beside them,we will focus on the brands"
   ],
   "metadata": {
    "collapsed": false,
    "pycharm": {
     "name": "#%% md\n"
    }
   }
  },
  {
   "cell_type": "code",
   "execution_count": 358,
   "outputs": [
    {
     "name": "stdout",
     "output_type": "stream",
     "text": [
      "Intel\n"
     ]
    }
   ],
   "source": [
    "# this is what we will be doing,extracting the brands\n",
    "a = df['Gpu'].iloc[1]\n",
    "print(a.split()[0])"
   ],
   "metadata": {
    "collapsed": false,
    "pycharm": {
     "name": "#%%\n"
    }
   }
  },
  {
   "cell_type": "code",
   "execution_count": 359,
   "outputs": [
    {
     "name": "stderr",
     "output_type": "stream",
     "text": [
      "C:\\Users\\Taneesha\\anaconda3\\lib\\site-packages\\seaborn\\_decorators.py:36: FutureWarning: Pass the following variable as a keyword arg: x. From version 0.12, the only valid positional argument will be `data`, and passing other arguments without an explicit keyword will result in an error or misinterpretation.\n",
      "  warnings.warn(\n"
     ]
    },
    {
     "data": {
      "text/plain": "<AxesSubplot:xlabel='Gpu brand', ylabel='count'>"
     },
     "execution_count": 359,
     "metadata": {},
     "output_type": "execute_result"
    },
    {
     "data": {
      "text/plain": "<Figure size 432x288 with 1 Axes>",
      "image/png": "[encoded data removed]"
     },
     "metadata": {
      "needs_background": "light"
     },
     "output_type": "display_data"
    }
   ],
   "source": [
    "df['Gpu brand'] = df['Gpu'].apply(lambda x:x.split()[0])\n",
    "sn.countplot(df['Gpu brand'],palette='plasma')"
   ],
   "metadata": {
    "collapsed": false,
    "pycharm": {
     "name": "#%%\n"
    }
   }
  },
  {
   "cell_type": "code",
   "execution_count": 360,
   "outputs": [
    {
     "name": "stderr",
     "output_type": "stream",
     "text": [
      "C:\\Users\\Taneesha\\anaconda3\\lib\\site-packages\\seaborn\\_decorators.py:36: FutureWarning: Pass the following variable as a keyword arg: x. From version 0.12, the only valid positional argument will be `data`, and passing other arguments without an explicit keyword will result in an error or misinterpretation.\n",
      "  warnings.warn(\n"
     ]
    },
    {
     "data": {
      "text/plain": "<AxesSubplot:xlabel='Gpu brand', ylabel='count'>"
     },
     "execution_count": 360,
     "metadata": {},
     "output_type": "execute_result"
    },
    {
     "data": {
      "text/plain": "<Figure size 432x288 with 1 Axes>",
      "image/png": "[encoded data removed]"
     },
     "metadata": {
      "needs_background": "light"
     },
     "output_type": "display_data"
    }
   ],
   "source": [
    "# removing the \"ARM\" tuple\n",
    "\n",
    "df = df[df['Gpu brand']!='ARM']\n",
    "sn.countplot(df['Gpu brand'],palette='plasma')"
   ],
   "metadata": {
    "collapsed": false,
    "pycharm": {
     "name": "#%%\n"
    }
   }
  },
  {
   "cell_type": "code",
   "execution_count": 361,
   "outputs": [
    {
     "name": "stderr",
     "output_type": "stream",
     "text": [
      "C:\\Users\\Taneesha\\anaconda3\\lib\\site-packages\\seaborn\\_decorators.py:36: FutureWarning: Pass the following variables as keyword args: x, y. From version 0.12, the only valid positional argument will be `data`, and passing other arguments without an explicit keyword will result in an error or misinterpretation.\n",
      "  warnings.warn(\n"
     ]
    },
    {
     "data": {
      "text/plain": "<AxesSubplot:xlabel='Gpu brand', ylabel='Price'>"
     },
     "execution_count": 361,
     "metadata": {},
     "output_type": "execute_result"
    },
    {
     "data": {
      "text/plain": "<Figure size 432x288 with 1 Axes>",
      "image/png": "[encoded data removed]"
     },
     "metadata": {
      "needs_background": "light"
     },
     "output_type": "display_data"
    }
   ],
   "source": [
    "# price-GPU analysis,i used np.median inorder to check if there is any\n",
    "# inpact of outlier or not\n",
    "\n",
    "sn.barplot(df['Gpu brand'],df['Price'],estimator=np.median)"
   ],
   "metadata": {
    "collapsed": false,
    "pycharm": {
     "name": "#%%\n"
    }
   }
  },
  {
   "cell_type": "code",
   "execution_count": 362,
   "outputs": [
    {
     "data": {
      "text/plain": "  Company   TypeName  Ram  OpSys  Weight        Price  TouchScreen  IPS  \\\n0   Apple  Ultrabook    8  macOS    1.37   71378.6832            0    1   \n1   Apple  Ultrabook    8  macOS    1.34   47895.5232            0    0   \n2      HP   Notebook    8  No OS    1.86   30636.0000            0    0   \n3   Apple  Ultrabook   16  macOS    1.83  135195.3360            0    1   \n4   Apple  Ultrabook    8  macOS    1.37   96095.8080            0    1   \n\n          PPI       CPU_name  HDD  SSD Gpu brand  \n0  226.983005  Intel Core i5    0  128     Intel  \n1  127.677940  Intel Core i5    0    0     Intel  \n2  141.211998  Intel Core i5    0  256     Intel  \n3  220.534624  Intel Core i7    0  512       AMD  \n4  226.983005  Intel Core i5    0  256     Intel  ",
      "text/html": "<div>\n<style scoped>\n    .dataframe tbody tr th:only-of-type {\n        vertical-align: middle;\n    }\n\n    .dataframe tbody tr th {\n        vertical-align: top;\n    }\n\n    .dataframe thead th {\n        text-align: right;\n    }\n</style>\n<table border=\"1\" class=\"dataframe\">\n  <thead>\n    <tr style=\"text-align: right;\">\n      <th></th>\n      <th>Company</th>\n      <th>TypeName</th>\n      <th>Ram</th>\n      <th>OpSys</th>\n      <th>Weight</th>\n      <th>Price</th>\n      <th>TouchScreen</th>\n      <th>IPS</th>\n      <th>PPI</th>\n      <th>CPU_name</th>\n      <th>HDD</th>\n      <th>SSD</th>\n      <th>Gpu brand</th>\n    </tr>\n  </thead>\n  <tbody>\n    <tr>\n      <th>0</th>\n      <td>Apple</td>\n      <td>Ultrabook</td>\n      <td>8</td>\n      <td>macOS</td>\n      <td>1.37</td>\n      <td>71378.6832</td>\n      <td>0</td>\n      <td>1</td>\n      <td>226.983005</td>\n      <td>Intel Core i5</td>\n      <td>0</td>\n      <td>128</td>\n      <td>Intel</td>\n    </tr>\n    <tr>\n      <th>1</th>\n      <td>Apple</td>\n      <td>Ultrabook</td>\n      <td>8</td>\n      <td>macOS</td>\n      <td>1.34</td>\n      <td>47895.5232</td>\n      <td>0</td>\n      <td>0</td>\n      <td>127.677940</td>\n      <td>Intel Core i5</td>\n      <td>0</td>\n      <td>0</td>\n      <td>Intel</td>\n    </tr>\n    <tr>\n      <th>2</th>\n      <td>HP</td>\n      <td>Notebook</td>\n      <td>8</td>\n      <td>No OS</td>\n      <td>1.86</td>\n      <td>30636.0000</td>\n      <td>0</td>\n      <td>0</td>\n      <td>141.211998</td>\n      <td>Intel Core i5</td>\n      <td>0</td>\n      <td>256</td>\n      <td>Intel</td>\n    </tr>\n    <tr>\n      <th>3</th>\n      <td>Apple</td>\n      <td>Ultrabook</td>\n      <td>16</td>\n      <td>macOS</td>\n      <td>1.83</td>\n      <td>135195.3360</td>\n      <td>0</td>\n      <td>1</td>\n      <td>220.534624</td>\n      <td>Intel Core i7</td>\n      <td>0</td>\n      <td>512</td>\n      <td>AMD</td>\n    </tr>\n    <tr>\n      <th>4</th>\n      <td>Apple</td>\n      <td>Ultrabook</td>\n      <td>8</td>\n      <td>macOS</td>\n      <td>1.37</td>\n      <td>96095.8080</td>\n      <td>0</td>\n      <td>1</td>\n      <td>226.983005</td>\n      <td>Intel Core i5</td>\n      <td>0</td>\n      <td>256</td>\n      <td>Intel</td>\n    </tr>\n  </tbody>\n</table>\n</div>"
     },
     "execution_count": 362,
     "metadata": {},
     "output_type": "execute_result"
    }
   ],
   "source": [
    "df = df.drop(columns=['Gpu'])\n",
    "df.head()"
   ],
   "metadata": {
    "collapsed": false,
    "pycharm": {
     "name": "#%%\n"
    }
   }
  },
  {
   "cell_type": "markdown",
   "source": [
    "Operating System analysis"
   ],
   "metadata": {
    "collapsed": false,
    "pycharm": {
     "name": "#%% md\n"
    }
   }
  },
  {
   "cell_type": "code",
   "execution_count": 363,
   "outputs": [
    {
     "data": {
      "text/plain": "Windows 10      1072\nNo OS             66\nLinux             62\nWindows 7         45\nChrome OS         26\nmacOS             13\nMac OS X           8\nWindows 10 S       8\nAndroid            2\nName: OpSys, dtype: int64"
     },
     "execution_count": 363,
     "metadata": {},
     "output_type": "execute_result"
    }
   ],
   "source": [
    "df['OpSys'].value_counts()"
   ],
   "metadata": {
    "collapsed": false,
    "pycharm": {
     "name": "#%%\n"
    }
   }
  },
  {
   "cell_type": "code",
   "execution_count": 364,
   "outputs": [
    {
     "name": "stderr",
     "output_type": "stream",
     "text": [
      "C:\\Users\\Taneesha\\anaconda3\\lib\\site-packages\\seaborn\\_decorators.py:36: FutureWarning: Pass the following variables as keyword args: x, y. From version 0.12, the only valid positional argument will be `data`, and passing other arguments without an explicit keyword will result in an error or misinterpretation.\n",
      "  warnings.warn(\n"
     ]
    },
    {
     "data": {
      "text/plain": "<Figure size 432x288 with 1 Axes>",
      "image/png": "[encoded data removed]"
     },
     "metadata": {
      "needs_background": "light"
     },
     "output_type": "display_data"
    }
   ],
   "source": [
    "sn.barplot(df['OpSys'],df['Price'])\n",
    "plt.xticks(rotation = 'vertical')\n",
    "plt.show()"
   ],
   "metadata": {
    "collapsed": false,
    "pycharm": {
     "name": "#%%\n"
    }
   }
  },
  {
   "cell_type": "code",
   "execution_count": 365,
   "outputs": [
    {
     "data": {
      "text/plain": "array(['macOS', 'No OS', 'Windows 10', 'Mac OS X', 'Linux', 'Android',\n       'Windows 10 S', 'Chrome OS', 'Windows 7'], dtype=object)"
     },
     "execution_count": 365,
     "metadata": {},
     "output_type": "execute_result"
    }
   ],
   "source": [
    "df['OpSys'].unique()"
   ],
   "metadata": {
    "collapsed": false,
    "pycharm": {
     "name": "#%%\n"
    }
   }
  },
  {
   "cell_type": "code",
   "execution_count": 366,
   "outputs": [
    {
     "data": {
      "text/plain": "  Company   TypeName  Ram  OpSys  Weight        Price  TouchScreen  IPS  \\\n0   Apple  Ultrabook    8    Mac    1.37   71378.6832            0    1   \n1   Apple  Ultrabook    8    Mac    1.34   47895.5232            0    0   \n2      HP   Notebook    8  Other    1.86   30636.0000            0    0   \n3   Apple  Ultrabook   16    Mac    1.83  135195.3360            0    1   \n4   Apple  Ultrabook    8    Mac    1.37   96095.8080            0    1   \n\n          PPI       CPU_name  HDD  SSD Gpu brand  \n0  226.983005  Intel Core i5    0  128     Intel  \n1  127.677940  Intel Core i5    0    0     Intel  \n2  141.211998  Intel Core i5    0  256     Intel  \n3  220.534624  Intel Core i7    0  512       AMD  \n4  226.983005  Intel Core i5    0  256     Intel  ",
      "text/html": "<div>\n<style scoped>\n    .dataframe tbody tr th:only-of-type {\n        vertical-align: middle;\n    }\n\n    .dataframe tbody tr th {\n        vertical-align: top;\n    }\n\n    .dataframe thead th {\n        text-align: right;\n    }\n</style>\n<table border=\"1\" class=\"dataframe\">\n  <thead>\n    <tr style=\"text-align: right;\">\n      <th></th>\n      <th>Company</th>\n      <th>TypeName</th>\n      <th>Ram</th>\n      <th>OpSys</th>\n      <th>Weight</th>\n      <th>Price</th>\n      <th>TouchScreen</th>\n      <th>IPS</th>\n      <th>PPI</th>\n      <th>CPU_name</th>\n      <th>HDD</th>\n      <th>SSD</th>\n      <th>Gpu brand</th>\n    </tr>\n  </thead>\n  <tbody>\n    <tr>\n      <th>0</th>\n      <td>Apple</td>\n      <td>Ultrabook</td>\n      <td>8</td>\n      <td>Mac</td>\n      <td>1.37</td>\n      <td>71378.6832</td>\n      <td>0</td>\n      <td>1</td>\n      <td>226.983005</td>\n      <td>Intel Core i5</td>\n      <td>0</td>\n      <td>128</td>\n      <td>Intel</td>\n    </tr>\n    <tr>\n      <th>1</th>\n      <td>Apple</td>\n      <td>Ultrabook</td>\n      <td>8</td>\n      <td>Mac</td>\n      <td>1.34</td>\n      <td>47895.5232</td>\n      <td>0</td>\n      <td>0</td>\n      <td>127.677940</td>\n      <td>Intel Core i5</td>\n      <td>0</td>\n      <td>0</td>\n      <td>Intel</td>\n    </tr>\n    <tr>\n      <th>2</th>\n      <td>HP</td>\n      <td>Notebook</td>\n      <td>8</td>\n      <td>Other</td>\n      <td>1.86</td>\n      <td>30636.0000</td>\n      <td>0</td>\n      <td>0</td>\n      <td>141.211998</td>\n      <td>Intel Core i5</td>\n      <td>0</td>\n      <td>256</td>\n      <td>Intel</td>\n    </tr>\n    <tr>\n      <th>3</th>\n      <td>Apple</td>\n      <td>Ultrabook</td>\n      <td>16</td>\n      <td>Mac</td>\n      <td>1.83</td>\n      <td>135195.3360</td>\n      <td>0</td>\n      <td>1</td>\n      <td>220.534624</td>\n      <td>Intel Core i7</td>\n      <td>0</td>\n      <td>512</td>\n      <td>AMD</td>\n    </tr>\n    <tr>\n      <th>4</th>\n      <td>Apple</td>\n      <td>Ultrabook</td>\n      <td>8</td>\n      <td>Mac</td>\n      <td>1.37</td>\n      <td>96095.8080</td>\n      <td>0</td>\n      <td>1</td>\n      <td>226.983005</td>\n      <td>Intel Core i5</td>\n      <td>0</td>\n      <td>256</td>\n      <td>Intel</td>\n    </tr>\n  </tbody>\n</table>\n</div>"
     },
     "execution_count": 366,
     "metadata": {},
     "output_type": "execute_result"
    }
   ],
   "source": [
    "# club {Windows 10,Windows 7,Windows 7 S}-->Windows\n",
    "# club {macOS,mac OS X}--> mac\n",
    "# else return Others\n",
    "\n",
    "def setcategory(text):\n",
    "\n",
    "    if text=='Windows 10' or text=='Windows 7' or text=='Windows 10 S':\n",
    "        return 'Windows'\n",
    "\n",
    "    elif text=='Mac OS X' or text=='macOS':\n",
    "        return 'Mac'\n",
    "\n",
    "    else:\n",
    "        return 'Other'\n",
    "\n",
    "\n",
    "df['OpSys'] = df['OpSys'].apply(lambda x:setcategory(x))\n",
    "\n",
    "df.head()"
   ],
   "metadata": {
    "collapsed": false,
    "pycharm": {
     "name": "#%%\n"
    }
   }
  },
  {
   "cell_type": "code",
   "execution_count": 367,
   "outputs": [
    {
     "data": {
      "text/plain": "     Company            TypeName  Ram    OpSys  Weight        Price  \\\n129       HP            Notebook    8  Windows    2.50   49443.8400   \n145     Asus           Ultrabook    8  Windows    1.25   58554.7200   \n1295    Dell            Notebook    8    Other    2.30   42943.1472   \n1256    Asus              Gaming   16  Windows    4.00  101232.0000   \n273   Lenovo  2 in 1 Convertible   16  Windows    1.36  133146.7200   \n\n      TouchScreen  IPS         PPI       CPU_name   HDD  SSD Gpu brand  \n129             0    0  127.335675  Intel Core i5     0  256     Intel  \n145             0    0  157.350512  Intel Core i7     0  256     Intel  \n1295            0    0  100.454670  Intel Core i7  1000    0       AMD  \n1256            0    1  127.335675  Intel Core i7  1000  128    Nvidia  \n273             1    0  209.800683  Intel Core i7     0  512     Intel  ",
      "text/html": "<div>\n<style scoped>\n    .dataframe tbody tr th:only-of-type {\n        vertical-align: middle;\n    }\n\n    .dataframe tbody tr th {\n        vertical-align: top;\n    }\n\n    .dataframe thead th {\n        text-align: right;\n    }\n</style>\n<table border=\"1\" class=\"dataframe\">\n  <thead>\n    <tr style=\"text-align: right;\">\n      <th></th>\n      <th>Company</th>\n      <th>TypeName</th>\n      <th>Ram</th>\n      <th>OpSys</th>\n      <th>Weight</th>\n      <th>Price</th>\n      <th>TouchScreen</th>\n      <th>IPS</th>\n      <th>PPI</th>\n      <th>CPU_name</th>\n      <th>HDD</th>\n      <th>SSD</th>\n      <th>Gpu brand</th>\n    </tr>\n  </thead>\n  <tbody>\n    <tr>\n      <th>129</th>\n      <td>HP</td>\n      <td>Notebook</td>\n      <td>8</td>\n      <td>Windows</td>\n      <td>2.50</td>\n      <td>49443.8400</td>\n      <td>0</td>\n      <td>0</td>\n      <td>127.335675</td>\n      <td>Intel Core i5</td>\n      <td>0</td>\n      <td>256</td>\n      <td>Intel</td>\n    </tr>\n    <tr>\n      <th>145</th>\n      <td>Asus</td>\n      <td>Ultrabook</td>\n      <td>8</td>\n      <td>Windows</td>\n      <td>1.25</td>\n      <td>58554.7200</td>\n      <td>0</td>\n      <td>0</td>\n      <td>157.350512</td>\n      <td>Intel Core i7</td>\n      <td>0</td>\n      <td>256</td>\n      <td>Intel</td>\n    </tr>\n    <tr>\n      <th>1295</th>\n      <td>Dell</td>\n      <td>Notebook</td>\n      <td>8</td>\n      <td>Other</td>\n      <td>2.30</td>\n      <td>42943.1472</td>\n      <td>0</td>\n      <td>0</td>\n      <td>100.454670</td>\n      <td>Intel Core i7</td>\n      <td>1000</td>\n      <td>0</td>\n      <td>AMD</td>\n    </tr>\n    <tr>\n      <th>1256</th>\n      <td>Asus</td>\n      <td>Gaming</td>\n      <td>16</td>\n      <td>Windows</td>\n      <td>4.00</td>\n      <td>101232.0000</td>\n      <td>0</td>\n      <td>1</td>\n      <td>127.335675</td>\n      <td>Intel Core i7</td>\n      <td>1000</td>\n      <td>128</td>\n      <td>Nvidia</td>\n    </tr>\n    <tr>\n      <th>273</th>\n      <td>Lenovo</td>\n      <td>2 in 1 Convertible</td>\n      <td>16</td>\n      <td>Windows</td>\n      <td>1.36</td>\n      <td>133146.7200</td>\n      <td>1</td>\n      <td>0</td>\n      <td>209.800683</td>\n      <td>Intel Core i7</td>\n      <td>0</td>\n      <td>512</td>\n      <td>Intel</td>\n    </tr>\n  </tbody>\n</table>\n</div>"
     },
     "execution_count": 367,
     "metadata": {},
     "output_type": "execute_result"
    }
   ],
   "source": [
    "df.sample(5)"
   ],
   "metadata": {
    "collapsed": false,
    "pycharm": {
     "name": "#%%\n"
    }
   }
  },
  {
   "cell_type": "code",
   "execution_count": 368,
   "outputs": [
    {
     "name": "stderr",
     "output_type": "stream",
     "text": [
      "C:\\Users\\Taneesha\\anaconda3\\lib\\site-packages\\seaborn\\_decorators.py:36: FutureWarning: Pass the following variable as a keyword arg: x. From version 0.12, the only valid positional argument will be `data`, and passing other arguments without an explicit keyword will result in an error or misinterpretation.\n",
      "  warnings.warn(\n"
     ]
    },
    {
     "data": {
      "text/plain": "<AxesSubplot:xlabel='OpSys', ylabel='count'>"
     },
     "execution_count": 368,
     "metadata": {},
     "output_type": "execute_result"
    },
    {
     "data": {
      "text/plain": "<Figure size 432x288 with 1 Axes>",
      "image/png": "[encoded data removed]"
     },
     "metadata": {
      "needs_background": "light"
     },
     "output_type": "display_data"
    }
   ],
   "source": [
    "sn.countplot(df['OpSys'],palette='plasma')"
   ],
   "metadata": {
    "collapsed": false,
    "pycharm": {
     "name": "#%%\n"
    }
   }
  },
  {
   "cell_type": "code",
   "execution_count": 369,
   "outputs": [
    {
     "data": {
      "text/plain": "(array([0, 1, 2]),\n [Text(0, 0, 'Mac'), Text(1, 0, 'Other'), Text(2, 0, 'Windows')])"
     },
     "execution_count": 369,
     "metadata": {},
     "output_type": "execute_result"
    },
    {
     "data": {
      "text/plain": "<Figure size 432x288 with 1 Axes>",
      "image/png": "[encoded data removed]"
     },
     "metadata": {
      "needs_background": "light"
     },
     "output_type": "display_data"
    }
   ],
   "source": [
    "sn.barplot(x = df['OpSys'],y = df['Price'])\n",
    "plt.xticks(rotation = 'vertical')"
   ],
   "metadata": {
    "collapsed": false,
    "pycharm": {
     "name": "#%%\n"
    }
   }
  },
  {
   "cell_type": "code",
   "execution_count": 370,
   "outputs": [
    {
     "name": "stderr",
     "output_type": "stream",
     "text": [
      "C:\\Users\\Taneesha\\anaconda3\\lib\\site-packages\\seaborn\\distributions.py:2619: FutureWarning: `distplot` is a deprecated function and will be removed in a future version. Please adapt your code to use either `displot` (a figure-level function with similar flexibility) or `histplot` (an axes-level function for histograms).\n",
      "  warnings.warn(msg, FutureWarning)\n"
     ]
    },
    {
     "data": {
      "text/plain": "<AxesSubplot:xlabel='Weight', ylabel='Density'>"
     },
     "execution_count": 370,
     "metadata": {},
     "output_type": "execute_result"
    },
    {
     "data": {
      "text/plain": "<Figure size 432x288 with 1 Axes>",
      "image/png": "[encoded data removed]"
     },
     "metadata": {
      "needs_background": "light"
     },
     "output_type": "display_data"
    }
   ],
   "source": [
    "sn.distplot(df['Weight'])"
   ],
   "metadata": {
    "collapsed": false,
    "pycharm": {
     "name": "#%%\n"
    }
   }
  },
  {
   "cell_type": "code",
   "execution_count": 371,
   "outputs": [
    {
     "name": "stderr",
     "output_type": "stream",
     "text": [
      "C:\\Users\\Taneesha\\anaconda3\\lib\\site-packages\\seaborn\\_decorators.py:36: FutureWarning: Pass the following variables as keyword args: x, y. From version 0.12, the only valid positional argument will be `data`, and passing other arguments without an explicit keyword will result in an error or misinterpretation.\n",
      "  warnings.warn(\n"
     ]
    },
    {
     "data": {
      "text/plain": "<AxesSubplot:xlabel='Weight', ylabel='Price'>"
     },
     "execution_count": 371,
     "metadata": {},
     "output_type": "execute_result"
    },
    {
     "data": {
      "text/plain": "<Figure size 432x288 with 1 Axes>",
      "image/png": "[encoded data removed]"
     },
     "metadata": {
      "needs_background": "light"
     },
     "output_type": "display_data"
    }
   ],
   "source": [
    "sn.scatterplot(df['Weight'],df['Price'])"
   ],
   "metadata": {
    "collapsed": false,
    "pycharm": {
     "name": "#%%\n"
    }
   }
  },
  {
   "cell_type": "code",
   "execution_count": 372,
   "outputs": [
    {
     "name": "stderr",
     "output_type": "stream",
     "text": [
      "C:\\Users\\Taneesha\\anaconda3\\lib\\site-packages\\seaborn\\distributions.py:2619: FutureWarning: `distplot` is a deprecated function and will be removed in a future version. Please adapt your code to use either `displot` (a figure-level function with similar flexibility) or `histplot` (an axes-level function for histograms).\n",
      "  warnings.warn(msg, FutureWarning)\n"
     ]
    },
    {
     "data": {
      "text/plain": "<AxesSubplot:xlabel='Price', ylabel='Density'>"
     },
     "execution_count": 372,
     "metadata": {},
     "output_type": "execute_result"
    },
    {
     "data": {
      "text/plain": "<Figure size 432x288 with 1 Axes>",
      "image/png": "[encoded data removed]"
     },
     "metadata": {
      "needs_background": "light"
     },
     "output_type": "display_data"
    }
   ],
   "source": [
    "sn.distplot(df['Price'])"
   ],
   "metadata": {
    "collapsed": false,
    "pycharm": {
     "name": "#%%\n"
    }
   }
  },
  {
   "cell_type": "code",
   "execution_count": 373,
   "outputs": [
    {
     "name": "stderr",
     "output_type": "stream",
     "text": [
      "C:\\Users\\Taneesha\\anaconda3\\lib\\site-packages\\seaborn\\distributions.py:2619: FutureWarning: `distplot` is a deprecated function and will be removed in a future version. Please adapt your code to use either `displot` (a figure-level function with similar flexibility) or `histplot` (an axes-level function for histograms).\n",
      "  warnings.warn(msg, FutureWarning)\n"
     ]
    },
    {
     "data": {
      "text/plain": "<AxesSubplot:xlabel='Price', ylabel='Density'>"
     },
     "execution_count": 373,
     "metadata": {},
     "output_type": "execute_result"
    },
    {
     "data": {
      "text/plain": "<Figure size 432x288 with 1 Axes>",
      "image/png": "[encoded data removed]"
     },
     "metadata": {
      "needs_background": "light"
     },
     "output_type": "display_data"
    }
   ],
   "source": [
    "# so if we apply np.log to the Price col we get a gaussian distibution\n",
    "\n",
    "sn.distplot(np.log(df['Price']))"
   ],
   "metadata": {
    "collapsed": false,
    "pycharm": {
     "name": "#%%\n"
    }
   }
  },
  {
   "cell_type": "code",
   "execution_count": 374,
   "outputs": [
    {
     "data": {
      "text/plain": "Ram            0.742905\nWeight         0.209867\nPrice          1.000000\nTouchScreen    0.192917\nIPS            0.253320\nPPI            0.475368\nHDD           -0.096891\nSSD            0.670660\nName: Price, dtype: float64"
     },
     "execution_count": 374,
     "metadata": {},
     "output_type": "execute_result"
    }
   ],
   "source": [
    "## correlation with price\n",
    "\n",
    "df.corr()['Price']"
   ],
   "metadata": {
    "collapsed": false,
    "pycharm": {
     "name": "#%%\n"
    }
   }
  },
  {
   "cell_type": "code",
   "execution_count": 375,
   "outputs": [
    {
     "data": {
      "text/plain": "<AxesSubplot:>"
     },
     "execution_count": 375,
     "metadata": {},
     "output_type": "execute_result"
    },
    {
     "data": {
      "text/plain": "<Figure size 720x360 with 2 Axes>",
      "image/png": "[encoded data removed]"
     },
     "metadata": {
      "needs_background": "light"
     },
     "output_type": "display_data"
    }
   ],
   "source": [
    "plt.figure(figsize=(10,5))\n",
    "sn.heatmap(df.corr(),annot=True,cmap='plasma')"
   ],
   "metadata": {
    "collapsed": false,
    "pycharm": {
     "name": "#%%\n"
    }
   }
  },
  {
   "cell_type": "code",
   "execution_count": 376,
   "outputs": [],
   "source": [
    "df.to_csv('traineddata1.csv',index=None)"
   ],
   "metadata": {
    "collapsed": false,
    "pycharm": {
     "name": "#%%\n"
    }
   }
  },
  {
   "cell_type": "markdown",
   "source": [
    "Model Building"
   ],
   "metadata": {
    "collapsed": false,
    "pycharm": {
     "name": "#%% md\n"
    }
   }
  },
  {
   "cell_type": "code",
   "execution_count": 377,
   "outputs": [],
   "source": [
    "test = np.log(df['Price'])\n",
    "train = df.drop(['Price'],axis = 1)"
   ],
   "metadata": {
    "collapsed": false,
    "pycharm": {
     "name": "#%%\n"
    }
   }
  },
  {
   "cell_type": "code",
   "execution_count": 378,
   "outputs": [],
   "source": [
    "from sklearn.model_selection import train_test_split\n",
    "from sklearn.preprocessing import MinMaxScaler,StandardScaler\n",
    "from sklearn.pipeline import Pipeline\n",
    "from sklearn.compose import ColumnTransformer\n",
    "from sklearn.preprocessing import LabelEncoder,OneHotEncoder\n",
    "from sklearn import metrics\n",
    "from sklearn.model_selection import RandomizedSearchCV\n",
    "from sklearn.linear_model import LinearRegression,Lasso,Ridge\n",
    "from sklearn.tree import DecisionTreeRegressor\n",
    "from sklearn.ensemble import RandomForestRegressor,GradientBoostingRegressor\n",
    "# from xgboost import XGBRegressor\n",
    "from sklearn.svm import SVR\n",
    "from sklearn.neighbors import KNeighborsRegressor\n",
    "from sklearn import tree"
   ],
   "metadata": {
    "collapsed": false,
    "pycharm": {
     "name": "#%%\n"
    }
   }
  },
  {
   "cell_type": "code",
   "execution_count": 379,
   "outputs": [
    {
     "data": {
      "text/plain": "((1106, 12), (196, 12))"
     },
     "execution_count": 379,
     "metadata": {},
     "output_type": "execute_result"
    }
   ],
   "source": [
    "X_train, X_test, y_train, y_test = train_test_split(train,test,\n",
    "                                                   test_size=0.15,random_state=2)\n",
    "\n",
    "X_train.shape,X_test.shape"
   ],
   "metadata": {
    "collapsed": false,
    "pycharm": {
     "name": "#%%\n"
    }
   }
  },
  {
   "cell_type": "code",
   "execution_count": 380,
   "outputs": [
    {
     "data": {
      "text/plain": "{0: 'Company',\n 1: 'TypeName',\n 2: 'Ram',\n 3: 'OpSys',\n 4: 'Weight',\n 5: 'TouchScreen',\n 6: 'IPS',\n 7: 'PPI',\n 8: 'CPU_name',\n 9: 'HDD',\n 10: 'SSD',\n 11: 'Gpu brand'}"
     },
     "execution_count": 380,
     "metadata": {},
     "output_type": "execute_result"
    }
   ],
   "source": [
    "mapper = {i:value for i,value in enumerate(X_train.columns)}\n",
    "mapper"
   ],
   "metadata": {
    "collapsed": false,
    "pycharm": {
     "name": "#%%\n"
    }
   }
  },
  {
   "cell_type": "markdown",
   "source": [
    "Linear Regression"
   ],
   "metadata": {
    "collapsed": false,
    "pycharm": {
     "name": "#%% md\n"
    }
   }
  },
  {
   "cell_type": "code",
   "execution_count": 381,
   "outputs": [
    {
     "name": "stdout",
     "output_type": "stream",
     "text": [
      "R2 score 0.8073277448418433\n",
      "MAE 0.21017827976429318\n"
     ]
    }
   ],
   "source": [
    "# we will apply one hot encoding on the columns with this indices-->[0,1,3,8,11]\n",
    "# the remainder we keep as passthrough i.e no other col must get effected\n",
    "# except the ones undergoing the transformation!\n",
    "\n",
    "step1 = ColumnTransformer(transformers=[\n",
    "    ('col_tnf',OneHotEncoder(sparse=False,drop='first'),[0,1,3,8,11])\n",
    "],remainder='passthrough')\n",
    "\n",
    "step2 = LinearRegression()\n",
    "\n",
    "pipe = Pipeline([\n",
    "    ('step1',step1),\n",
    "    ('step2',step2)\n",
    "])\n",
    "\n",
    "pipe.fit(X_train,y_train)\n",
    "\n",
    "y_pred = pipe.predict(X_test)\n",
    "\n",
    "print('R2 score',metrics.r2_score(y_test,y_pred))\n",
    "print('MAE',metrics.mean_absolute_error(y_test,y_pred))"
   ],
   "metadata": {
    "collapsed": false,
    "pycharm": {
     "name": "#%%\n"
    }
   }
  },
  {
   "cell_type": "code",
   "execution_count": 382,
   "outputs": [
    {
     "data": {
      "text/plain": "1.2336780599567432"
     },
     "execution_count": 382,
     "metadata": {},
     "output_type": "execute_result"
    }
   ],
   "source": [
    "## now mae is 0.21 so if you want to check how much difference is there do this\n",
    "\n",
    "## we see there is a difference of 1.23 only as per the orignal value\n",
    "## that is our model predicts +-0.21 more/less than the original price!\n",
    "\n",
    "np.exp(0.21)"
   ],
   "metadata": {
    "collapsed": false,
    "pycharm": {
     "name": "#%%\n"
    }
   }
  },
  {
   "cell_type": "markdown",
   "source": [
    "Ridge Regression"
   ],
   "metadata": {
    "collapsed": false,
    "pycharm": {
     "name": "#%% md\n"
    }
   }
  },
  {
   "cell_type": "code",
   "execution_count": 383,
   "outputs": [
    {
     "name": "stdout",
     "output_type": "stream",
     "text": [
      "R2 score 0.8127331031311809\n",
      "MAE 0.20926802242582962\n"
     ]
    }
   ],
   "source": [
    "# we will apply one hot encoding on the columns with this indices-->[0,1,3,8,11]\n",
    "# the remainder we keep as passthrough i.e no other col must get effected\n",
    "# except the ones undergoing the transformation!\n",
    "\n",
    "step1 = ColumnTransformer(transformers=[\n",
    "    ('col_tnf',OneHotEncoder(sparse=False,drop='first'),[0,1,3,8,11])\n",
    "],remainder='passthrough')\n",
    "\n",
    "step2 = Ridge(alpha=10)\n",
    "\n",
    "pipe = Pipeline([\n",
    "    ('step1',step1),\n",
    "    ('step2',step2)\n",
    "])\n",
    "\n",
    "pipe.fit(X_train,y_train)\n",
    "\n",
    "y_pred = pipe.predict(X_test)\n",
    "\n",
    "print('R2 score',metrics.r2_score(y_test,y_pred))\n",
    "print('MAE',metrics.mean_absolute_error(y_test,y_pred))"
   ],
   "metadata": {
    "collapsed": false,
    "pycharm": {
     "name": "#%%\n"
    }
   }
  },
  {
   "cell_type": "markdown",
   "source": [
    "LassoRegression"
   ],
   "metadata": {
    "collapsed": false,
    "pycharm": {
     "name": "#%% md\n"
    }
   }
  },
  {
   "cell_type": "code",
   "execution_count": 384,
   "outputs": [
    {
     "name": "stdout",
     "output_type": "stream",
     "text": [
      "R2 score 0.8071857196899419\n",
      "MAE 0.21114350716913136\n"
     ]
    }
   ],
   "source": [
    "# we will apply one hot encoding on the columns with this indices-->[0,1,3,8,11]\n",
    "# the remainder we keep as passthrough i.e no other col must get effected\n",
    "# except the ones undergoing the transformation!\n",
    "\n",
    "step1 = ColumnTransformer(transformers=[\n",
    "    ('col_tnf',OneHotEncoder(sparse=False,drop='first'),[0,1,3,8,11])\n",
    "],remainder='passthrough')\n",
    "\n",
    "step2 = Lasso(alpha=0.001)\n",
    "\n",
    "pipe = Pipeline([\n",
    "    ('step1',step1),\n",
    "    ('step2',step2)\n",
    "])\n",
    "\n",
    "pipe.fit(X_train,y_train)\n",
    "\n",
    "y_pred = pipe.predict(X_test)\n",
    "\n",
    "print('R2 score',metrics.r2_score(y_test,y_pred))\n",
    "print('MAE',metrics.mean_absolute_error(y_test,y_pred))"
   ],
   "metadata": {
    "collapsed": false,
    "pycharm": {
     "name": "#%%\n"
    }
   }
  },
  {
   "cell_type": "markdown",
   "source": [
    "Decision Tree"
   ],
   "metadata": {
    "collapsed": false,
    "pycharm": {
     "name": "#%% md\n"
    }
   }
  },
  {
   "cell_type": "code",
   "execution_count": 385,
   "outputs": [
    {
     "name": "stdout",
     "output_type": "stream",
     "text": [
      "R2 score 0.8473575373444897\n",
      "MAE 0.17899263564601442\n"
     ]
    }
   ],
   "source": [
    "# we will apply one hot encoding on the columns with this indices-->[0,1,3,8,11]\n",
    "# the remainder we keep as passthrough i.e no other col must get effected\n",
    "# except the ones undergoing the transformation!\n",
    "\n",
    "step1 = ColumnTransformer(transformers=[\n",
    "    ('col_tnf',OneHotEncoder(sparse=False,drop='first'),[0,1,3,8,11])\n",
    "],remainder='passthrough')\n",
    "\n",
    "step2 = DecisionTreeRegressor(max_depth=8)\n",
    "\n",
    "pipe = Pipeline([\n",
    "    ('step1',step1),\n",
    "    ('step2',step2)\n",
    "])\n",
    "\n",
    "pipe.fit(X_train,y_train)\n",
    "\n",
    "y_pred = pipe.predict(X_test)\n",
    "\n",
    "print('R2 score',metrics.r2_score(y_test,y_pred))\n",
    "print('MAE',metrics.mean_absolute_error(y_test,y_pred))"
   ],
   "metadata": {
    "collapsed": false,
    "pycharm": {
     "name": "#%%\n"
    }
   }
  },
  {
   "cell_type": "markdown",
   "source": [
    "Random Forest"
   ],
   "metadata": {
    "collapsed": false,
    "pycharm": {
     "name": "#%% md\n"
    }
   }
  },
  {
   "cell_type": "code",
   "execution_count": 386,
   "outputs": [
    {
     "name": "stdout",
     "output_type": "stream",
     "text": [
      "R2 score 0.8851499847098487\n",
      "MAE 0.15870252595141304\n"
     ]
    }
   ],
   "source": [
    "step1 = ColumnTransformer(transformers=[\n",
    "    ('col_tnf',OneHotEncoder(sparse=False,drop='first'),[0,1,3,8,11])\n",
    "],remainder='passthrough')\n",
    "\n",
    "step2 = RandomForestRegressor(n_estimators=100,\n",
    "                              random_state=3,\n",
    "                              max_samples=0.5,\n",
    "                              max_features=0.75,\n",
    "                              max_depth=15)\n",
    "\n",
    "pipe = Pipeline([\n",
    "    ('step1',step1),\n",
    "    ('step2',step2)\n",
    "])\n",
    "\n",
    "pipe.fit(X_train,y_train)\n",
    "\n",
    "y_pred = pipe.predict(X_test)\n",
    "\n",
    "print('R2 score',metrics.r2_score(y_test,y_pred))\n",
    "print('MAE',metrics.mean_absolute_error(y_test,y_pred))"
   ],
   "metadata": {
    "collapsed": false,
    "pycharm": {
     "name": "#%%\n"
    }
   }
  },
  {
   "cell_type": "markdown",
   "source": [
    "add comment"
   ],
   "metadata": {
    "collapsed": false,
    "pycharm": {
     "name": "#%% md\n"
    }
   }
  }
 ],
 "metadata": {
  "kernelspec": {
   "display_name": "Python 3",
   "language": "python",
   "name": "python3"
  },
  "language_info": {
   "codemirror_mode": {
    "name": "ipython",
    "version": 2
   },
   "file_extension": ".py",
   "mimetype": "text/x-python",
   "name": "python",
   "nbconvert_exporter": "python",
   "pygments_lexer": "ipython2",
   "version": "2.7.6"
  }
 },
 "nbformat": 4,
 "nbformat_minor": 0
}